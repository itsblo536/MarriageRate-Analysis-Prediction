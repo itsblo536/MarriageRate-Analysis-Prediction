{
 "cells": [
  {
   "cell_type": "markdown",
   "id": "3849f592",
   "metadata": {},
   "source": [
    "# Final Project \n",
    "\n",
    "**Name/NetIDs:** Maywa Padungrat (tp267), Brendan Lo (bl536), Shirley Lee (yl3322), Tayapa Ungsrisawasdi (tu52) \n",
    "\n",
    "### Introduction \n",
    "\n",
    "For the purposes of this study, we are going to explore how age and wealth affect the marriage rates in the United Kingdom, Italy, Germany, Austria, Switzerland, Japan, Mexico, Canada, United States, and Australia. We will also explore how cohabitation and birth outside of marriage affect the marriage rates in the United States.Then, we will compare the results within and between each country. To further enhance the effect of age and wealth on marriage rates, we will be comparing the marriage rates between countries with similar population sizes and between countries within different continents to limit the effects of confounding variables like population size and possibly cultural differences.\n",
    "\n",
    "\n",
    "### Research Questions\n",
    "- What factors (age and wealth) show the strongest correlation with marriage rates for European countries?\n",
    "- What factors (age, wealth, cohabitation, or birth outside of marriage) show the strongest correlation with marriage rates in the U.S.?\n",
    "- What factors (age and wealth) show the strongest correlation with marriage rates in relation to population size?\n",
    "- Does each continent display the same relationship (positive/negative/neutral) between these factors and marriage rates?\n",
    "- Does each country display the same relationship (positive/negative/neutral) between these factors and marriage rates?\n",
    "- Do countries with similar population sizes display the same relationship (positive/negative/neutral) between these factors and marriage rates?\n",
    "- How does each factor, individually, affect marriage rates in each continent? \n",
    "- How does each factor, individually, affect marriage rates in each country? \n",
    "- How does each factor, individually, affect marriage rates in each population size group?\n",
    "- Is there a correlation between age and wealth?\n",
    "- How do historical marriage rates (in the last 30 years) compare to recent marriage rates in those countries?\n",
    "- How do these changes compare between continents? Which continent is experiencing the biggest change in marriage rates within the last 30 years?\n",
    "- How do these changes compare between countries? Which country is experiencing the biggest change in marriage rates within the last 30 years?\n",
    "- Is there a correlation between population size and marriage? \n",
    "- Is there a correlation between cohabitation and birth outside of marriage?\n",
    "\n",
    "As a follow-up to this study, one may possibly look into the different “cultural factors” or factors associated with population sizes to further understand the effects of it on marriage rates in a more in-depth analysis. \n",
    "\n",
    "\n",
    "### Preregistration Statement \n",
    "\n",
    "**Hypothesis 1**: Countries within greater proximities will exhibit higher correlations between average marriage age and marriage rates. \n",
    "\n",
    "**Hypothesis 2**: Countries with similar population sizes will exhibit higher correlations between average marriage and marriage rates, although not as high compared to countries within greater proximities. \n",
    "\n",
    "\n",
    "### Other Hypotheses \n",
    "- **Hypothesis 3**: We predict that wealth would be the factor that shows the strongest correlation with marriage rates in the United States. \n",
    "\n",
    "- **Hypothesis 4**: We predict that each country would display the same/similar relationship between average marriage age and marriage rates. \n",
    "\n",
    "- **Hypothesis 5**:However, we predict that there won't be a significant correlation or similarity based on population size. \n",
    "\n",
    "- **Hypothesis 6**: We believe that there wouldn't be a correlation between population size and marriage. \n",
    "\n",
    "- **Hypothesis 7**: We also believe that there could be a correlation between the factors. We believe that there could be a strong correlation between cohabitation and birth outside of marriage and a strong correlation betwen age and wealth.\n",
    "\n",
    "\n",
    "### Final Data\n",
    "\n",
    "**Raw Data:**\n",
    "\n",
    "You can find the raw source data from https://ourworldindata.org/marriages-and-divorces.\n",
    "\n",
    "***What are the observations (rows) and the attributes (columns)?***\n",
    "\n",
    "For the cleaned marriage_df dataset, we have columns of Entity (Country) and Year which yields the observation of Crude Marriage Rate. \n",
    "Similarly, for cleaned age_df, we have the same columns but with observation of Average Marriage Age. \n",
    "In our cleaned networth_df, we get the observation of Total Net Worth to the according attribute of dates (year:quarter).\n",
    "Furthermore, our outside_birth_df has different years as rows and birth outside of marriage in percentage (% of all births) as our columns. \n",
    "In our Cohabitation_df, the columns are years (named as ‘Years’) and cohabitation rates (named as ‘Percent_num’), where the rows display cohabitation rates observations for each year from 1990-2021.\n",
    "\n",
    "\n",
    "***Why was this dataset created?***\n",
    "\n",
    "Our World in Data, a scientific online publication presented the data behind fast changes in marriages where they are becoming less common, people marrying later, unmarried couples increasingly choosing to live together, and increasing rate of divorce. It elaborates on some main drivers to these widespread changes.\n",
    "\n",
    "\n",
    "***Who funded the creation of the dataset?***\n",
    "\n",
    "Research by Our World in Data is supported by grants from the Quadrature Climate Foundation, the Bill and Melinda Gates Foundation, and a grant from the German entrepreneur, businesswoman and philanthropist Susanne Klatten.\n",
    "\n",
    "\n",
    "***What processes might have influenced what data was observed and recorded and what was not?***\n",
    "\n",
    "There are several factors that might have influenced what data was observed and recorded. First, there might have been a limitation in data collection due to accessibility. The national-wide data collection would have been unable to collect all the data from rural areas where there is a lack of labor and slow tech development. \n",
    "Furthermore, the rates that we have observed could have been influenced by the pandemic throughout 2019-2022 which is not taken into consideration in the raw dataset. \n",
    "Lastly, there isn't every data from each country for each year in our raw data which estimates the trend of each observation. \n",
    "\n",
    "\n",
    "***What preprocessing was done, and how did the data come to be in the form that you are using?***\n",
    "\n",
    "The dataset that we get from the source relies on multiple sources from different countries such as by continent. After preprocessing the data, we could access the combined / organized dataset for the entire global population.\n",
    "\n",
    "***If people are involved, were they aware of the data collection and if so, what purpose did they expect the data to be used for?***\n",
    "\n",
    "Our data collection differs by continent or country coming from census data, survey data, historical records, and national statistical agencies. For instance, European data comes from the Eurostat dataset where utilizes data from statistical authorities in EU countries while the US dataset comes from Carter et al. (2006) for the period of 1920-1995, the US Census Bureau (2007) for the period 1996-2004 and CDC for the period 2005 to present. For other non-European countries that are OECD members, the data is collected from the OECD Family Database. Lastly, the UN World Marriage Database is used for all other countries. \n",
    "These datasets are collected directly through censuses, surveys, a set of questionnaires or from local jurisdictions and territories. Thus, subjects were likely to have been aware of the data collection expecting their responses being used for further research or national data usage.\n",
    "\n",
    "\n",
    "### Data Uses\n",
    "\n",
    "The dataset has been used for several purposes. For instance, it had been referenced for a book titled Rise and Fall: A Discourse Upon the Phenomena of Civilisation and Decline, that dive into the “cyclical patterns of civilization.” It has also been cited in publications that focus on “divorce and separation filings” in certain countries such as the Decline in Rate of Divorce and Separation Filings in Denmark in 2020 Compared with Previous Years. \n",
    "\n",
    "The data should not be used for any experimental designs because there are no controlled variables and none of the marriage rates or factors in the raw data are measured in a controlled environment. Therefore, a lot of confounding variables may be present so one can not use the data to conclude on a causal relationship.\n",
    "\n",
    "\n",
    "### Data Limitations\n",
    "\n",
    "The dataset on population, age and marriage filings is collected from reputable sources such as the United Nations. The United Nations obtains its information from national statistical offices, which collects census data from administrative recording systems. Therefore, the dataset theoretically contains all possible instances for age and marital status. \n",
    "\n",
    "The dataset on U.S. cohabitation rates for partners, however, does not contain all possible instances as it is based on a sample. The data is obtained from the Annual Social and Economic Supplement (ASEC) of the Current Population Survey (CPS). The notice is mailed and telephone/in-person interviews are conducted for the sample. Because of this, there may be a huge sampling error that could arise from nonresponse and other obstacles such as language barriers and for those who are difficult to locate. In addition, the data is limited to those under 18 years of age and cohabitation is defined as POSSLQ (persons of opposite sex sharing living quarters). Therefore, this excludes relationships where individuals are under 18 and partners are of the same sex, which could heavily underestimate the cohabitation rate. This could blur the relationship between cohabitation rates and marriage rates in the U.S., especially when same-sex marriage is legalized. \n",
    "\n",
    "For U.S. births outside of marriage, the data were collected from Centres for Disease Control and Prevention where the dataset should contain all possible instances for births that are recorded, especially at hospitals. However, not all births would have been recorded in areas with lack of accessibility such as technology where the center cannot obtain all information. Furthermore, CDC receives data from 50 states and 3000+ local jurisdictions and territories under agreements. Thus, it is up to each city, county, and state to decide which information to share where we see nonresponse challenges throughout the data collection. \n",
    "\n",
    "Nevertheless, there may be some marriage filings that are not officially recorded nor individuals living in the country without records in the government system. The census in each country, for instance, can also undercount or overcount the population. Those who are undercounted are more likely to be in poverty, not have access to the internet, or move around a lot. Those who are overcounted, on the other hand, are more likely to come from white and richer backgrounds as it often happens when one is counted both at home and at school. \n",
    "\n",
    "Therefore, this could cause a certain skew in the data where wealthier people comprise a larger percentage of the population than the actual value. Since a higher number of relatively affluent people are recorded in the data, the graphs could demonstrate a stronger correlation between wealth and marriage rates than the true nature. The same could apply to marriage filings, where the poor officially report them less compared to the wealthy. Thus, there could be an underestimation for the relatively poor population in terms of the number of marriage filings. \n",
    "\n",
    "The United Nations World Marriage Data could have collected users’ names and addresses as well but it stated that “such information will be used only for statistical purposes and will not be published for general access.” Also, there is confidential partnership status data that they exclude from the dataset, causing some needs for rounding (to add up to 100%). This could further create some bias in the data as it is not the true representation of the entire population of a country.\n"
   ]
  },
  {
   "cell_type": "code",
   "execution_count": 2,
   "id": "ae2b228e",
   "metadata": {},
   "outputs": [],
   "source": [
    "import pandas as pd\n",
    "import numpy as np\n",
    "import time\n",
    "import sklearn \n",
    "\n",
    "import seaborn\n",
    "from matplotlib import pyplot\n",
    "\n",
    "from sklearn.linear_model import LogisticRegression\n",
    "from sklearn.linear_model import LinearRegression\n",
    "from sklearn.model_selection import train_test_split, KFold, cross_val_score\n",
    "\n",
    "%load_ext sql\n",
    "\n",
    "%config SqlMagic.autopandas = True\n",
    "%config SqlMagic.feedback = False\n",
    "%config SqlMagic.displaycon = False\n",
    "\n",
    "%sql duckdb:///:memory:"
   ]
  },
  {
   "cell_type": "markdown",
   "id": "fefee7ce",
   "metadata": {},
   "source": [
    "Here, we created a general function calc_summary_stats to calculate and return the mean, standard deviation, and median of a given input data. Throughout our project, we had many different factors and datasets we worked with, so this function helps reduce redundancy when calculating summary statistics for different factors or datasets."
   ]
  },
  {
   "cell_type": "code",
   "execution_count": 3,
   "id": "cfd311a1",
   "metadata": {},
   "outputs": [],
   "source": [
    "def calc_summary_stats(df):\n",
    "    print (f\"Summary Stats for {df.name}:\\n\", f\"Mean: {np.mean(df)}\\n\", f\"Standard Deviation: {np.std(df)}\\n\", f\"Median: {np.median(df)}\")"
   ]
  },
  {
   "cell_type": "markdown",
   "id": "f0bc0b6e",
   "metadata": {},
   "source": [
    "## Data Cleaning: marriage_df (Crude Marriage Rates)\n",
    "\n",
    "In order to clean the data, we changed the name of Crude Marriage Rate column from \"Crude marriage rate (per 1,000 inhabitants)\" to \"CrudeMarriageRate\" to avoid any SQL errors.  \n",
    "\n",
    "In terms of data cleaning, the \"code\" column was removed because it wasn't relevant for data analysis/exploration as it was redundant. ALB = Albania or Vietnam = VNM and we're planning to analyze the geography so the code wasn't necessary. \n",
    "\n",
    "The dataset had 183 different countries and plotting all the data in one graph would be difficult to analyze. Therefore, at first, we wanted to limit the data to only the United States, United Kingdom and Hong Kong (country in Asia) to get a diverse range of data/countries. However, we realized that Hong Kong is a smaller country which could be an outlier. \n",
    "\n",
    "As a result, we decided to manually list out all the countries in the dataset to see how large our dataset is for marriage_df and age_df, the population, and the continent. We wanted to compare in a broad manner so we decided to plot all of them together and later analyze specific countries that may have a similar trend based on population and geography (could be influenced by culture). The countries includes UK, Italy, Germany, Austria, Switzerland, Japan, Mexico, Canada, and Australia. \n",
    "\n",
    "## Data Description: marriage_df (Crude Marriage Rates)\n",
    "For the cleaned marriage_raw_df dataset, we have columns of Entity (Country) and Year which yields the observation of Crude Marriage Rate. "
   ]
  },
  {
   "cell_type": "code",
   "execution_count": 4,
   "id": "5c1d93c4",
   "metadata": {},
   "outputs": [
    {
     "data": {
      "text/html": [
       "<div>\n",
       "<style scoped>\n",
       "    .dataframe tbody tr th:only-of-type {\n",
       "        vertical-align: middle;\n",
       "    }\n",
       "\n",
       "    .dataframe tbody tr th {\n",
       "        vertical-align: top;\n",
       "    }\n",
       "\n",
       "    .dataframe thead th {\n",
       "        text-align: right;\n",
       "    }\n",
       "</style>\n",
       "<table border=\"1\" class=\"dataframe\">\n",
       "  <thead>\n",
       "    <tr style=\"text-align: right;\">\n",
       "      <th></th>\n",
       "      <th>Entity</th>\n",
       "      <th>Code</th>\n",
       "      <th>Year</th>\n",
       "      <th>CrudeMarriageRate</th>\n",
       "    </tr>\n",
       "  </thead>\n",
       "  <tbody>\n",
       "    <tr>\n",
       "      <th>0</th>\n",
       "      <td>Albania</td>\n",
       "      <td>ALB</td>\n",
       "      <td>1960</td>\n",
       "      <td>7.8</td>\n",
       "    </tr>\n",
       "    <tr>\n",
       "      <th>1</th>\n",
       "      <td>Albania</td>\n",
       "      <td>ALB</td>\n",
       "      <td>1961</td>\n",
       "      <td>11.3</td>\n",
       "    </tr>\n",
       "    <tr>\n",
       "      <th>2</th>\n",
       "      <td>Albania</td>\n",
       "      <td>ALB</td>\n",
       "      <td>1962</td>\n",
       "      <td>7.5</td>\n",
       "    </tr>\n",
       "    <tr>\n",
       "      <th>3</th>\n",
       "      <td>Albania</td>\n",
       "      <td>ALB</td>\n",
       "      <td>1963</td>\n",
       "      <td>7.5</td>\n",
       "    </tr>\n",
       "    <tr>\n",
       "      <th>4</th>\n",
       "      <td>Albania</td>\n",
       "      <td>ALB</td>\n",
       "      <td>1964</td>\n",
       "      <td>7.2</td>\n",
       "    </tr>\n",
       "    <tr>\n",
       "      <th>...</th>\n",
       "      <td>...</td>\n",
       "      <td>...</td>\n",
       "      <td>...</td>\n",
       "      <td>...</td>\n",
       "    </tr>\n",
       "    <tr>\n",
       "      <th>3246</th>\n",
       "      <td>Vietnam</td>\n",
       "      <td>VNM</td>\n",
       "      <td>2002</td>\n",
       "      <td>11.8</td>\n",
       "    </tr>\n",
       "    <tr>\n",
       "      <th>3247</th>\n",
       "      <td>Wallis and Futuna</td>\n",
       "      <td>WLF</td>\n",
       "      <td>1970</td>\n",
       "      <td>6.3</td>\n",
       "    </tr>\n",
       "    <tr>\n",
       "      <th>3248</th>\n",
       "      <td>Western Sahara</td>\n",
       "      <td>ESH</td>\n",
       "      <td>1970</td>\n",
       "      <td>6.6</td>\n",
       "    </tr>\n",
       "    <tr>\n",
       "      <th>3249</th>\n",
       "      <td>Yemen</td>\n",
       "      <td>YEM</td>\n",
       "      <td>2001</td>\n",
       "      <td>0.5</td>\n",
       "    </tr>\n",
       "    <tr>\n",
       "      <th>3250</th>\n",
       "      <td>Yemen</td>\n",
       "      <td>YEM</td>\n",
       "      <td>2002</td>\n",
       "      <td>0.6</td>\n",
       "    </tr>\n",
       "  </tbody>\n",
       "</table>\n",
       "<p>3251 rows × 4 columns</p>\n",
       "</div>"
      ],
      "text/plain": [
       "                 Entity Code  Year  CrudeMarriageRate\n",
       "0               Albania  ALB  1960                7.8\n",
       "1               Albania  ALB  1961               11.3\n",
       "2               Albania  ALB  1962                7.5\n",
       "3               Albania  ALB  1963                7.5\n",
       "4               Albania  ALB  1964                7.2\n",
       "...                 ...  ...   ...                ...\n",
       "3246            Vietnam  VNM  2002               11.8\n",
       "3247  Wallis and Futuna  WLF  1970                6.3\n",
       "3248     Western Sahara  ESH  1970                6.6\n",
       "3249              Yemen  YEM  2001                0.5\n",
       "3250              Yemen  YEM  2002                0.6\n",
       "\n",
       "[3251 rows x 4 columns]"
      ]
     },
     "execution_count": 4,
     "metadata": {},
     "output_type": "execute_result"
    }
   ],
   "source": [
    "marriage_raw_df = pd.read_csv('marriage-rate-per-1000-inhabitants.csv')\n",
    "marriage_raw_df.columns\n",
    "\n",
    "marriage_raw_df[\"Year\"] = marriage_raw_df[\"Year\"].astype(int)\n",
    "\n",
    "marriage_raw_df = marriage_raw_df.rename(columns={\"Crude marriage rate (per 1,000 inhabitants)\" : \"CrudeMarriageRate\"})\n",
    "marriage_raw_df"
   ]
  },
  {
   "cell_type": "code",
   "execution_count": 5,
   "id": "8dc48b2c",
   "metadata": {},
   "outputs": [
    {
     "name": "stdout",
     "output_type": "stream",
     "text": [
      "No. of unique values 183\n"
     ]
    }
   ],
   "source": [
    "unique_vals = len(pd.unique(marriage_raw_df['Entity']))\n",
    "print(\"No. of unique values\", unique_vals)"
   ]
  },
  {
   "cell_type": "code",
   "execution_count": 6,
   "id": "f9c14077",
   "metadata": {},
   "outputs": [
    {
     "name": "stdout",
     "output_type": "stream",
     "text": [
      "Returning data to local variable marriage_df\n",
      "Returning data to local variable marriage_df\n"
     ]
    },
    {
     "data": {
      "text/html": [
       "<div>\n",
       "<style scoped>\n",
       "    .dataframe tbody tr th:only-of-type {\n",
       "        vertical-align: middle;\n",
       "    }\n",
       "\n",
       "    .dataframe tbody tr th {\n",
       "        vertical-align: top;\n",
       "    }\n",
       "\n",
       "    .dataframe thead th {\n",
       "        text-align: right;\n",
       "    }\n",
       "</style>\n",
       "<table border=\"1\" class=\"dataframe\">\n",
       "  <thead>\n",
       "    <tr style=\"text-align: right;\">\n",
       "      <th></th>\n",
       "      <th>Entity</th>\n",
       "      <th>Year</th>\n",
       "      <th>CrudeMarriageRate</th>\n",
       "    </tr>\n",
       "  </thead>\n",
       "  <tbody>\n",
       "    <tr>\n",
       "      <th>0</th>\n",
       "      <td>Australia</td>\n",
       "      <td>1980</td>\n",
       "      <td>7.4</td>\n",
       "    </tr>\n",
       "    <tr>\n",
       "      <th>1</th>\n",
       "      <td>Australia</td>\n",
       "      <td>1981</td>\n",
       "      <td>7.6</td>\n",
       "    </tr>\n",
       "    <tr>\n",
       "      <th>2</th>\n",
       "      <td>Australia</td>\n",
       "      <td>1982</td>\n",
       "      <td>7.7</td>\n",
       "    </tr>\n",
       "    <tr>\n",
       "      <th>3</th>\n",
       "      <td>Australia</td>\n",
       "      <td>1983</td>\n",
       "      <td>7.5</td>\n",
       "    </tr>\n",
       "    <tr>\n",
       "      <th>4</th>\n",
       "      <td>Australia</td>\n",
       "      <td>1984</td>\n",
       "      <td>7.0</td>\n",
       "    </tr>\n",
       "    <tr>\n",
       "      <th>...</th>\n",
       "      <td>...</td>\n",
       "      <td>...</td>\n",
       "      <td>...</td>\n",
       "    </tr>\n",
       "    <tr>\n",
       "      <th>556</th>\n",
       "      <td>United States</td>\n",
       "      <td>1949</td>\n",
       "      <td>10.6</td>\n",
       "    </tr>\n",
       "    <tr>\n",
       "      <th>557</th>\n",
       "      <td>United States</td>\n",
       "      <td>1950</td>\n",
       "      <td>11.1</td>\n",
       "    </tr>\n",
       "    <tr>\n",
       "      <th>558</th>\n",
       "      <td>United States</td>\n",
       "      <td>1938</td>\n",
       "      <td>10.3</td>\n",
       "    </tr>\n",
       "    <tr>\n",
       "      <th>559</th>\n",
       "      <td>United States</td>\n",
       "      <td>1963</td>\n",
       "      <td>8.8</td>\n",
       "    </tr>\n",
       "    <tr>\n",
       "      <th>560</th>\n",
       "      <td>United States</td>\n",
       "      <td>1943</td>\n",
       "      <td>11.7</td>\n",
       "    </tr>\n",
       "  </tbody>\n",
       "</table>\n",
       "<p>561 rows × 3 columns</p>\n",
       "</div>"
      ],
      "text/plain": [
       "            Entity  Year  CrudeMarriageRate\n",
       "0        Australia  1980                7.4\n",
       "1        Australia  1981                7.6\n",
       "2        Australia  1982                7.7\n",
       "3        Australia  1983                7.5\n",
       "4        Australia  1984                7.0\n",
       "..             ...   ...                ...\n",
       "556  United States  1949               10.6\n",
       "557  United States  1950               11.1\n",
       "558  United States  1938               10.3\n",
       "559  United States  1963                8.8\n",
       "560  United States  1943               11.7\n",
       "\n",
       "[561 rows x 3 columns]"
      ]
     },
     "execution_count": 6,
     "metadata": {},
     "output_type": "execute_result"
    }
   ],
   "source": [
    "%sql marriage_df << SELECT Entity, Year, CrudeMarriageRate FROM marriage_raw_df GROUP BY entity, year, CrudeMarriageRate\n",
    "%sql marriage_df << SELECT * FROM marriage_df WHERE Entity IN ('United States', 'United Kingdom', 'Italy', 'Germany', 'Austria', 'Switzerland', 'Japan', 'Mexico', 'Canada', 'Australia') \n",
    "marriage_df"
   ]
  },
  {
   "cell_type": "markdown",
   "id": "2ba12fc5",
   "metadata": {},
   "source": [
    "### Summary Statistics\n",
    "\n",
    "We used calc_summary_stats to find the mean, median, and standard deviation of our raw marriage rate data (which included marriage rates from all 183 countries) as well as our cleaned marriage rate data (which included the 9 countries we are interested in comparing). From our summary statistics, we can see that by focusing on the crude marriage rate for just the 9 countries, the median stays the same, the average increases slightly by 0.1, and the standard deviation decreases significantly by 0.7. The most significant change in statistic is the decrease in standard deviation– it indicates that after narrowing the amount of countries we're looking at, our data is less spread out and more clustered around the mean, resulting in more accurate estimates if we were to estimate a parameter."
   ]
  },
  {
   "cell_type": "code",
   "execution_count": 7,
   "id": "2afc5a10",
   "metadata": {},
   "outputs": [
    {
     "name": "stdout",
     "output_type": "stream",
     "text": [
      "Raw Marriage Rate Data (All 181 Countries)\n",
      "Summary Stats for CrudeMarriageRate:\n",
      " Mean: 6.694801600780998\n",
      " Standard Deviation: 2.6369614645313004\n",
      " Median: 6.5\n",
      "\n",
      "Cleaned Marriage Rate Data (9 Specified Countries)\n",
      "Summary Stats for CrudeMarriageRate:\n",
      " Mean: 6.824598932354727\n",
      " Standard Deviation: 1.9397798978930487\n",
      " Median: 6.5\n"
     ]
    }
   ],
   "source": [
    "print(\"Raw Marriage Rate Data (All 181 Countries)\")\n",
    "calc_summary_stats(marriage_raw_df['CrudeMarriageRate'])\n",
    "print(\"\\nCleaned Marriage Rate Data (9 Specified Countries)\")\n",
    "calc_summary_stats(marriage_df['CrudeMarriageRate'])"
   ]
  },
  {
   "cell_type": "markdown",
   "id": "044c746c",
   "metadata": {},
   "source": [
    "### Graph Description\n",
    "For this graph, we plotted the Crude Marriage Rate for the 9 countries against the year.\n",
    "<br> <br>\n",
    "Here, we could see a decreasing trend in crude marriage rate globally throughout the years. Looking at the graph, even though there is a holistic trend of decreasing crude marriage rate, there are three periods where most of the countries on our list of countries saw abrupt increases in the rate: around 1970, 2000, and 2015. In addition, there are some countries where they saw exponential increase in the rate going against the global trend such as Austria around 1985. In overall, we could see a negative trend in crude marriage rate from 1960 to 2020 from the majority of countries on our list with noticeable increase in three periods of time and one outlier with increased crude marriage rate over time."
   ]
  },
  {
   "cell_type": "code",
   "execution_count": 8,
   "id": "c593cb18",
   "metadata": {},
   "outputs": [
    {
     "data": {
      "text/plain": [
       "<AxesSubplot:xlabel='Year', ylabel='CrudeMarriageRate'>"
      ]
     },
     "execution_count": 8,
     "metadata": {},
     "output_type": "execute_result"
    },
    {
     "data": {
      "image/png": "[encoded data removed]",
      "text/plain": [
       "<Figure size 432x288 with 1 Axes>"
      ]
     },
     "metadata": {
      "needs_background": "light"
     },
     "output_type": "display_data"
    }
   ],
   "source": [
    "x1 = marriage_df['Year']\n",
    "y1 = marriage_df['CrudeMarriageRate']\n",
    "seaborn.lineplot(data=marriage_df, x=\"Year\", y=\"CrudeMarriageRate\", hue=\"Entity\")"
   ]
  },
  {
   "cell_type": "markdown",
   "id": "adb54bec",
   "metadata": {},
   "source": [
    "## Data Cleaning: age_df (Average Marriage Ages)\n",
    "\n",
    "In order to clean the data, we changed the name of Average Marriage Age column from \"Estimated average age at marriage, women\" to \"AverageMarriageAge\" to avoid any SQL errors.  \n",
    "\n",
    "Similarly to the previous dataset, the \"code\" column was removed because of the same reasons which is that it wasn't relevant for data analysis/exploration as it was redundant. \n",
    "\n",
    "Similarly, the dataset had 183 different countries and plotting all the data in one graph would be difficult to analyze. Therefore,at first, we also decided to limit the data to only the United States, United Kingdom and Hong Kong (country in Asia) to get a diverse range of data/countries which we mentioned earlier why we decided not to go for this route. \n",
    "\n",
    "Similarly, as mentioned above, we manually listed out all the countries in the dataset to see how large our dataset is, the population, and the continent to be able to compare all the data. The countries includes UK, Italy, Germany, Austria, Switzerland, Japan, Mexico, Canada, and Australia.\n",
    "\n",
    "## Data Description: age_df (Average Marriage Ages)\n",
    "Similarly, for cleaned age_raw_df, we have the same columns but with observation of Average Marriage Age. "
   ]
  },
  {
   "cell_type": "code",
   "execution_count": 9,
   "id": "cc79648c",
   "metadata": {},
   "outputs": [
    {
     "data": {
      "text/html": [
       "<div>\n",
       "<style scoped>\n",
       "    .dataframe tbody tr th:only-of-type {\n",
       "        vertical-align: middle;\n",
       "    }\n",
       "\n",
       "    .dataframe tbody tr th {\n",
       "        vertical-align: top;\n",
       "    }\n",
       "\n",
       "    .dataframe thead th {\n",
       "        text-align: right;\n",
       "    }\n",
       "</style>\n",
       "<table border=\"1\" class=\"dataframe\">\n",
       "  <thead>\n",
       "    <tr style=\"text-align: right;\">\n",
       "      <th></th>\n",
       "      <th>Entity</th>\n",
       "      <th>Code</th>\n",
       "      <th>Year</th>\n",
       "      <th>AverageMarriageAge</th>\n",
       "    </tr>\n",
       "  </thead>\n",
       "  <tbody>\n",
       "    <tr>\n",
       "      <th>0</th>\n",
       "      <td>Afghanistan</td>\n",
       "      <td>AFG</td>\n",
       "      <td>1972</td>\n",
       "      <td>18.100000</td>\n",
       "    </tr>\n",
       "    <tr>\n",
       "      <th>1</th>\n",
       "      <td>Afghanistan</td>\n",
       "      <td>AFG</td>\n",
       "      <td>2010</td>\n",
       "      <td>21.500000</td>\n",
       "    </tr>\n",
       "    <tr>\n",
       "      <th>2</th>\n",
       "      <td>Afghanistan</td>\n",
       "      <td>AFG</td>\n",
       "      <td>2015</td>\n",
       "      <td>21.500000</td>\n",
       "    </tr>\n",
       "    <tr>\n",
       "      <th>3</th>\n",
       "      <td>Albania</td>\n",
       "      <td>ALB</td>\n",
       "      <td>2000</td>\n",
       "      <td>23.900000</td>\n",
       "    </tr>\n",
       "    <tr>\n",
       "      <th>4</th>\n",
       "      <td>Albania</td>\n",
       "      <td>ALB</td>\n",
       "      <td>2002</td>\n",
       "      <td>22.900000</td>\n",
       "    </tr>\n",
       "    <tr>\n",
       "      <th>...</th>\n",
       "      <td>...</td>\n",
       "      <td>...</td>\n",
       "      <td>...</td>\n",
       "      <td>...</td>\n",
       "    </tr>\n",
       "    <tr>\n",
       "      <th>1930</th>\n",
       "      <td>Zimbabwe</td>\n",
       "      <td>ZWE</td>\n",
       "      <td>2009</td>\n",
       "      <td>20.900000</td>\n",
       "    </tr>\n",
       "    <tr>\n",
       "      <th>1931</th>\n",
       "      <td>Zimbabwe</td>\n",
       "      <td>ZWE</td>\n",
       "      <td>2010</td>\n",
       "      <td>20.600000</td>\n",
       "    </tr>\n",
       "    <tr>\n",
       "      <th>1932</th>\n",
       "      <td>Zimbabwe</td>\n",
       "      <td>ZWE</td>\n",
       "      <td>2014</td>\n",
       "      <td>20.299999</td>\n",
       "    </tr>\n",
       "    <tr>\n",
       "      <th>1933</th>\n",
       "      <td>Zimbabwe</td>\n",
       "      <td>ZWE</td>\n",
       "      <td>2015</td>\n",
       "      <td>20.200001</td>\n",
       "    </tr>\n",
       "    <tr>\n",
       "      <th>1934</th>\n",
       "      <td>Zimbabwe</td>\n",
       "      <td>ZWE</td>\n",
       "      <td>2017</td>\n",
       "      <td>21.100000</td>\n",
       "    </tr>\n",
       "  </tbody>\n",
       "</table>\n",
       "<p>1935 rows × 4 columns</p>\n",
       "</div>"
      ],
      "text/plain": [
       "           Entity Code  Year  AverageMarriageAge\n",
       "0     Afghanistan  AFG  1972           18.100000\n",
       "1     Afghanistan  AFG  2010           21.500000\n",
       "2     Afghanistan  AFG  2015           21.500000\n",
       "3         Albania  ALB  2000           23.900000\n",
       "4         Albania  ALB  2002           22.900000\n",
       "...           ...  ...   ...                 ...\n",
       "1930     Zimbabwe  ZWE  2009           20.900000\n",
       "1931     Zimbabwe  ZWE  2010           20.600000\n",
       "1932     Zimbabwe  ZWE  2014           20.299999\n",
       "1933     Zimbabwe  ZWE  2015           20.200001\n",
       "1934     Zimbabwe  ZWE  2017           21.100000\n",
       "\n",
       "[1935 rows x 4 columns]"
      ]
     },
     "execution_count": 9,
     "metadata": {},
     "output_type": "execute_result"
    }
   ],
   "source": [
    "age_raw_df = pd.read_csv('age-at-marriage-women.csv')\n",
    "# print(age_raw_df.columns)\n",
    "\n",
    "age_raw_df[\"Year\"] = age_raw_df[\"Year\"].astype(int)\n",
    "age_raw_df = age_raw_df.rename(columns={\"Estimated average age at marriage, women\" : \"AverageMarriageAge\"})\n",
    "\n",
    "age_raw_df"
   ]
  },
  {
   "cell_type": "code",
   "execution_count": 10,
   "id": "3cb9916c",
   "metadata": {},
   "outputs": [
    {
     "name": "stdout",
     "output_type": "stream",
     "text": [
      "Returning data to local variable age_df\n",
      "Returning data to local variable age_df\n"
     ]
    },
    {
     "data": {
      "text/html": [
       "<div>\n",
       "<style scoped>\n",
       "    .dataframe tbody tr th:only-of-type {\n",
       "        vertical-align: middle;\n",
       "    }\n",
       "\n",
       "    .dataframe tbody tr th {\n",
       "        vertical-align: top;\n",
       "    }\n",
       "\n",
       "    .dataframe thead th {\n",
       "        text-align: right;\n",
       "    }\n",
       "</style>\n",
       "<table border=\"1\" class=\"dataframe\">\n",
       "  <thead>\n",
       "    <tr style=\"text-align: right;\">\n",
       "      <th></th>\n",
       "      <th>Entity</th>\n",
       "      <th>Year</th>\n",
       "      <th>AverageMarriageAge</th>\n",
       "    </tr>\n",
       "  </thead>\n",
       "  <tbody>\n",
       "    <tr>\n",
       "      <th>0</th>\n",
       "      <td>Australia</td>\n",
       "      <td>1990</td>\n",
       "      <td>24.299999</td>\n",
       "    </tr>\n",
       "    <tr>\n",
       "      <th>1</th>\n",
       "      <td>Australia</td>\n",
       "      <td>1991</td>\n",
       "      <td>24.500000</td>\n",
       "    </tr>\n",
       "    <tr>\n",
       "      <th>2</th>\n",
       "      <td>Australia</td>\n",
       "      <td>1992</td>\n",
       "      <td>24.700001</td>\n",
       "    </tr>\n",
       "    <tr>\n",
       "      <th>3</th>\n",
       "      <td>Australia</td>\n",
       "      <td>1993</td>\n",
       "      <td>24.799999</td>\n",
       "    </tr>\n",
       "    <tr>\n",
       "      <th>4</th>\n",
       "      <td>Australia</td>\n",
       "      <td>1994</td>\n",
       "      <td>25.100000</td>\n",
       "    </tr>\n",
       "    <tr>\n",
       "      <th>...</th>\n",
       "      <td>...</td>\n",
       "      <td>...</td>\n",
       "      <td>...</td>\n",
       "    </tr>\n",
       "    <tr>\n",
       "      <th>285</th>\n",
       "      <td>United States</td>\n",
       "      <td>2011</td>\n",
       "      <td>26.400000</td>\n",
       "    </tr>\n",
       "    <tr>\n",
       "      <th>286</th>\n",
       "      <td>United States</td>\n",
       "      <td>2002</td>\n",
       "      <td>25.299999</td>\n",
       "    </tr>\n",
       "    <tr>\n",
       "      <th>287</th>\n",
       "      <td>Sweden</td>\n",
       "      <td>2001</td>\n",
       "      <td>30.299999</td>\n",
       "    </tr>\n",
       "    <tr>\n",
       "      <th>288</th>\n",
       "      <td>Sweden</td>\n",
       "      <td>1997</td>\n",
       "      <td>29.500000</td>\n",
       "    </tr>\n",
       "    <tr>\n",
       "      <th>289</th>\n",
       "      <td>Switzerland</td>\n",
       "      <td>2011</td>\n",
       "      <td>29.900000</td>\n",
       "    </tr>\n",
       "  </tbody>\n",
       "</table>\n",
       "<p>290 rows × 3 columns</p>\n",
       "</div>"
      ],
      "text/plain": [
       "            Entity  Year  AverageMarriageAge\n",
       "0        Australia  1990           24.299999\n",
       "1        Australia  1991           24.500000\n",
       "2        Australia  1992           24.700001\n",
       "3        Australia  1993           24.799999\n",
       "4        Australia  1994           25.100000\n",
       "..             ...   ...                 ...\n",
       "285  United States  2011           26.400000\n",
       "286  United States  2002           25.299999\n",
       "287         Sweden  2001           30.299999\n",
       "288         Sweden  1997           29.500000\n",
       "289    Switzerland  2011           29.900000\n",
       "\n",
       "[290 rows x 3 columns]"
      ]
     },
     "execution_count": 10,
     "metadata": {},
     "output_type": "execute_result"
    }
   ],
   "source": [
    "%sql age_df << SELECT Entity, Year, AverageMarriageAge FROM age_raw_df GROUP BY Entity, Year, AverageMarriageAge\n",
    "%sql age_df << SELECT * FROM age_df WHERE Entity IN ('United States', 'United Kingdom', 'Greece', 'Sweden', 'Italy', 'Germany', 'Austria', 'Switzerland', 'Japan', 'Mexico', 'Canada', 'Australia')\n",
    "age_df"
   ]
  },
  {
   "cell_type": "markdown",
   "id": "3e5b520b",
   "metadata": {},
   "source": [
    "### Summary Statistics\n",
    "\n",
    "Like we did with our raw and cleaned marriage data, we once again used calc_summary_stats to find the mean, median, and standard deviation of our raw marriage age data (which included marriage ages from all 183 countries) as well as our cleaned marriage age data (which included the 9 countries we are interested in comparing). From our summary statistics, we can see that by focusing on the average marriage age for just the 9 countries, the median slightly increases by 2 years, the average increases slightly by 2 years, and the standard deviation decreases significantly by 1.1 years. Once again, the most significant change in statistic is the decrease in standard deviation– it indicates that after narrowing the amount of countries we're looking at, our data is less spread out and more clustered around the mean, resulting in more accurate estimates if we were to estimate a parameter."
   ]
  },
  {
   "cell_type": "code",
   "execution_count": 11,
   "id": "4fc11f16",
   "metadata": {},
   "outputs": [
    {
     "name": "stdout",
     "output_type": "stream",
     "text": [
      "Raw Marriage Age Data (All 181 Countries)\n",
      "Summary Stats for AverageMarriageAge:\n",
      " Mean: 25.485271307493537\n",
      " Standard Deviation: 3.562861124219604\n",
      " Median: 25.6\n",
      "\n",
      "Cleaned Marriage Age Data (11 Specified Countries)\n",
      "Summary Stats for AverageMarriageAge:\n",
      " Mean: 27.973793072413788\n",
      " Standard Deviation: 2.0688333956642997\n",
      " Median: 27.799999\n"
     ]
    }
   ],
   "source": [
    "print(\"Raw Marriage Age Data (All 181 Countries)\")\n",
    "calc_summary_stats(age_raw_df['AverageMarriageAge'])\n",
    "print(\"\\nCleaned Marriage Age Data (11 Specified Countries)\")\n",
    "calc_summary_stats(age_df['AverageMarriageAge'])"
   ]
  },
  {
   "cell_type": "markdown",
   "id": "e163d309",
   "metadata": {},
   "source": [
    "### Graph Description\n",
    "For this graph, we plotted the Average Marriage Age for the 9 countries against the year.\n",
    "<br> <br>\n",
    "As seen from the graph above, global average marriage age has increased over time. Our dataset has the majority of data from each country from 1990 to 2020. We can see an increase in the range of the average marriage age: 21.5 to 27.5 in 1990 and 22.5 to 34 in 2020. However, the majority of the countries have a similar average marriage rate with an increase from 25 (1990) to 31 (2020). There is not a single country on our list which sought a decrease in the rate over time. Furthermore, Mexico seems to have the most rapid increase in the average marriage rate while United States seems to have the slowest increase in the age over time. "
   ]
  },
  {
   "cell_type": "code",
   "execution_count": 12,
   "id": "49381d7c",
   "metadata": {},
   "outputs": [
    {
     "data": {
      "text/plain": [
       "<AxesSubplot:xlabel='Year', ylabel='AverageMarriageAge'>"
      ]
     },
     "execution_count": 12,
     "metadata": {},
     "output_type": "execute_result"
    },
    {
     "data": {
      "image/png": "[encoded data removed]",
      "text/plain": [
       "<Figure size 432x288 with 1 Axes>"
      ]
     },
     "metadata": {
      "needs_background": "light"
     },
     "output_type": "display_data"
    }
   ],
   "source": [
    "x2 = age_df['Year']\n",
    "y2 = age_df['AverageMarriageAge']\n",
    "seaborn.lineplot(data=age_df, x=x2, y=y2, hue=\"Entity\")"
   ]
  },
  {
   "cell_type": "markdown",
   "id": "f9b7e38f",
   "metadata": {},
   "source": [
    "## Comparing Locations for Age and Marriage Rate"
   ]
  },
  {
   "cell_type": "markdown",
   "id": "e957b24e",
   "metadata": {},
   "source": [
    "### United Kingdom, Italy, Germany\n",
    "Due to how these three countries are all in the same continent (Europe)  and is in a similar range in terms of population (UK: 67.22 million, Italy: 59.55 million, Germany: 83.24 million), we decided to analyze deeper into these three countries. \n",
    "\n",
    "### Data Cleaning \n",
    "For our first comparison for UK, Italy and Germany: Since we only we need data from the three countries, we decided to use SQL to select only the data on the three countries from the previously cleaned dataset. After plotting the age line plot, we had to consider that the year for the age dataset didn't start at the same time. Therefore, we decided to start the dataset at 1990 for the 3 countries for the age lineplot to make it easier to see the trend and analyze the data. This is done through trying to find whether there is a correlation between marriage rates and factors like age in countries in Europe with a similar population size."
   ]
  },
  {
   "cell_type": "markdown",
   "id": "f992a463",
   "metadata": {},
   "source": [
    "### Graph Description\n",
    "For this graph, we plotted the Crude Marriage Rate for the 3 countries (United Kingdom, Italy, Germany) against Year\n",
    "<br> <br>\n",
    "The overall trend of crude marriage rate among the United Kingdom, Italy, and Germany has decreased over the time period between 1990 and 2015. United Kingdom and Germany has a similar trend and range, where they both decreased from 6.5 to around 5.25 as well as leveling off after 2000. However, Italy did not level off and continued to decrease nearly linearly from around 5.5 to 3.0 diverging from the three other countries. Although Italy and United Kingdom did not intersect on the graph, United Kingdom and Germany did a few times, especially haveing the same rate from 2005 to around 2007."
   ]
  },
  {
   "cell_type": "code",
   "execution_count": 13,
   "id": "c8e9f9d0",
   "metadata": {},
   "outputs": [
    {
     "name": "stdout",
     "output_type": "stream",
     "text": [
      "Returning data to local variable age_comp1\n",
      "Returning data to local variable new_df\n",
      "Returning data to local variable comparison1_df\n"
     ]
    },
    {
     "data": {
      "text/plain": [
       "<AxesSubplot:xlabel='Year', ylabel='CrudeMarriageRate'>"
      ]
     },
     "execution_count": 13,
     "metadata": {},
     "output_type": "execute_result"
    },
    {
     "data": {
      "image/png": "[encoded data removed]",
      "text/plain": [
       "<Figure size 432x288 with 1 Axes>"
      ]
     },
     "metadata": {
      "needs_background": "light"
     },
     "output_type": "display_data"
    }
   ],
   "source": [
    "%sql age_comp1 << SELECT * FROM age_df WHERE year >= 1990\n",
    "%sql new_df << SELECT * FROM marriage_df INNER JOIN age_comp1 ON marriage_df.year = age_comp1.year AND marriage_df.Entity = age_comp1.Entity\n",
    "new_df\n",
    "\n",
    "%sql comparison1_df << SELECT * FROM new_df WHERE Entity IN ('United Kingdom', 'Italy', 'Germany')\n",
    "marriage = comparison1_df['CrudeMarriageRate']\n",
    "age = comparison1_df['AverageMarriageAge']\n",
    "year = comparison1_df['Year']\n",
    "\n",
    "seaborn.lineplot(data=comparison1_df, x=year, y=marriage, hue=\"Entity\")"
   ]
  },
  {
   "cell_type": "markdown",
   "id": "8dcb2788",
   "metadata": {},
   "source": [
    "### Summary Statistics (United Kingdom vs. Italy vs. Germany)\n",
    "We looked at the summary statistics for the Average Marriage Age and Crudge Marriage Rate for United Kingdom, Italy, and Germany as a whole, as well as for the individual countries separately. The most significant trend to point out is that the standard deviation for Crude Marriage Rate of Germany is significantly lower than for the other 2 countries as well as the 3 countries as a whole. This indicates that if were to estimate a parameter for the Crude Marriage Rate of Germany, it would be the most accurate estimate of the three countries. Additionally, for average marriage age, we can see that Germany and Italy have equal and higher means than United Kingdom. For crude marriage rate, we can see that United Kingdom has the highest mean while Italy has the lowest mean."
   ]
  },
  {
   "cell_type": "code",
   "execution_count": 14,
   "id": "461897a8",
   "metadata": {},
   "outputs": [
    {
     "name": "stdout",
     "output_type": "stream",
     "text": [
      "United Kingdom, Italy, and Germany:\n",
      "Summary Stats for AverageMarriageAge:\n",
      " Mean: 28.478666733333334\n",
      " Standard Deviation: 1.789397847619997\n",
      " Median: 28.4\n",
      "Summary Stats for CrudeMarriageRate:\n",
      " Mean: 4.843999997453334\n",
      " Standard Deviation: 0.6947882176606819\n",
      " Median: 4.9\n",
      "\n",
      "United Kingdom:\n",
      "Summary Stats for AverageMarriageAge:\n",
      " Mean: 28.42916691666667\n",
      " Standard Deviation: 1.7412827645080104\n",
      " Median: 28.5500005\n",
      "Summary Stats for CrudeMarriageRate:\n",
      " Mean: 5.079166658708333\n",
      " Standard Deviation: 0.6544585382262906\n",
      " Median: 5.0\n",
      "\n",
      "Italy:\n",
      "Summary Stats for AverageMarriageAge:\n",
      " Mean: 28.592307538461537\n",
      " Standard Deviation: 1.8605050211510241\n",
      " Median: 28.5\n",
      "Summary Stats for CrudeMarriageRate:\n",
      " Mean: 4.453846153846154\n",
      " Standard Deviation: 0.7474216034169989\n",
      " Median: 4.6\n",
      "\n",
      "Germany:\n",
      "Summary Stats for AverageMarriageAge:\n",
      " Mean: 28.408000119999997\n",
      " Standard Deviation: 1.753378466298804\n",
      " Median: 28.4\n",
      "Summary Stats for CrudeMarriageRate:\n",
      " Mean: 5.024\n",
      " Standard Deviation: 0.46067776156441503\n",
      " Median: 4.9\n"
     ]
    }
   ],
   "source": [
    "print(\"United Kingdom, Italy, and Germany:\")\n",
    "calc_summary_stats(comparison1_df['AverageMarriageAge'])\n",
    "calc_summary_stats(comparison1_df['CrudeMarriageRate'])\n",
    "\n",
    "print(\"\\nUnited Kingdom:\")\n",
    "uk_df = comparison1_df.loc[comparison1_df['Entity'] == 'United Kingdom']\n",
    "calc_summary_stats(uk_df['AverageMarriageAge'])\n",
    "calc_summary_stats(uk_df['CrudeMarriageRate'])\n",
    "\n",
    "print(\"\\nItaly:\")\n",
    "italy_df = comparison1_df.loc[comparison1_df['Entity'] == 'Italy']\n",
    "calc_summary_stats(italy_df['AverageMarriageAge'])\n",
    "calc_summary_stats(italy_df['CrudeMarriageRate'])\n",
    "\n",
    "print(\"\\nGermany:\")\n",
    "germany_df = comparison1_df.loc[comparison1_df['Entity'] == 'Germany']\n",
    "calc_summary_stats(germany_df['AverageMarriageAge'])\n",
    "calc_summary_stats(germany_df['CrudeMarriageRate'])"
   ]
  },
  {
   "cell_type": "markdown",
   "id": "ab10b4b7",
   "metadata": {},
   "source": [
    "From the correlation between average marriage age and crude marriage rate for the the three countries, we can see that UK and Italy both have high correlations of -0.96 and -0.97 while Germany has a lower correlation of -0.75. A potential cause of this deviation is that although the three countries are all within similar proximities (located in Europe), Germany's population size is larger and deviates more from that of the other two countries (83 million vs. 59 million and 67 million). \n",
    "<br>\n",
    "This supports our hypothesis that countries within greater proximities will exhibit higher correlations between average marriage age and crude marriage rate. However, Germany's significantly lower correlation due to difference in population size may indicate that population size also has a large effect on the correlation between average marriage age and crude marriage rate."
   ]
  },
  {
   "cell_type": "code",
   "execution_count": 15,
   "id": "f7b7befb",
   "metadata": {},
   "outputs": [
    {
     "name": "stdout",
     "output_type": "stream",
     "text": [
      "Correlation between Average Marriage Age and Crude Marriage Rate: \n",
      "\n",
      "UK:                     AverageMarriageAge  CrudeMarriageRate\n",
      "AverageMarriageAge            1.000000          -0.965451\n",
      "CrudeMarriageRate            -0.965451           1.000000\n",
      "\n",
      "Italy:                     AverageMarriageAge  CrudeMarriageRate\n",
      "AverageMarriageAge            1.000000          -0.976604\n",
      "CrudeMarriageRate            -0.976604           1.000000\n",
      "\n",
      "Germany:                     AverageMarriageAge  CrudeMarriageRate\n",
      "AverageMarriageAge            1.000000          -0.753943\n",
      "CrudeMarriageRate            -0.753943           1.000000\n"
     ]
    }
   ],
   "source": [
    "print(\"Correlation between Average Marriage Age and Crude Marriage Rate: \\n\")\n",
    "print(f\"UK: {uk_df[['AverageMarriageAge', 'CrudeMarriageRate']].corr()}\\n\")\n",
    "print(f\"Italy: {italy_df[['AverageMarriageAge', 'CrudeMarriageRate']].corr()}\\n\")\n",
    "print(f\"Germany: {germany_df[['AverageMarriageAge', 'CrudeMarriageRate']].corr()}\")"
   ]
  },
  {
   "cell_type": "markdown",
   "id": "17dad283",
   "metadata": {},
   "source": [
    "### Graph Description\n",
    "For this graph, we plotted the Average Marriage Age for the 3 countries (United Kingdom, Italy, Germany) against Year.\n",
    "<br> <br>\n",
    "The overall trend in average marriage age among the three countries has increased significantly from approximately 25.5 in 1990 to 32 in 2015. The three countries show a linear increase across the 25 years, where Italy and Germany diverged as Italy reveal a higher marriage rate after around 2010 compared to the other two countries."
   ]
  },
  {
   "cell_type": "code",
   "execution_count": 16,
   "id": "1fbf918c",
   "metadata": {},
   "outputs": [
    {
     "data": {
      "text/plain": [
       "<AxesSubplot:xlabel='Year', ylabel='AverageMarriageAge'>"
      ]
     },
     "execution_count": 16,
     "metadata": {},
     "output_type": "execute_result"
    },
    {
     "data": {
      "image/png": "[encoded data removed]",
      "text/plain": [
       "<Figure size 432x288 with 1 Axes>"
      ]
     },
     "metadata": {
      "needs_background": "light"
     },
     "output_type": "display_data"
    }
   ],
   "source": [
    "seaborn.lineplot(data=comparison1_df, x=year, y=age, hue=\"Entity\")"
   ]
  },
  {
   "cell_type": "markdown",
   "id": "e8c468c0",
   "metadata": {},
   "source": [
    "## Comparing Locations for Marriage Age and Marriage Rate\n",
    "\n",
    "### Japan v.s. Mexico\n",
    "Due to how these two countries have similar population numbers (Japan: 125.8 million, Mexico: 128.9 million), we wanted to see whether there is a correlation between the average marriage age and rate for these 2 countries.\n",
    "\n",
    "### Data Cleaning \n",
    "Since we only we need data for the 2 countries, we decided to use SQL to select only the data on the two countries from the previously cleaned dataset in order to find out whether there is a correlation between marriage rate and average age that people marry in countries with a similar population number but varies largely in culture due to its geography as Japan is in Asia and Mexico is in North America. "
   ]
  },
  {
   "cell_type": "markdown",
   "id": "662f57f5",
   "metadata": {},
   "source": [
    "### Graph Description\n",
    "For this graph, we plotted the Average Marriage Rate against the Year for Japan and Mexico.\n",
    "<br> <br>\n",
    "Despite the similar population, Japan and Mexico had a significantly different crude marriage rate in 1995, 6.4 and 7.0 respectively. Mexico's crude marriage rate constantly decreased till 2008 which might be because of lack of data between 1995 and 2008. However, Japan's crude marriage rate fluctuated while it saw a significant decrease between 2000 and 2005. However, both countries confronted a similar trend starting from 2010 where Japan (around 5.1) ended up with a higher rate than Mexico (below 5.0) in 2014."
   ]
  },
  {
   "cell_type": "code",
   "execution_count": 17,
   "id": "6a40fbff",
   "metadata": {},
   "outputs": [
    {
     "name": "stdout",
     "output_type": "stream",
     "text": [
      "Returning data to local variable new2_df\n",
      "Returning data to local variable comparison2_df\n"
     ]
    },
    {
     "data": {
      "text/plain": [
       "<AxesSubplot:xlabel='Year', ylabel='CrudeMarriageRate'>"
      ]
     },
     "execution_count": 17,
     "metadata": {},
     "output_type": "execute_result"
    },
    {
     "data": {
      "image/png": "[encoded data removed]",
      "text/plain": [
       "<Figure size 432x288 with 1 Axes>"
      ]
     },
     "metadata": {
      "needs_background": "light"
     },
     "output_type": "display_data"
    }
   ],
   "source": [
    "%sql new2_df << SELECT * FROM marriage_df INNER JOIN age_comp1 ON marriage_df.year = age_comp1.year AND marriage_df.Entity = age_comp1.Entity\n",
    "new2_df\n",
    "%sql comparison2_df << SELECT * FROM new2_df WHERE Entity IN ('Japan', 'Mexico')\n",
    "comparison2_df\n",
    "marriage2 = comparison2_df['CrudeMarriageRate']\n",
    "age2 = comparison2_df['AverageMarriageAge']\n",
    "year2 = comparison2_df['Year']\n",
    "\n",
    "seaborn.lineplot(data=comparison2_df, x=year2, y=marriage2, hue=\"Entity\")"
   ]
  },
  {
   "cell_type": "code",
   "execution_count": 18,
   "id": "224a6f42",
   "metadata": {},
   "outputs": [],
   "source": [
    "from statsmodels.stats.proportion import proportions_ztest"
   ]
  },
  {
   "cell_type": "code",
   "execution_count": 64,
   "id": "c7be8cab",
   "metadata": {},
   "outputs": [
    {
     "name": "stdout",
     "output_type": "stream",
     "text": [
      "Returning data to local variable jap\n",
      "Returning data to local variable mex\n"
     ]
    },
    {
     "data": {
      "text/plain": [
       "(   CrudeMarriageRate\n",
       " 0                4.9,\n",
       "    CrudeMarriageRate\n",
       " 0                4.3)"
      ]
     },
     "execution_count": 64,
     "metadata": {},
     "output_type": "execute_result"
    }
   ],
   "source": [
    "#Finding most recent marriage rate for both countries\n",
    "%sql jap << SELECT CrudeMarriageRate FROM marriage_df WHERE Entity = 'Japan' AND Year = '2017'\n",
    "%sql mex << SELECT CrudeMarriageRate FROM marriage_df WHERE Entity = 'Mexico' AND Year = '2017'\n",
    "jap, mex"
   ]
  },
  {
   "cell_type": "markdown",
   "id": "e4a2f918",
   "metadata": {},
   "source": [
    "Sources: \n",
    "\n",
    "Population for Japan: https://www.worldometers.info/world-population/japan-population/\n",
    "\n",
    "Population for Mexico: https://www.worldometers.info/world-population/mexico-population/\n",
    "\n",
    "In terms of our source for the population of the countries we analyzed, we used worldometer. Worldometer is cited as a source in over 10,000 published books, in more than 6000 professional journal articles, and in over 1000 Wikipedia pages. In addition, Worldometer has gone through extensive research and data mining. It claims to base their data on the latest United Nations data, which is provided by the UNESCO Institute for Statistics found in the UIS Data Centre. They claim to strive for the highest level of accuracy. Therefore, we can assume that Worldometer is relatively pretty accurate. \n",
    "\n",
    "However, in terms of our data limitations, there have been reports of error in their data related to Covid-19 reportings. This raises the Worldometer’s methodological issues.\n"
   ]
  },
  {
   "cell_type": "code",
   "execution_count": 65,
   "id": "083f64c1",
   "metadata": {},
   "outputs": [
    {
     "data": {
      "text/plain": [
       "(227.37290002584646, 0.0)"
      ]
     },
     "execution_count": 65,
     "metadata": {},
     "output_type": "execute_result"
    }
   ],
   "source": [
    "#Conducting z-test to compare both countries’ crude marriage rates\n",
    "marriage_num = [(127502725*.049),(124777324*.043)]\n",
    "population_size = [127502725, 124777324]\n",
    "z_calc, p_value = proportions_ztest(marriage_num, population_size)\n",
    "z_calc, p_value\n"
   ]
  },
  {
   "cell_type": "markdown",
   "id": "36e5eaca",
   "metadata": {},
   "source": [
    "#### Conclusion\n",
    "Our p-value of 0 is less than our sigificance level of 0.05, so we would reject the null hypothesis that the proportions (crude marriage rates) are the same for Japan and Mexico. We can conclude that the crude marriage rates for Japan and Mexico, which have similar population sizes, are significantly different."
   ]
  },
  {
   "cell_type": "markdown",
   "id": "32050ef4",
   "metadata": {},
   "source": [
    "### Summary Statistics (Japan vs. Mexico)\n",
    "The means of average marriage age for Japan and Mexico are fairly similar, with Mexico's mean being around 2 years younger than Japan's. Similarly, the median marriage age for Japan is higher than that of Mexico's, being around 1-2 years above. This shows how people in Japan tend to get married at an older age that people in Mexico. However Mexico's standard deviation in marriage age is higher than that of Japan, displaying how there is more variation in the age that people get married in Mexico compared to Japan throughout the years 1990-2020. \n",
    "\n",
    "Furthermore, mean crude marriage rate and median crude marriage rate in Japan are higher than those of Mexico's by around 0.60% and 0.85% respectively. This could suggest that a slightly higher portion of people in Japan get married compared to people in Mexico. The standard deviation of crude marriage rate in Mexico is a bit higher than that of Japan's, which portrays how there is, although not much, greater variation in the marriage rates for Mexico between the years 1990-2020."
   ]
  },
  {
   "cell_type": "code",
   "execution_count": 19,
   "id": "04aa5925",
   "metadata": {},
   "outputs": [
    {
     "name": "stdout",
     "output_type": "stream",
     "text": [
      "Japan:\n",
      "Summary Stats for AverageMarriageAge:\n",
      " Mean: 27.692857107142853\n",
      " Standard Deviation: 1.2409467470774174\n",
      " Median: 27.6999995\n",
      "Summary Stats for CrudeMarriageRate:\n",
      " Mean: 5.803571428571429\n",
      " Standard Deviation: 0.4701687712613289\n",
      " Median: 5.85\n",
      "\n",
      "Mexico:\n",
      "Summary Stats for AverageMarriageAge:\n",
      " Mean: 25.61428557142857\n",
      " Standard Deviation: 2.3466867481361797\n",
      " Median: 26.299999\n",
      "Summary Stats for CrudeMarriageRate:\n",
      " Mean: 5.228571428571428\n",
      " Standard Deviation: 0.7264675505766354\n",
      " Median: 5.0\n"
     ]
    }
   ],
   "source": [
    "print(\"Japan:\")\n",
    "japan_df = comparison2_df.loc[comparison2_df['Entity'] == 'Japan']\n",
    "calc_summary_stats(japan_df['AverageMarriageAge'])\n",
    "calc_summary_stats(japan_df['CrudeMarriageRate'])\n",
    "\n",
    "print(\"\\nMexico:\")\n",
    "mexico_df = comparison2_df.loc[comparison2_df['Entity'] == 'Mexico']\n",
    "calc_summary_stats(mexico_df['AverageMarriageAge'])\n",
    "calc_summary_stats(mexico_df['CrudeMarriageRate'])"
   ]
  },
  {
   "cell_type": "markdown",
   "id": "4b618139",
   "metadata": {},
   "source": [
    "From the correlation between average marriage age and crude marriage rate for the the two countries, we can see that Japan and Mexico both have high correlations of -0.89 and -0.99. \n",
    "<br>\n",
    "This supports our hypothesis that countries with sith similar population numbers will exhibit higher correlations between average marriage age and crude marriage rate. However, Mexico seems to have a higher correlation rate since it has fewer data points to analyze compared to Japan."
   ]
  },
  {
   "cell_type": "code",
   "execution_count": 20,
   "id": "fd92ce5a",
   "metadata": {
    "scrolled": true
   },
   "outputs": [
    {
     "name": "stdout",
     "output_type": "stream",
     "text": [
      "Correlation between Average Marriage Age and Crude Marriage Rate: \n",
      "\n",
      "Japan:                     AverageMarriageAge  CrudeMarriageRate\n",
      "AverageMarriageAge            1.000000          -0.893036\n",
      "CrudeMarriageRate            -0.893036           1.000000\n",
      "\n",
      "Mexico:                     AverageMarriageAge  CrudeMarriageRate\n",
      "AverageMarriageAge            1.000000          -0.989049\n",
      "CrudeMarriageRate            -0.989049           1.000000\n",
      "\n"
     ]
    }
   ],
   "source": [
    "print(\"Correlation between Average Marriage Age and Crude Marriage Rate: \\n\")\n",
    "print(f\"Japan: {japan_df[['AverageMarriageAge', 'CrudeMarriageRate']].corr()}\\n\")\n",
    "print(f\"Mexico: {mexico_df[['AverageMarriageAge', 'CrudeMarriageRate']].corr()}\\n\")"
   ]
  },
  {
   "cell_type": "markdown",
   "id": "7d3370f3",
   "metadata": {},
   "source": [
    "### Graph Description\n",
    "For this graph, we plotted the Average Marriage Age against the year for Japan and Mexico.\n",
    "<br> <br>\n",
    "The overall average marriage age between the two countries has increased constantly and significantly, especially in Mexico. Mexico's average marriage age started from 20 in 1995 and ended up near 27 in 2014. However, Japan's average marriage age started from around 26 in 1995 and ended up near 30 in 2014. We noticed that there was not much fluctuation in terms of average marriage age in both countries while witnessing faster increase in age in Mexico, however, still maintaining lower age compared to that of Japan."
   ]
  },
  {
   "cell_type": "code",
   "execution_count": 21,
   "id": "fdc42171",
   "metadata": {},
   "outputs": [
    {
     "data": {
      "text/plain": [
       "<AxesSubplot:xlabel='Year', ylabel='AverageMarriageAge'>"
      ]
     },
     "execution_count": 21,
     "metadata": {},
     "output_type": "execute_result"
    },
    {
     "data": {
      "image/png": "[encoded data removed]",
      "text/plain": [
       "<Figure size 432x288 with 1 Axes>"
      ]
     },
     "metadata": {
      "needs_background": "light"
     },
     "output_type": "display_data"
    }
   ],
   "source": [
    "seaborn.lineplot(data=comparison2_df, x=year2, y=age2, hue=\"Entity\")"
   ]
  },
  {
   "cell_type": "markdown",
   "id": "d49a6ce8",
   "metadata": {},
   "source": [
    "## Comparing Locations for Age and Marriage Rate\n",
    "\n",
    "### Austria v.s. Switzerland\n",
    "Due to how these two countries are in the same continent with a similar population number (Austria: 8.9 million, Switzerland: 8.6 million), we wanted to see whether there is a correlation between these 2 countries.\n",
    "\n",
    "### Data Cleaning \n",
    "Since we only we need data for the 2 countries, we decided to use SQL to select only the data on the two countries from the previously cleaned dataset in order to find out whether there is a correlation between marriage rate and average age that people marry in countries with a similar population number and in the same continent, which may lead to further research questions on whether there is a cultural similarity.  "
   ]
  },
  {
   "cell_type": "markdown",
   "id": "5128612e",
   "metadata": {},
   "source": [
    "### Graph Description\n",
    "For this graph, we plotted the Crude Marriage Rate against the year for Austria and Switzerland.\n",
    "<br><br>\n",
    "Austria and Switzerland saw a similar trend from 1990 to 2005 in crude marriage rate. Both had moderate decreases in the rate from the beginning of the period to 1997, and there was a significant decrease in 2000. Then, both countries' rate increased till 2005 while Austria saw a significant decrease from 2005 to 2007. The most noticeable different is the trend from 2011 to 2020 where Austria's rate constantly increased upto the point where it outperformed Switzerland. On the other hand, Switzerland's rate maintained to decrease over the time period. Thus, from 2015, Autria outperformed Switzerland which led to a higher rate for Austria with around 5.2 and 5.0 for Switzerland in 2020."
   ]
  },
  {
   "cell_type": "code",
   "execution_count": 22,
   "id": "c9f4b1ed",
   "metadata": {},
   "outputs": [
    {
     "name": "stdout",
     "output_type": "stream",
     "text": [
      "Returning data to local variable new3_df\n",
      "Returning data to local variable comparison3_df\n"
     ]
    },
    {
     "data": {
      "text/plain": [
       "<AxesSubplot:xlabel='Year', ylabel='CrudeMarriageRate'>"
      ]
     },
     "execution_count": 22,
     "metadata": {},
     "output_type": "execute_result"
    },
    {
     "data": {
      "image/png": "[encoded data removed]",
      "text/plain": [
       "<Figure size 432x288 with 1 Axes>"
      ]
     },
     "metadata": {
      "needs_background": "light"
     },
     "output_type": "display_data"
    }
   ],
   "source": [
    "%sql new3_df << SELECT * FROM marriage_df INNER JOIN age_comp1 ON marriage_df.year = age_comp1.year AND marriage_df.Entity = age_comp1.Entity\n",
    "%sql comparison3_df << SELECT * FROM new3_df WHERE Entity IN ('Austria', 'Switzerland')\n",
    "comparison3_df\n",
    "marriage3 = comparison3_df['CrudeMarriageRate']\n",
    "age3 = comparison3_df['AverageMarriageAge']\n",
    "year3 = comparison3_df['Year']\n",
    "\n",
    "seaborn.lineplot(data=comparison3_df, x=year3, y=marriage3, hue=\"Entity\")"
   ]
  },
  {
   "cell_type": "code",
   "execution_count": 66,
   "id": "91218cc8",
   "metadata": {},
   "outputs": [
    {
     "name": "stdout",
     "output_type": "stream",
     "text": [
      "Returning data to local variable swiss\n",
      "Returning data to local variable aus\n"
     ]
    },
    {
     "data": {
      "text/plain": [
       "(   CrudeMarriageRate\n",
       " 0                4.8,\n",
       "    CrudeMarriageRate\n",
       " 0                4.8)"
      ]
     },
     "execution_count": 66,
     "metadata": {},
     "output_type": "execute_result"
    }
   ],
   "source": [
    "#Finding most recent marriage rate for both countries\n",
    "%sql swiss << SELECT CrudeMarriageRate FROM marriage_df WHERE Entity = 'Switzerland' AND Year = '2017'\n",
    "%sql aus << SELECT CrudeMarriageRate FROM marriage_df WHERE Entity = 'Switzerland' AND Year = '2017'\n",
    "swiss, aus"
   ]
  },
  {
   "cell_type": "markdown",
   "id": "fc971f25",
   "metadata": {},
   "source": [
    "Sources:\n",
    "\n",
    "Population of Switzerland: https://www.worldometers.info/world-population/switzerland-population/\n",
    "\n",
    "Population of Austria: https://www.worldometers.info/world-population/austria-population/"
   ]
  },
  {
   "cell_type": "code",
   "execution_count": 67,
   "id": "1db89021",
   "metadata": {},
   "outputs": [
    {
     "data": {
      "text/plain": [
       "(-28.727815184341274, 1.7148986325153763e-181)"
      ]
     },
     "execution_count": 67,
     "metadata": {},
     "output_type": "execute_result"
    }
   ],
   "source": [
    "#Conducting z-test to compare both countries’ crude marriage rates\n",
    "marriage_num = [(8455804*.048),(8819901*.051)]\n",
    "population_size = [8455804, 8819901]\n",
    "z_calc, p_value = proportions_ztest(marriage_num, population_size)\n",
    "z_calc, p_value"
   ]
  },
  {
   "cell_type": "markdown",
   "id": "7cd215b1",
   "metadata": {},
   "source": [
    "#### Conclusion\n",
    "Our p-value of 1.7148986325153763e-181 is less than our sigificance level of 0.05, so we would reject the null hypothesis that the proportions (crude marriage rates) are the same for Austria and Switzerland. We can conclude that the crude marriage rates for Austria and Switzerland, which have similar population sizes, are significantly different."
   ]
  },
  {
   "cell_type": "markdown",
   "id": "63888ead",
   "metadata": {},
   "source": [
    "### Summary Statistics (Austria vs. Switzerland)\n",
    "We looked at the summary statistics for the Average Marriage Age and Crude Marriage Rate for Austria and Switzerland separately. Looking at the statistics, we notice that mean and median for both average marriage age and crude marriage rate are higher in Switzerland. For instance, both countries have similar mean average marriage ages while the Switzerland’s median average marriage age is higher by about 1.5. From this, we can assume that Switzerland tends to have a higher average marriage age in terms of both mean and median. Furthermore, as the standard deviation is lower for Switzerland compared to that of Austria, we can assume that Switzerland is a better representation compared to Austria. On the other hand, the standard deviation for Switzerland’s crude marriage rate is higher than that of Austria, thus Austria might be a better estimate when analyzing crude marriage rate between the two countries."
   ]
  },
  {
   "cell_type": "code",
   "execution_count": 23,
   "id": "10334d15",
   "metadata": {},
   "outputs": [
    {
     "name": "stdout",
     "output_type": "stream",
     "text": [
      "Austria:\n",
      "Summary Stats for AverageMarriageAge:\n",
      " Mean: 27.799999869565223\n",
      " Standard Deviation: 1.7487883681343817\n",
      " Median: 27.5\n",
      "Summary Stats for CrudeMarriageRate:\n",
      " Mean: 4.930434782608694\n",
      " Standard Deviation: 0.5295073860048115\n",
      " Median: 4.9\n",
      "\n",
      "Switzerland:\n",
      "Summary Stats for AverageMarriageAge:\n",
      " Mean: 28.800000038461537\n",
      " Standard Deviation: 1.1408498384302914\n",
      " Median: 29.05\n",
      "Summary Stats for CrudeMarriageRate:\n",
      " Mean: 5.546153846153846\n",
      " Standard Deviation: 0.5665216196775991\n",
      " Median: 5.4\n"
     ]
    }
   ],
   "source": [
    "print(\"Austria:\")\n",
    "austria_df = comparison3_df.loc[comparison3_df['Entity'] == 'Austria']\n",
    "calc_summary_stats(austria_df['AverageMarriageAge'])\n",
    "calc_summary_stats(austria_df['CrudeMarriageRate'])\n",
    "\n",
    "print(\"\\nSwitzerland:\")\n",
    "switzerland_df = comparison3_df.loc[comparison3_df['Entity'] == 'Switzerland']\n",
    "calc_summary_stats(switzerland_df['AverageMarriageAge'])\n",
    "calc_summary_stats(switzerland_df['CrudeMarriageRate'])"
   ]
  },
  {
   "cell_type": "markdown",
   "id": "ec7b74e4",
   "metadata": {},
   "source": [
    "From the correlation between average marriage age and crude marriage rate for the the two countries, we can see that Austria and Switzerland both have moderately high correlations of -0.76 and -0.83. \n",
    "<br>\n",
    "This supports our hypothesis that countries in the same continent with a similar population number will exhibit higher correlations between average marriage age and crude marriage rate. However, these rates are relatively lower than other countries' that we have discussed above since Autria and Switzerland's cultures are significantly different with noticeably different regulations, which might have led to moderately strong correlation."
   ]
  },
  {
   "cell_type": "code",
   "execution_count": 24,
   "id": "b428d8c2",
   "metadata": {},
   "outputs": [
    {
     "name": "stdout",
     "output_type": "stream",
     "text": [
      "Correlation between Average Marriage Age and Crude Marriage Rate: \n",
      "\n",
      "Austria:                     AverageMarriageAge  CrudeMarriageRate\n",
      "AverageMarriageAge            1.000000          -0.757351\n",
      "CrudeMarriageRate            -0.757351           1.000000\n",
      "\n",
      "Switzerland:                     AverageMarriageAge  CrudeMarriageRate\n",
      "AverageMarriageAge            1.000000          -0.827768\n",
      "CrudeMarriageRate            -0.827768           1.000000\n",
      "\n"
     ]
    }
   ],
   "source": [
    "print(\"Correlation between Average Marriage Age and Crude Marriage Rate: \\n\")\n",
    "print(f\"Austria: {austria_df[['AverageMarriageAge', 'CrudeMarriageRate']].corr()}\\n\")\n",
    "print(f\"Switzerland: {switzerland_df[['AverageMarriageAge', 'CrudeMarriageRate']].corr()}\\n\")"
   ]
  },
  {
   "cell_type": "markdown",
   "id": "395d3f7e",
   "metadata": {},
   "source": [
    "### Graph Description\n",
    "For this graph, we plotted the Average Marriage Age against the year for Austria and Switzerland.\n",
    "<br><br>\n",
    "The overall trend in average marriage age in Austria and Switzerland has increased significantly from approximately 25 in 1990 to 31 in 2020. Both countries had constant increase in average marriage age over time where Austria has a steeper increase: Austria with an increase of 6 and 3 for Switzerland. Austria outperformed Switzerland starting from around 2007 which led Austria to end up with a higher average marriage age in 2015 with the result of over 31 while Switzerland with 30."
   ]
  },
  {
   "cell_type": "code",
   "execution_count": 25,
   "id": "1c073cfb",
   "metadata": {},
   "outputs": [
    {
     "data": {
      "text/plain": [
       "<AxesSubplot:xlabel='Year', ylabel='AverageMarriageAge'>"
      ]
     },
     "execution_count": 25,
     "metadata": {},
     "output_type": "execute_result"
    },
    {
     "data": {
      "image/png": "[encoded data removed]",
      "text/plain": [
       "<Figure size 432x288 with 1 Axes>"
      ]
     },
     "metadata": {
      "needs_background": "light"
     },
     "output_type": "display_data"
    }
   ],
   "source": [
    "seaborn.lineplot(data=comparison3_df, x=year3, y=age3, hue=\"Entity\")"
   ]
  },
  {
   "cell_type": "markdown",
   "id": "4f0615ee",
   "metadata": {},
   "source": [
    "## Comparing Locations for Age and Marriage Rate\n",
    "\n",
    "### Canada v.s. Australia\n",
    "Due to how these two countries has a similar population number (Canada: 38.01 million, Australia: 25.69 million), we wanted to see whether there is a correlation between these 2 countries.\n",
    "\n",
    "### Data Cleaning \n",
    "Since we only we need data for the 2 countries, we decided to use SQL to select only the data on the two countries from the previously cleaned dataset in order to find out whether there is a correlation between marriage rate and average age that people marry in countries with a similar population number despite its geographical location."
   ]
  },
  {
   "cell_type": "markdown",
   "id": "694a0eee",
   "metadata": {},
   "source": [
    "### Graph Description\n",
    "For this graph, we plotted the Crude Marriage Rate against the year for Canada and Australia.\n",
    "<br><br>\n",
    "Looking at the graph, we can compare the trend in crude marriage rate between Canada and Australia from 1990 to around 2008 since we don't have any data after 2008 for Canada. Overall, the rate has decreased over time in both countries. Both started with a very similar rate in 1990 around 6.8. From then to 1996, there's a significant decrease in the rate. While Canada maintained the rate till 2000, Australia had an increase in 1998. Australia has a steady slow increase till 2008 after a drop in 2000. However, Canada's rate decreased after the drop in 2000. Even though the two countries started from a similar rate, they ended up at different rates in 2008: 5.5 for Australia and 4.3 for Canada."
   ]
  },
  {
   "cell_type": "code",
   "execution_count": 26,
   "id": "611ac734",
   "metadata": {},
   "outputs": [
    {
     "name": "stdout",
     "output_type": "stream",
     "text": [
      "Returning data to local variable new5_df\n",
      "Returning data to local variable comparison5_df\n"
     ]
    },
    {
     "data": {
      "text/plain": [
       "<AxesSubplot:xlabel='Year', ylabel='CrudeMarriageRate'>"
      ]
     },
     "execution_count": 26,
     "metadata": {},
     "output_type": "execute_result"
    },
    {
     "data": {
      "image/png": "[encoded data removed]",
      "text/plain": [
       "<Figure size 432x288 with 1 Axes>"
      ]
     },
     "metadata": {
      "needs_background": "light"
     },
     "output_type": "display_data"
    }
   ],
   "source": [
    "%sql new5_df << SELECT * FROM marriage_df INNER JOIN age_comp1 ON marriage_df.year = age_comp1.year AND marriage_df.Entity = age_comp1.Entity\n",
    "%sql comparison5_df << SELECT * FROM new5_df WHERE Entity IN ('Canada', 'Australia')\n",
    "comparison5_df\n",
    "marriage5 = comparison5_df['CrudeMarriageRate']\n",
    "age5 = comparison5_df['AverageMarriageAge']\n",
    "year5 = comparison5_df['Year']\n",
    "\n",
    "seaborn.lineplot(data=comparison5_df, x=year5, y=marriage5, hue=\"Entity\")"
   ]
  },
  {
   "cell_type": "code",
   "execution_count": 75,
   "id": "93eaa19b",
   "metadata": {},
   "outputs": [
    {
     "name": "stdout",
     "output_type": "stream",
     "text": [
      "Returning data to local variable canada\n",
      "Returning data to local variable australia\n"
     ]
    },
    {
     "data": {
      "text/plain": [
       "(   CrudeMarriageRate\n",
       " 0                4.4,\n",
       "    CrudeMarriageRate\n",
       " 0                5.5)"
      ]
     },
     "execution_count": 75,
     "metadata": {},
     "output_type": "execute_result"
    }
   ],
   "source": [
    "#Finding most recent marriage rate for both countries\n",
    "%sql canada << SELECT CrudeMarriageRate FROM marriage_df WHERE Entity = 'Canada' AND Year = '2008'\n",
    "%sql australia << SELECT CrudeMarriageRate FROM marriage_df WHERE Entity = 'Australia' AND Year = '2008'\n",
    "canada, australia "
   ]
  },
  {
   "cell_type": "markdown",
   "id": "1266e93b",
   "metadata": {},
   "source": [
    "Sources:\n",
    "\n",
    "Population for Canada: https://www.worldometers.info/world-population/canada-population/\n",
    "\n",
    "Population for Australia: https://www.worldometers.info/world-population/australia-population/\n"
   ]
  },
  {
   "cell_type": "code",
   "execution_count": 76,
   "id": "e148dd1e",
   "metadata": {},
   "outputs": [
    {
     "data": {
      "text/plain": [
       "(-185.06068254015113, 0.0)"
      ]
     },
     "execution_count": 76,
     "metadata": {},
     "output_type": "execute_result"
    }
   ],
   "source": [
    "#Conducting z-test to compare both countries’ crude marriage rates\n",
    "marriage_num = [(33337638*.044),(21332282*.055)]\n",
    "population_size = [33337638, 21332282]\n",
    "z_calc, p_value = proportions_ztest(marriage_num, population_size)\n",
    "z_calc, p_value"
   ]
  },
  {
   "cell_type": "markdown",
   "id": "9cc83289",
   "metadata": {},
   "source": [
    "#### Conclusion\n",
    "Our p-value of 0 is less than our sigificance level of 0.05, so we would reject the null hypothesis that the proportions (crude marriage rates) are the same for Canada and Australia. We can conclude that the crude marriage rates for Canada and Australia, which have similar population sizes, are significantly different."
   ]
  },
  {
   "cell_type": "markdown",
   "id": "520694fa",
   "metadata": {},
   "source": [
    "### Summary Statistics (Canada vs. Australia)\n",
    "We looked at the summary statistics for the Average Marriage Age and Crude Marriage Rate for Canada and Australia as a whole, as well as, for the individual countries separately. Overall, Canada and Australia has a similar mean and median for both marriage rates and average age for marriage. However, because of how Canada has a slightly lower standard deviation for average marriage age, this could also indicate that Canada may be a more accurate estimate for marriage age between the two countries."
   ]
  },
  {
   "cell_type": "code",
   "execution_count": 27,
   "id": "479a060a",
   "metadata": {},
   "outputs": [
    {
     "name": "stdout",
     "output_type": "stream",
     "text": [
      "Canada:\n",
      "Summary Stats for AverageMarriageAge:\n",
      " Mean: 27.342105421052633\n",
      " Standard Deviation: 1.1231141231052413\n",
      " Median: 27.200001\n",
      "Summary Stats for CrudeMarriageRate:\n",
      " Mean: 5.147368421052631\n",
      " Standard Deviation: 0.6081623926591279\n",
      " Median: 5.1\n",
      "\n",
      "Australia:\n",
      "Summary Stats for AverageMarriageAge:\n",
      " Mean: 26.903571464285715\n",
      " Standard Deviation: 1.3544852244357444\n",
      " Median: 27.3999995\n",
      "Summary Stats for CrudeMarriageRate:\n",
      " Mean: 5.639285714285715\n",
      " Standard Deviation: 0.544018963505006\n",
      " Median: 5.5\n"
     ]
    }
   ],
   "source": [
    "print(\"Canada:\")\n",
    "canada_df = comparison5_df.loc[comparison5_df['Entity'] == 'Canada']\n",
    "calc_summary_stats(canada_df['AverageMarriageAge'])\n",
    "calc_summary_stats(canada_df['CrudeMarriageRate'])\n",
    "\n",
    "print(\"\\nAustralia:\")\n",
    "australia_df = comparison5_df.loc[comparison5_df['Entity'] == 'Australia']\n",
    "calc_summary_stats(australia_df['AverageMarriageAge'])\n",
    "calc_summary_stats(australia_df['CrudeMarriageRate'])"
   ]
  },
  {
   "cell_type": "markdown",
   "id": "d35c9a26",
   "metadata": {},
   "source": [
    "From the correlation between average marriage age and crude marriage rate for the the two countries, we can see that Canada and Australia both have high correlations of -0.92 and -0.95. \n",
    "<br>\n",
    "This supports our hypothesis that countries with similar population number will exhibit higher correlations between average marriage age and crude marriage rate. "
   ]
  },
  {
   "cell_type": "code",
   "execution_count": 28,
   "id": "212c6e48",
   "metadata": {
    "scrolled": true
   },
   "outputs": [
    {
     "name": "stdout",
     "output_type": "stream",
     "text": [
      "Correlation between Average Marriage Age and Crude Marriage Rate: \n",
      "\n",
      "Canada:                     AverageMarriageAge  CrudeMarriageRate\n",
      "AverageMarriageAge            1.000000          -0.924502\n",
      "CrudeMarriageRate            -0.924502           1.000000\n",
      "\n",
      "Australia:                     AverageMarriageAge  CrudeMarriageRate\n",
      "AverageMarriageAge            1.000000          -0.945798\n",
      "CrudeMarriageRate            -0.945798           1.000000\n",
      "\n"
     ]
    }
   ],
   "source": [
    "print(\"Correlation between Average Marriage Age and Crude Marriage Rate: \\n\")\n",
    "print(f\"Canada: {canada_df[['AverageMarriageAge', 'CrudeMarriageRate']].corr()}\\n\")\n",
    "print(f\"Australia: {australia_df[['AverageMarriageAge', 'CrudeMarriageRate']].corr()}\\n\")"
   ]
  },
  {
   "cell_type": "markdown",
   "id": "2a553a39",
   "metadata": {},
   "source": [
    "### Graph Description\n",
    "For this graph, we plotted the Average Marriage Age against the year for Canada and Australia.\n",
    "<br><br>\n",
    "The overall trend for both countries regarding average marriage age are very similar as both are increasing since 1990 to 2008. Canada seems to have a higher average marriage age from the start year 1990 to the end 2008. After around 2003, while Canada increases at a faster rate, Australia seems to increase at a slower rate after 2005."
   ]
  },
  {
   "cell_type": "code",
   "execution_count": 29,
   "id": "62f5df60",
   "metadata": {},
   "outputs": [
    {
     "data": {
      "text/plain": [
       "<AxesSubplot:xlabel='Year', ylabel='AverageMarriageAge'>"
      ]
     },
     "execution_count": 29,
     "metadata": {},
     "output_type": "execute_result"
    },
    {
     "data": {
      "image/png": "[encoded data removed]",
      "text/plain": [
       "<Figure size 432x288 with 1 Axes>"
      ]
     },
     "metadata": {
      "needs_background": "light"
     },
     "output_type": "display_data"
    }
   ],
   "source": [
    "seaborn.lineplot(data=comparison5_df, x=year5, y=age5, hue=\"Entity\")"
   ]
  },
  {
   "cell_type": "markdown",
   "id": "2b2967a7",
   "metadata": {},
   "source": [
    "# United States\n",
    "\n"
   ]
  },
  {
   "cell_type": "markdown",
   "id": "6a7f7971",
   "metadata": {},
   "source": [
    "Due to the lack of data for other countries, we decided to focus on United States to delve deeper into identifying which factors have the strongest correlation with marriage rates. We used the same dataset for marriage and age. \n",
    "\n",
    "### Data Cleaning \n",
    "When using an inner join on us_marriage_df and us_age_df, it resulted in two year columns in us_df that had the same row values. To avoid any future issues or confusion from having multiple year columns, we renamed each year column to specify the data it came from (Marriage or Age)."
   ]
  },
  {
   "cell_type": "code",
   "execution_count": 30,
   "id": "9526f601",
   "metadata": {
    "scrolled": true
   },
   "outputs": [
    {
     "name": "stdout",
     "output_type": "stream",
     "text": [
      "Returning data to local variable us_marriage_df\n",
      "Returning data to local variable us_marriage_df\n",
      "Returning data to local variable us_age_df\n",
      "Returning data to local variable us_age_df\n",
      "Returning data to local variable us_df\n"
     ]
    },
    {
     "data": {
      "text/html": [
       "<div>\n",
       "<style scoped>\n",
       "    .dataframe tbody tr th:only-of-type {\n",
       "        vertical-align: middle;\n",
       "    }\n",
       "\n",
       "    .dataframe tbody tr th {\n",
       "        vertical-align: top;\n",
       "    }\n",
       "\n",
       "    .dataframe thead th {\n",
       "        text-align: right;\n",
       "    }\n",
       "</style>\n",
       "<table border=\"1\" class=\"dataframe\">\n",
       "  <thead>\n",
       "    <tr style=\"text-align: right;\">\n",
       "      <th></th>\n",
       "      <th>MarriageYear</th>\n",
       "      <th>CrudeMarriageRate</th>\n",
       "      <th>AgeYear</th>\n",
       "      <th>AverageMarriageAge</th>\n",
       "    </tr>\n",
       "  </thead>\n",
       "  <tbody>\n",
       "    <tr>\n",
       "      <th>0</th>\n",
       "      <td>1990</td>\n",
       "      <td>9.8</td>\n",
       "      <td>1990</td>\n",
       "      <td>23.900000</td>\n",
       "    </tr>\n",
       "    <tr>\n",
       "      <th>1</th>\n",
       "      <td>1991</td>\n",
       "      <td>9.4</td>\n",
       "      <td>1991</td>\n",
       "      <td>24.100000</td>\n",
       "    </tr>\n",
       "    <tr>\n",
       "      <th>2</th>\n",
       "      <td>1992</td>\n",
       "      <td>9.3</td>\n",
       "      <td>1992</td>\n",
       "      <td>24.400000</td>\n",
       "    </tr>\n",
       "    <tr>\n",
       "      <th>3</th>\n",
       "      <td>1993</td>\n",
       "      <td>9.0</td>\n",
       "      <td>1993</td>\n",
       "      <td>24.500000</td>\n",
       "    </tr>\n",
       "    <tr>\n",
       "      <th>4</th>\n",
       "      <td>1994</td>\n",
       "      <td>9.1</td>\n",
       "      <td>1994</td>\n",
       "      <td>24.500000</td>\n",
       "    </tr>\n",
       "    <tr>\n",
       "      <th>5</th>\n",
       "      <td>1995</td>\n",
       "      <td>8.9</td>\n",
       "      <td>1995</td>\n",
       "      <td>24.500000</td>\n",
       "    </tr>\n",
       "    <tr>\n",
       "      <th>6</th>\n",
       "      <td>1996</td>\n",
       "      <td>8.8</td>\n",
       "      <td>1996</td>\n",
       "      <td>24.799999</td>\n",
       "    </tr>\n",
       "    <tr>\n",
       "      <th>7</th>\n",
       "      <td>1997</td>\n",
       "      <td>8.9</td>\n",
       "      <td>1997</td>\n",
       "      <td>25.000000</td>\n",
       "    </tr>\n",
       "    <tr>\n",
       "      <th>8</th>\n",
       "      <td>1998</td>\n",
       "      <td>8.4</td>\n",
       "      <td>1998</td>\n",
       "      <td>25.000000</td>\n",
       "    </tr>\n",
       "    <tr>\n",
       "      <th>9</th>\n",
       "      <td>1999</td>\n",
       "      <td>8.6</td>\n",
       "      <td>1999</td>\n",
       "      <td>25.100000</td>\n",
       "    </tr>\n",
       "    <tr>\n",
       "      <th>10</th>\n",
       "      <td>2000</td>\n",
       "      <td>8.3</td>\n",
       "      <td>2000</td>\n",
       "      <td>25.100000</td>\n",
       "    </tr>\n",
       "    <tr>\n",
       "      <th>11</th>\n",
       "      <td>2001</td>\n",
       "      <td>8.2</td>\n",
       "      <td>2001</td>\n",
       "      <td>25.100000</td>\n",
       "    </tr>\n",
       "    <tr>\n",
       "      <th>12</th>\n",
       "      <td>2002</td>\n",
       "      <td>7.8</td>\n",
       "      <td>2002</td>\n",
       "      <td>25.299999</td>\n",
       "    </tr>\n",
       "    <tr>\n",
       "      <th>13</th>\n",
       "      <td>2003</td>\n",
       "      <td>7.7</td>\n",
       "      <td>2003</td>\n",
       "      <td>25.299999</td>\n",
       "    </tr>\n",
       "    <tr>\n",
       "      <th>14</th>\n",
       "      <td>2004</td>\n",
       "      <td>7.8</td>\n",
       "      <td>2004</td>\n",
       "      <td>25.299999</td>\n",
       "    </tr>\n",
       "    <tr>\n",
       "      <th>15</th>\n",
       "      <td>2005</td>\n",
       "      <td>7.6</td>\n",
       "      <td>2005</td>\n",
       "      <td>25.299999</td>\n",
       "    </tr>\n",
       "    <tr>\n",
       "      <th>16</th>\n",
       "      <td>2007</td>\n",
       "      <td>7.3</td>\n",
       "      <td>2007</td>\n",
       "      <td>25.600000</td>\n",
       "    </tr>\n",
       "    <tr>\n",
       "      <th>17</th>\n",
       "      <td>2008</td>\n",
       "      <td>7.1</td>\n",
       "      <td>2008</td>\n",
       "      <td>25.900000</td>\n",
       "    </tr>\n",
       "    <tr>\n",
       "      <th>18</th>\n",
       "      <td>2009</td>\n",
       "      <td>6.8</td>\n",
       "      <td>2009</td>\n",
       "      <td>25.900000</td>\n",
       "    </tr>\n",
       "    <tr>\n",
       "      <th>19</th>\n",
       "      <td>2010</td>\n",
       "      <td>6.8</td>\n",
       "      <td>2010</td>\n",
       "      <td>26.100000</td>\n",
       "    </tr>\n",
       "    <tr>\n",
       "      <th>20</th>\n",
       "      <td>2011</td>\n",
       "      <td>6.8</td>\n",
       "      <td>2011</td>\n",
       "      <td>26.400000</td>\n",
       "    </tr>\n",
       "    <tr>\n",
       "      <th>21</th>\n",
       "      <td>2012</td>\n",
       "      <td>6.8</td>\n",
       "      <td>2012</td>\n",
       "      <td>26.600000</td>\n",
       "    </tr>\n",
       "    <tr>\n",
       "      <th>22</th>\n",
       "      <td>2013</td>\n",
       "      <td>6.8</td>\n",
       "      <td>2013</td>\n",
       "      <td>26.600000</td>\n",
       "    </tr>\n",
       "    <tr>\n",
       "      <th>23</th>\n",
       "      <td>2014</td>\n",
       "      <td>6.9</td>\n",
       "      <td>2014</td>\n",
       "      <td>27.000000</td>\n",
       "    </tr>\n",
       "    <tr>\n",
       "      <th>24</th>\n",
       "      <td>2015</td>\n",
       "      <td>6.9</td>\n",
       "      <td>2015</td>\n",
       "      <td>27.100000</td>\n",
       "    </tr>\n",
       "    <tr>\n",
       "      <th>25</th>\n",
       "      <td>2016</td>\n",
       "      <td>7.0</td>\n",
       "      <td>2016</td>\n",
       "      <td>27.400000</td>\n",
       "    </tr>\n",
       "    <tr>\n",
       "      <th>26</th>\n",
       "      <td>2017</td>\n",
       "      <td>6.9</td>\n",
       "      <td>2017</td>\n",
       "      <td>27.400000</td>\n",
       "    </tr>\n",
       "    <tr>\n",
       "      <th>27</th>\n",
       "      <td>2006</td>\n",
       "      <td>7.5</td>\n",
       "      <td>2006</td>\n",
       "      <td>25.500000</td>\n",
       "    </tr>\n",
       "  </tbody>\n",
       "</table>\n",
       "</div>"
      ],
      "text/plain": [
       "    MarriageYear  CrudeMarriageRate  AgeYear  AverageMarriageAge\n",
       "0           1990                9.8     1990           23.900000\n",
       "1           1991                9.4     1991           24.100000\n",
       "2           1992                9.3     1992           24.400000\n",
       "3           1993                9.0     1993           24.500000\n",
       "4           1994                9.1     1994           24.500000\n",
       "5           1995                8.9     1995           24.500000\n",
       "6           1996                8.8     1996           24.799999\n",
       "7           1997                8.9     1997           25.000000\n",
       "8           1998                8.4     1998           25.000000\n",
       "9           1999                8.6     1999           25.100000\n",
       "10          2000                8.3     2000           25.100000\n",
       "11          2001                8.2     2001           25.100000\n",
       "12          2002                7.8     2002           25.299999\n",
       "13          2003                7.7     2003           25.299999\n",
       "14          2004                7.8     2004           25.299999\n",
       "15          2005                7.6     2005           25.299999\n",
       "16          2007                7.3     2007           25.600000\n",
       "17          2008                7.1     2008           25.900000\n",
       "18          2009                6.8     2009           25.900000\n",
       "19          2010                6.8     2010           26.100000\n",
       "20          2011                6.8     2011           26.400000\n",
       "21          2012                6.8     2012           26.600000\n",
       "22          2013                6.8     2013           26.600000\n",
       "23          2014                6.9     2014           27.000000\n",
       "24          2015                6.9     2015           27.100000\n",
       "25          2016                7.0     2016           27.400000\n",
       "26          2017                6.9     2017           27.400000\n",
       "27          2006                7.5     2006           25.500000"
      ]
     },
     "execution_count": 30,
     "metadata": {},
     "output_type": "execute_result"
    }
   ],
   "source": [
    "%sql us_marriage_df << SELECT * FROM marriage_raw_df WHERE Entity = 'United States'\n",
    "%sql us_marriage_df << SELECT Year, CrudeMarriageRate FROM us_marriage_df GROUP BY year, CrudeMarriageRate\n",
    "us_marriage_df = us_marriage_df.rename(columns={'Year': 'MarriageYear'})\n",
    "#print(us_marriage_df)\n",
    "\n",
    "%sql us_age_df << SELECT * FROM age_raw_df WHERE Entity = 'United States' \n",
    "%sql us_age_df << SELECT Year, AverageMarriageAge FROM us_age_df GROUP BY Year, AverageMarriageAge\n",
    "us_age_df[\"Year\"] = us_age_df[\"Year\"].astype(int)\n",
    "us_age_df = us_age_df.rename(columns={'Year': 'AgeYear'})\n",
    "#print(us_age_df)\n",
    "\n",
    "%sql us_df << SELECT * FROM us_marriage_df INNER JOIN us_age_df ON us_marriage_df.MarriageYear = us_age_df.AgeYear \n",
    "#us_df = us_df.rename(columns={'MarriageYear': 'Year'})\n",
    "us_df"
   ]
  },
  {
   "cell_type": "code",
   "execution_count": 31,
   "id": "e0b08edb",
   "metadata": {},
   "outputs": [
    {
     "data": {
      "text/html": [
       "<div>\n",
       "<style scoped>\n",
       "    .dataframe tbody tr th:only-of-type {\n",
       "        vertical-align: middle;\n",
       "    }\n",
       "\n",
       "    .dataframe tbody tr th {\n",
       "        vertical-align: top;\n",
       "    }\n",
       "\n",
       "    .dataframe thead th {\n",
       "        text-align: right;\n",
       "    }\n",
       "</style>\n",
       "<table border=\"1\" class=\"dataframe\">\n",
       "  <thead>\n",
       "    <tr style=\"text-align: right;\">\n",
       "      <th></th>\n",
       "      <th>Date</th>\n",
       "      <th>Category</th>\n",
       "      <th>Net worth</th>\n",
       "      <th>Assets</th>\n",
       "      <th>Real estate</th>\n",
       "      <th>Consumer durables</th>\n",
       "      <th>Corporate equities and mutual fund shares</th>\n",
       "      <th>DB pension entitlements</th>\n",
       "      <th>DC pension entitlements</th>\n",
       "      <th>Private businesses</th>\n",
       "      <th>Other assets</th>\n",
       "      <th>Liabilities</th>\n",
       "      <th>Home mortgages</th>\n",
       "      <th>Consumer credit</th>\n",
       "      <th>Other liabilities</th>\n",
       "    </tr>\n",
       "  </thead>\n",
       "  <tbody>\n",
       "    <tr>\n",
       "      <th>0</th>\n",
       "      <td>1989:Q3</td>\n",
       "      <td>TopPt1</td>\n",
       "      <td>1762754</td>\n",
       "      <td>1808118</td>\n",
       "      <td>143483</td>\n",
       "      <td>198277</td>\n",
       "      <td>297188</td>\n",
       "      <td>10305</td>\n",
       "      <td>28192</td>\n",
       "      <td>599209</td>\n",
       "      <td>531464</td>\n",
       "      <td>45363</td>\n",
       "      <td>15660</td>\n",
       "      <td>20152</td>\n",
       "      <td>9551</td>\n",
       "    </tr>\n",
       "    <tr>\n",
       "      <th>1</th>\n",
       "      <td>1989:Q3</td>\n",
       "      <td>RemainingTop1</td>\n",
       "      <td>2847464</td>\n",
       "      <td>2928475</td>\n",
       "      <td>452975</td>\n",
       "      <td>161152</td>\n",
       "      <td>570202</td>\n",
       "      <td>109570</td>\n",
       "      <td>74104</td>\n",
       "      <td>725055</td>\n",
       "      <td>835418</td>\n",
       "      <td>81012</td>\n",
       "      <td>62513</td>\n",
       "      <td>4856</td>\n",
       "      <td>13643</td>\n",
       "    </tr>\n",
       "    <tr>\n",
       "      <th>2</th>\n",
       "      <td>1989:Q3</td>\n",
       "      <td>Next9</td>\n",
       "      <td>7614607</td>\n",
       "      <td>8115723</td>\n",
       "      <td>2070067</td>\n",
       "      <td>417078</td>\n",
       "      <td>814534</td>\n",
       "      <td>1411757</td>\n",
       "      <td>425100</td>\n",
       "      <td>1016995</td>\n",
       "      <td>1960192</td>\n",
       "      <td>501116</td>\n",
       "      <td>397307</td>\n",
       "      <td>56293</td>\n",
       "      <td>47516</td>\n",
       "    </tr>\n",
       "    <tr>\n",
       "      <th>3</th>\n",
       "      <td>1989:Q3</td>\n",
       "      <td>Next40</td>\n",
       "      <td>7421340</td>\n",
       "      <td>8996174</td>\n",
       "      <td>3415352</td>\n",
       "      <td>760975</td>\n",
       "      <td>345482</td>\n",
       "      <td>1787955</td>\n",
       "      <td>424008</td>\n",
       "      <td>582316</td>\n",
       "      <td>1680086</td>\n",
       "      <td>1574834</td>\n",
       "      <td>1160943</td>\n",
       "      <td>363894</td>\n",
       "      <td>49997</td>\n",
       "    </tr>\n",
       "    <tr>\n",
       "      <th>4</th>\n",
       "      <td>1989:Q3</td>\n",
       "      <td>Bottom50</td>\n",
       "      <td>773613</td>\n",
       "      <td>1721722</td>\n",
       "      <td>810861</td>\n",
       "      <td>358869</td>\n",
       "      <td>24313</td>\n",
       "      <td>158378</td>\n",
       "      <td>56403</td>\n",
       "      <td>46051</td>\n",
       "      <td>266847</td>\n",
       "      <td>948110</td>\n",
       "      <td>574267</td>\n",
       "      <td>339011</td>\n",
       "      <td>34832</td>\n",
       "    </tr>\n",
       "    <tr>\n",
       "      <th>...</th>\n",
       "      <td>...</td>\n",
       "      <td>...</td>\n",
       "      <td>...</td>\n",
       "      <td>...</td>\n",
       "      <td>...</td>\n",
       "      <td>...</td>\n",
       "      <td>...</td>\n",
       "      <td>...</td>\n",
       "      <td>...</td>\n",
       "      <td>...</td>\n",
       "      <td>...</td>\n",
       "      <td>...</td>\n",
       "      <td>...</td>\n",
       "      <td>...</td>\n",
       "      <td>...</td>\n",
       "    </tr>\n",
       "    <tr>\n",
       "      <th>655</th>\n",
       "      <td>2022:Q2</td>\n",
       "      <td>TopPt1</td>\n",
       "      <td>17054366</td>\n",
       "      <td>17184481</td>\n",
       "      <td>1463136</td>\n",
       "      <td>432591</td>\n",
       "      <td>7153298</td>\n",
       "      <td>45845</td>\n",
       "      <td>141999</td>\n",
       "      <td>5033798</td>\n",
       "      <td>2913813</td>\n",
       "      <td>130115</td>\n",
       "      <td>60569</td>\n",
       "      <td>18713</td>\n",
       "      <td>50833</td>\n",
       "    </tr>\n",
       "    <tr>\n",
       "      <th>656</th>\n",
       "      <td>2022:Q2</td>\n",
       "      <td>RemainingTop1</td>\n",
       "      <td>25079978</td>\n",
       "      <td>25754269</td>\n",
       "      <td>3874882</td>\n",
       "      <td>489192</td>\n",
       "      <td>10325857</td>\n",
       "      <td>435177</td>\n",
       "      <td>842315</td>\n",
       "      <td>4611284</td>\n",
       "      <td>5175562</td>\n",
       "      <td>674290</td>\n",
       "      <td>526101</td>\n",
       "      <td>41339</td>\n",
       "      <td>106850</td>\n",
       "    </tr>\n",
       "    <tr>\n",
       "      <th>657</th>\n",
       "      <td>2022:Q2</td>\n",
       "      <td>Next9</td>\n",
       "      <td>50035271</td>\n",
       "      <td>53695141</td>\n",
       "      <td>12898784</td>\n",
       "      <td>1592273</td>\n",
       "      <td>11645344</td>\n",
       "      <td>8841753</td>\n",
       "      <td>5503839</td>\n",
       "      <td>4129079</td>\n",
       "      <td>9084069</td>\n",
       "      <td>3659870</td>\n",
       "      <td>3041273</td>\n",
       "      <td>303026</td>\n",
       "      <td>315571</td>\n",
       "    </tr>\n",
       "    <tr>\n",
       "      <th>658</th>\n",
       "      <td>2022:Q2</td>\n",
       "      <td>Next40</td>\n",
       "      <td>39175173</td>\n",
       "      <td>46868279</td>\n",
       "      <td>16946726</td>\n",
       "      <td>3232344</td>\n",
       "      <td>3601795</td>\n",
       "      <td>8611730</td>\n",
       "      <td>4622638</td>\n",
       "      <td>2231056</td>\n",
       "      <td>7621990</td>\n",
       "      <td>7693106</td>\n",
       "      <td>5692757</td>\n",
       "      <td>1636552</td>\n",
       "      <td>363797</td>\n",
       "    </tr>\n",
       "    <tr>\n",
       "      <th>659</th>\n",
       "      <td>2022:Q2</td>\n",
       "      <td>Bottom50</td>\n",
       "      <td>4405938</td>\n",
       "      <td>10256405</td>\n",
       "      <td>6012657</td>\n",
       "      <td>1927205</td>\n",
       "      <td>204702</td>\n",
       "      <td>324980</td>\n",
       "      <td>559555</td>\n",
       "      <td>137503</td>\n",
       "      <td>1089802</td>\n",
       "      <td>5850466</td>\n",
       "      <td>2838703</td>\n",
       "      <td>2582367</td>\n",
       "      <td>429396</td>\n",
       "    </tr>\n",
       "  </tbody>\n",
       "</table>\n",
       "<p>660 rows × 15 columns</p>\n",
       "</div>"
      ],
      "text/plain": [
       "        Date       Category  Net worth    Assets  Real estate  \\\n",
       "0    1989:Q3         TopPt1    1762754   1808118       143483   \n",
       "1    1989:Q3  RemainingTop1    2847464   2928475       452975   \n",
       "2    1989:Q3          Next9    7614607   8115723      2070067   \n",
       "3    1989:Q3         Next40    7421340   8996174      3415352   \n",
       "4    1989:Q3       Bottom50     773613   1721722       810861   \n",
       "..       ...            ...        ...       ...          ...   \n",
       "655  2022:Q2         TopPt1   17054366  17184481      1463136   \n",
       "656  2022:Q2  RemainingTop1   25079978  25754269      3874882   \n",
       "657  2022:Q2          Next9   50035271  53695141     12898784   \n",
       "658  2022:Q2         Next40   39175173  46868279     16946726   \n",
       "659  2022:Q2       Bottom50    4405938  10256405      6012657   \n",
       "\n",
       "     Consumer durables  Corporate equities and mutual fund shares  \\\n",
       "0               198277                                     297188   \n",
       "1               161152                                     570202   \n",
       "2               417078                                     814534   \n",
       "3               760975                                     345482   \n",
       "4               358869                                      24313   \n",
       "..                 ...                                        ...   \n",
       "655             432591                                    7153298   \n",
       "656             489192                                   10325857   \n",
       "657            1592273                                   11645344   \n",
       "658            3232344                                    3601795   \n",
       "659            1927205                                     204702   \n",
       "\n",
       "     DB pension entitlements  DC pension entitlements  Private businesses  \\\n",
       "0                      10305                    28192              599209   \n",
       "1                     109570                    74104              725055   \n",
       "2                    1411757                   425100             1016995   \n",
       "3                    1787955                   424008              582316   \n",
       "4                     158378                    56403               46051   \n",
       "..                       ...                      ...                 ...   \n",
       "655                    45845                   141999             5033798   \n",
       "656                   435177                   842315             4611284   \n",
       "657                  8841753                  5503839             4129079   \n",
       "658                  8611730                  4622638             2231056   \n",
       "659                   324980                   559555              137503   \n",
       "\n",
       "     Other assets  Liabilities  Home mortgages  Consumer credit  \\\n",
       "0          531464        45363           15660            20152   \n",
       "1          835418        81012           62513             4856   \n",
       "2         1960192       501116          397307            56293   \n",
       "3         1680086      1574834         1160943           363894   \n",
       "4          266847       948110          574267           339011   \n",
       "..            ...          ...             ...              ...   \n",
       "655       2913813       130115           60569            18713   \n",
       "656       5175562       674290          526101            41339   \n",
       "657       9084069      3659870         3041273           303026   \n",
       "658       7621990      7693106         5692757          1636552   \n",
       "659       1089802      5850466         2838703          2582367   \n",
       "\n",
       "     Other liabilities  \n",
       "0                 9551  \n",
       "1                13643  \n",
       "2                47516  \n",
       "3                49997  \n",
       "4                34832  \n",
       "..                 ...  \n",
       "655              50833  \n",
       "656             106850  \n",
       "657             315571  \n",
       "658             363797  \n",
       "659             429396  \n",
       "\n",
       "[660 rows x 15 columns]"
      ]
     },
     "execution_count": 31,
     "metadata": {},
     "output_type": "execute_result"
    }
   ],
   "source": [
    "networth_df = pd.read_csv('dfa-networth-levels.csv') \n",
    "networth_df"
   ]
  },
  {
   "cell_type": "markdown",
   "id": "25036cc9",
   "metadata": {},
   "source": [
    "### Data Cleaning: networth_df\n",
    "In order to clean the data, we changed the name of Net Worth column from \"Net worth\" to \"NetWorth\" to avoid any SQL errors.  We also selected only the date and the networth column from the database. This is because the only necessary data we need are the year, which is used to join with the previous database and the net worth, which is the factor that we're trying to analyze and compare. The other columns are irrelevant to our research question and so it wasn't necessary to include them.\n",
    "<br><br>\n",
    "We wanted to clean the \"Date\" column from our data by removing the colon and Quarter number so that we could rename the column as year and work with years rather than dates. We've been mainly working with years, so we wanted to keep it consistent and also easier to analyze the overall data. In order to clean the column, we first converted the data type of the column from 'object' to 'string'. Because there are only four possible quarters, rather than using regex patterns, we used the string replace method to replace all possible quarters with an empty string.\n",
    "\n",
    "### Data Description: networth_df\n",
    "Lastly, in our cleaned networth_df, we get the observation of Total Net Worth to the according year."
   ]
  },
  {
   "cell_type": "code",
   "execution_count": 32,
   "id": "9af2e7c8",
   "metadata": {},
   "outputs": [
    {
     "name": "stdout",
     "output_type": "stream",
     "text": [
      "Returning data to local variable networth_df\n"
     ]
    },
    {
     "data": {
      "text/html": [
       "<div>\n",
       "<style scoped>\n",
       "    .dataframe tbody tr th:only-of-type {\n",
       "        vertical-align: middle;\n",
       "    }\n",
       "\n",
       "    .dataframe tbody tr th {\n",
       "        vertical-align: top;\n",
       "    }\n",
       "\n",
       "    .dataframe thead th {\n",
       "        text-align: right;\n",
       "    }\n",
       "</style>\n",
       "<table border=\"1\" class=\"dataframe\">\n",
       "  <thead>\n",
       "    <tr style=\"text-align: right;\">\n",
       "      <th></th>\n",
       "      <th>Year</th>\n",
       "      <th>TotalNetWorth</th>\n",
       "    </tr>\n",
       "  </thead>\n",
       "  <tbody>\n",
       "    <tr>\n",
       "      <th>0</th>\n",
       "      <td>1989</td>\n",
       "      <td>41219904</td>\n",
       "    </tr>\n",
       "    <tr>\n",
       "      <th>1</th>\n",
       "      <td>1990</td>\n",
       "      <td>84550037</td>\n",
       "    </tr>\n",
       "    <tr>\n",
       "      <th>2</th>\n",
       "      <td>1991</td>\n",
       "      <td>89315232</td>\n",
       "    </tr>\n",
       "    <tr>\n",
       "      <th>3</th>\n",
       "      <td>1992</td>\n",
       "      <td>93644532</td>\n",
       "    </tr>\n",
       "    <tr>\n",
       "      <th>4</th>\n",
       "      <td>1993</td>\n",
       "      <td>99456291</td>\n",
       "    </tr>\n",
       "    <tr>\n",
       "      <th>5</th>\n",
       "      <td>1994</td>\n",
       "      <td>103630172</td>\n",
       "    </tr>\n",
       "    <tr>\n",
       "      <th>6</th>\n",
       "      <td>1995</td>\n",
       "      <td>110548363</td>\n",
       "    </tr>\n",
       "    <tr>\n",
       "      <th>7</th>\n",
       "      <td>1996</td>\n",
       "      <td>118946458</td>\n",
       "    </tr>\n",
       "    <tr>\n",
       "      <th>8</th>\n",
       "      <td>1997</td>\n",
       "      <td>129297278</td>\n",
       "    </tr>\n",
       "    <tr>\n",
       "      <th>9</th>\n",
       "      <td>1998</td>\n",
       "      <td>143407083</td>\n",
       "    </tr>\n",
       "    <tr>\n",
       "      <th>10</th>\n",
       "      <td>1999</td>\n",
       "      <td>155502039</td>\n",
       "    </tr>\n",
       "    <tr>\n",
       "      <th>11</th>\n",
       "      <td>2000</td>\n",
       "      <td>168806078</td>\n",
       "    </tr>\n",
       "    <tr>\n",
       "      <th>12</th>\n",
       "      <td>2001</td>\n",
       "      <td>171239312</td>\n",
       "    </tr>\n",
       "    <tr>\n",
       "      <th>13</th>\n",
       "      <td>2002</td>\n",
       "      <td>174391336</td>\n",
       "    </tr>\n",
       "    <tr>\n",
       "      <th>14</th>\n",
       "      <td>2003</td>\n",
       "      <td>184183159</td>\n",
       "    </tr>\n",
       "    <tr>\n",
       "      <th>15</th>\n",
       "      <td>2004</td>\n",
       "      <td>209604049</td>\n",
       "    </tr>\n",
       "    <tr>\n",
       "      <th>16</th>\n",
       "      <td>2005</td>\n",
       "      <td>231403406</td>\n",
       "    </tr>\n",
       "    <tr>\n",
       "      <th>17</th>\n",
       "      <td>2006</td>\n",
       "      <td>250661000</td>\n",
       "    </tr>\n",
       "    <tr>\n",
       "      <th>18</th>\n",
       "      <td>2007</td>\n",
       "      <td>263224001</td>\n",
       "    </tr>\n",
       "    <tr>\n",
       "      <th>19</th>\n",
       "      <td>2008</td>\n",
       "      <td>245040207</td>\n",
       "    </tr>\n",
       "    <tr>\n",
       "      <th>20</th>\n",
       "      <td>2009</td>\n",
       "      <td>229402906</td>\n",
       "    </tr>\n",
       "    <tr>\n",
       "      <th>21</th>\n",
       "      <td>2010</td>\n",
       "      <td>242044848</td>\n",
       "    </tr>\n",
       "    <tr>\n",
       "      <th>22</th>\n",
       "      <td>2011</td>\n",
       "      <td>252772592</td>\n",
       "    </tr>\n",
       "    <tr>\n",
       "      <th>23</th>\n",
       "      <td>2012</td>\n",
       "      <td>265125538</td>\n",
       "    </tr>\n",
       "    <tr>\n",
       "      <th>24</th>\n",
       "      <td>2013</td>\n",
       "      <td>291861434</td>\n",
       "    </tr>\n",
       "    <tr>\n",
       "      <th>25</th>\n",
       "      <td>2014</td>\n",
       "      <td>318387875</td>\n",
       "    </tr>\n",
       "    <tr>\n",
       "      <th>26</th>\n",
       "      <td>2015</td>\n",
       "      <td>334423014</td>\n",
       "    </tr>\n",
       "    <tr>\n",
       "      <th>27</th>\n",
       "      <td>2016</td>\n",
       "      <td>349775078</td>\n",
       "    </tr>\n",
       "    <tr>\n",
       "      <th>28</th>\n",
       "      <td>2017</td>\n",
       "      <td>376060766</td>\n",
       "    </tr>\n",
       "    <tr>\n",
       "      <th>29</th>\n",
       "      <td>2018</td>\n",
       "      <td>397007933</td>\n",
       "    </tr>\n",
       "    <tr>\n",
       "      <th>30</th>\n",
       "      <td>2019</td>\n",
       "      <td>424905717</td>\n",
       "    </tr>\n",
       "    <tr>\n",
       "      <th>31</th>\n",
       "      <td>2020</td>\n",
       "      <td>454336686</td>\n",
       "    </tr>\n",
       "    <tr>\n",
       "      <th>32</th>\n",
       "      <td>2021</td>\n",
       "      <td>542462599</td>\n",
       "    </tr>\n",
       "    <tr>\n",
       "      <th>33</th>\n",
       "      <td>2022</td>\n",
       "      <td>277465151</td>\n",
       "    </tr>\n",
       "  </tbody>\n",
       "</table>\n",
       "</div>"
      ],
      "text/plain": [
       "    Year  TotalNetWorth\n",
       "0   1989       41219904\n",
       "1   1990       84550037\n",
       "2   1991       89315232\n",
       "3   1992       93644532\n",
       "4   1993       99456291\n",
       "5   1994      103630172\n",
       "6   1995      110548363\n",
       "7   1996      118946458\n",
       "8   1997      129297278\n",
       "9   1998      143407083\n",
       "10  1999      155502039\n",
       "11  2000      168806078\n",
       "12  2001      171239312\n",
       "13  2002      174391336\n",
       "14  2003      184183159\n",
       "15  2004      209604049\n",
       "16  2005      231403406\n",
       "17  2006      250661000\n",
       "18  2007      263224001\n",
       "19  2008      245040207\n",
       "20  2009      229402906\n",
       "21  2010      242044848\n",
       "22  2011      252772592\n",
       "23  2012      265125538\n",
       "24  2013      291861434\n",
       "25  2014      318387875\n",
       "26  2015      334423014\n",
       "27  2016      349775078\n",
       "28  2017      376060766\n",
       "29  2018      397007933\n",
       "30  2019      424905717\n",
       "31  2020      454336686\n",
       "32  2021      542462599\n",
       "33  2022      277465151"
      ]
     },
     "execution_count": 32,
     "metadata": {},
     "output_type": "execute_result"
    }
   ],
   "source": [
    "networth_df = networth_df.rename(columns={\"Net worth\" : \"NetWorth\", \"Date\": \"Year\"})\n",
    "networth_df['Year'] = networth_df['Year'].astype(pd.StringDtype())\n",
    "# networth_df['Year'].dtypes\n",
    "networth_df[\"Year\"] = networth_df['Year'].str.replace(\":Q1\", \"\")\n",
    "networth_df[\"Year\"] = networth_df['Year'].str.replace(\":Q2\", \"\")\n",
    "networth_df[\"Year\"] = networth_df['Year'].str.replace(\":Q3\", \"\")\n",
    "networth_df[\"Year\"] = networth_df['Year'].str.replace(\":Q4\", \"\")\n",
    "%sql networth_df << SELECT Year, SUM(NetWorth) AS TotalNetWorth FROM networth_df GROUP BY Year\n",
    "networth_df"
   ]
  },
  {
   "cell_type": "markdown",
   "id": "91d044b4",
   "metadata": {},
   "source": [
    "### Data Cleaning: outside_birth_df \n",
    "\n",
    "In order to clean the data, we changed the name of Births outside of marriage column from \"Births outside of marriage (% of all births)\" to \"BirthsOutsideOfMarriagePercentage\" to avoid any SQL errors.  \n",
    "\n",
    "In terms of data cleaning, the \"code\" column was removed because it wasn't relevant for data analysis/exploration as it was redundant. \n",
    "\n",
    "The dataset had 42 different countries which are much lesser than our dataset for crude marriage rate and average marriage age. Thus, we limited our outside birth data to United States to further dive in to possible relationships of outside birth percentage with marriage rate and cohabitant data. Since the entity would just be \"United States\", it is redundant for our table and so we decided to remove that column."
   ]
  },
  {
   "cell_type": "code",
   "execution_count": 33,
   "id": "0f0d2482",
   "metadata": {},
   "outputs": [
    {
     "data": {
      "text/html": [
       "<div>\n",
       "<style scoped>\n",
       "    .dataframe tbody tr th:only-of-type {\n",
       "        vertical-align: middle;\n",
       "    }\n",
       "\n",
       "    .dataframe tbody tr th {\n",
       "        vertical-align: top;\n",
       "    }\n",
       "\n",
       "    .dataframe thead th {\n",
       "        text-align: right;\n",
       "    }\n",
       "</style>\n",
       "<table border=\"1\" class=\"dataframe\">\n",
       "  <thead>\n",
       "    <tr style=\"text-align: right;\">\n",
       "      <th></th>\n",
       "      <th>Entity</th>\n",
       "      <th>Code</th>\n",
       "      <th>Year</th>\n",
       "      <th>BirthsOutsideOfMarriagePercentage</th>\n",
       "    </tr>\n",
       "  </thead>\n",
       "  <tbody>\n",
       "    <tr>\n",
       "      <th>0</th>\n",
       "      <td>Australia</td>\n",
       "      <td>AUS</td>\n",
       "      <td>1971</td>\n",
       "      <td>9.3</td>\n",
       "    </tr>\n",
       "    <tr>\n",
       "      <th>1</th>\n",
       "      <td>Australia</td>\n",
       "      <td>AUS</td>\n",
       "      <td>1974</td>\n",
       "      <td>9.5</td>\n",
       "    </tr>\n",
       "    <tr>\n",
       "      <th>2</th>\n",
       "      <td>Australia</td>\n",
       "      <td>AUS</td>\n",
       "      <td>1976</td>\n",
       "      <td>10.1</td>\n",
       "    </tr>\n",
       "    <tr>\n",
       "      <th>3</th>\n",
       "      <td>Australia</td>\n",
       "      <td>AUS</td>\n",
       "      <td>1979</td>\n",
       "      <td>11.7</td>\n",
       "    </tr>\n",
       "    <tr>\n",
       "      <th>4</th>\n",
       "      <td>Australia</td>\n",
       "      <td>AUS</td>\n",
       "      <td>1980</td>\n",
       "      <td>12.4</td>\n",
       "    </tr>\n",
       "    <tr>\n",
       "      <th>...</th>\n",
       "      <td>...</td>\n",
       "      <td>...</td>\n",
       "      <td>...</td>\n",
       "      <td>...</td>\n",
       "    </tr>\n",
       "    <tr>\n",
       "      <th>1870</th>\n",
       "      <td>United States</td>\n",
       "      <td>USA</td>\n",
       "      <td>2010</td>\n",
       "      <td>40.8</td>\n",
       "    </tr>\n",
       "    <tr>\n",
       "      <th>1871</th>\n",
       "      <td>United States</td>\n",
       "      <td>USA</td>\n",
       "      <td>2011</td>\n",
       "      <td>40.7</td>\n",
       "    </tr>\n",
       "    <tr>\n",
       "      <th>1872</th>\n",
       "      <td>United States</td>\n",
       "      <td>USA</td>\n",
       "      <td>2012</td>\n",
       "      <td>40.7</td>\n",
       "    </tr>\n",
       "    <tr>\n",
       "      <th>1873</th>\n",
       "      <td>United States</td>\n",
       "      <td>USA</td>\n",
       "      <td>2013</td>\n",
       "      <td>40.6</td>\n",
       "    </tr>\n",
       "    <tr>\n",
       "      <th>1874</th>\n",
       "      <td>United States</td>\n",
       "      <td>USA</td>\n",
       "      <td>2014</td>\n",
       "      <td>40.2</td>\n",
       "    </tr>\n",
       "  </tbody>\n",
       "</table>\n",
       "<p>1875 rows × 4 columns</p>\n",
       "</div>"
      ],
      "text/plain": [
       "             Entity Code  Year  BirthsOutsideOfMarriagePercentage\n",
       "0         Australia  AUS  1971                                9.3\n",
       "1         Australia  AUS  1974                                9.5\n",
       "2         Australia  AUS  1976                               10.1\n",
       "3         Australia  AUS  1979                               11.7\n",
       "4         Australia  AUS  1980                               12.4\n",
       "...             ...  ...   ...                                ...\n",
       "1870  United States  USA  2010                               40.8\n",
       "1871  United States  USA  2011                               40.7\n",
       "1872  United States  USA  2012                               40.7\n",
       "1873  United States  USA  2013                               40.6\n",
       "1874  United States  USA  2014                               40.2\n",
       "\n",
       "[1875 rows x 4 columns]"
      ]
     },
     "execution_count": 33,
     "metadata": {},
     "output_type": "execute_result"
    }
   ],
   "source": [
    "outside_birth_raw_df = pd.read_csv('share-of-births-outside-marriage.csv')\n",
    "outside_birth_raw_df = outside_birth_raw_df.rename(columns={\"Births outside of marriage (% of all births)\" : \"BirthsOutsideOfMarriagePercentage\"})\n",
    "outside_birth_raw_df"
   ]
  },
  {
   "cell_type": "code",
   "execution_count": 34,
   "id": "6202f0d7",
   "metadata": {},
   "outputs": [
    {
     "name": "stdout",
     "output_type": "stream",
     "text": [
      "No. of unique values 42\n"
     ]
    }
   ],
   "source": [
    "unique_vals = len(pd.unique(outside_birth_raw_df['Entity']))\n",
    "print(\"No. of unique values\", unique_vals)"
   ]
  },
  {
   "cell_type": "markdown",
   "id": "8f230ec2",
   "metadata": {},
   "source": [
    "We renamed the 'Year' column as 'BirthYear' column in order to specify the data that our Year column is coming from. We did this so that later when we join our outside birth data together with our marriage and net worth data, it is easier to remove any duplicate year columns and keep one."
   ]
  },
  {
   "cell_type": "code",
   "execution_count": 35,
   "id": "b4f6e91b",
   "metadata": {},
   "outputs": [
    {
     "name": "stdout",
     "output_type": "stream",
     "text": [
      "Returning data to local variable outside_birth_df\n",
      "Returning data to local variable outside_birth_df\n",
      "Returning data to local variable outside_birth_df\n"
     ]
    },
    {
     "data": {
      "text/html": [
       "<div>\n",
       "<style scoped>\n",
       "    .dataframe tbody tr th:only-of-type {\n",
       "        vertical-align: middle;\n",
       "    }\n",
       "\n",
       "    .dataframe tbody tr th {\n",
       "        vertical-align: top;\n",
       "    }\n",
       "\n",
       "    .dataframe thead th {\n",
       "        text-align: right;\n",
       "    }\n",
       "</style>\n",
       "<table border=\"1\" class=\"dataframe\">\n",
       "  <thead>\n",
       "    <tr style=\"text-align: right;\">\n",
       "      <th></th>\n",
       "      <th>BirthYear</th>\n",
       "      <th>BirthsOutsideOfMarriagePercentage</th>\n",
       "    </tr>\n",
       "  </thead>\n",
       "  <tbody>\n",
       "    <tr>\n",
       "      <th>0</th>\n",
       "      <td>1960</td>\n",
       "      <td>5.3</td>\n",
       "    </tr>\n",
       "    <tr>\n",
       "      <th>1</th>\n",
       "      <td>1961</td>\n",
       "      <td>5.6</td>\n",
       "    </tr>\n",
       "    <tr>\n",
       "      <th>2</th>\n",
       "      <td>1962</td>\n",
       "      <td>5.9</td>\n",
       "    </tr>\n",
       "    <tr>\n",
       "      <th>3</th>\n",
       "      <td>1963</td>\n",
       "      <td>6.3</td>\n",
       "    </tr>\n",
       "    <tr>\n",
       "      <th>4</th>\n",
       "      <td>1964</td>\n",
       "      <td>6.9</td>\n",
       "    </tr>\n",
       "    <tr>\n",
       "      <th>5</th>\n",
       "      <td>1965</td>\n",
       "      <td>7.7</td>\n",
       "    </tr>\n",
       "    <tr>\n",
       "      <th>6</th>\n",
       "      <td>1966</td>\n",
       "      <td>8.4</td>\n",
       "    </tr>\n",
       "    <tr>\n",
       "      <th>7</th>\n",
       "      <td>1967</td>\n",
       "      <td>9.0</td>\n",
       "    </tr>\n",
       "    <tr>\n",
       "      <th>8</th>\n",
       "      <td>1968</td>\n",
       "      <td>9.7</td>\n",
       "    </tr>\n",
       "    <tr>\n",
       "      <th>9</th>\n",
       "      <td>1969</td>\n",
       "      <td>10.0</td>\n",
       "    </tr>\n",
       "    <tr>\n",
       "      <th>10</th>\n",
       "      <td>1970</td>\n",
       "      <td>10.7</td>\n",
       "    </tr>\n",
       "    <tr>\n",
       "      <th>11</th>\n",
       "      <td>1971</td>\n",
       "      <td>11.3</td>\n",
       "    </tr>\n",
       "    <tr>\n",
       "      <th>12</th>\n",
       "      <td>1972</td>\n",
       "      <td>12.4</td>\n",
       "    </tr>\n",
       "    <tr>\n",
       "      <th>13</th>\n",
       "      <td>1973</td>\n",
       "      <td>13.0</td>\n",
       "    </tr>\n",
       "    <tr>\n",
       "      <th>14</th>\n",
       "      <td>1974</td>\n",
       "      <td>13.2</td>\n",
       "    </tr>\n",
       "    <tr>\n",
       "      <th>15</th>\n",
       "      <td>1975</td>\n",
       "      <td>14.3</td>\n",
       "    </tr>\n",
       "    <tr>\n",
       "      <th>16</th>\n",
       "      <td>1976</td>\n",
       "      <td>14.8</td>\n",
       "    </tr>\n",
       "    <tr>\n",
       "      <th>17</th>\n",
       "      <td>1977</td>\n",
       "      <td>15.5</td>\n",
       "    </tr>\n",
       "    <tr>\n",
       "      <th>18</th>\n",
       "      <td>1978</td>\n",
       "      <td>16.3</td>\n",
       "    </tr>\n",
       "    <tr>\n",
       "      <th>19</th>\n",
       "      <td>1979</td>\n",
       "      <td>17.1</td>\n",
       "    </tr>\n",
       "    <tr>\n",
       "      <th>20</th>\n",
       "      <td>1980</td>\n",
       "      <td>18.4</td>\n",
       "    </tr>\n",
       "    <tr>\n",
       "      <th>21</th>\n",
       "      <td>1981</td>\n",
       "      <td>18.9</td>\n",
       "    </tr>\n",
       "    <tr>\n",
       "      <th>22</th>\n",
       "      <td>1982</td>\n",
       "      <td>19.4</td>\n",
       "    </tr>\n",
       "    <tr>\n",
       "      <th>23</th>\n",
       "      <td>1983</td>\n",
       "      <td>20.3</td>\n",
       "    </tr>\n",
       "    <tr>\n",
       "      <th>24</th>\n",
       "      <td>1984</td>\n",
       "      <td>21.0</td>\n",
       "    </tr>\n",
       "    <tr>\n",
       "      <th>25</th>\n",
       "      <td>1985</td>\n",
       "      <td>22.0</td>\n",
       "    </tr>\n",
       "    <tr>\n",
       "      <th>26</th>\n",
       "      <td>1986</td>\n",
       "      <td>23.4</td>\n",
       "    </tr>\n",
       "    <tr>\n",
       "      <th>27</th>\n",
       "      <td>1987</td>\n",
       "      <td>24.5</td>\n",
       "    </tr>\n",
       "    <tr>\n",
       "      <th>28</th>\n",
       "      <td>1988</td>\n",
       "      <td>25.7</td>\n",
       "    </tr>\n",
       "    <tr>\n",
       "      <th>29</th>\n",
       "      <td>1989</td>\n",
       "      <td>27.1</td>\n",
       "    </tr>\n",
       "    <tr>\n",
       "      <th>30</th>\n",
       "      <td>1990</td>\n",
       "      <td>28.0</td>\n",
       "    </tr>\n",
       "    <tr>\n",
       "      <th>31</th>\n",
       "      <td>1991</td>\n",
       "      <td>29.5</td>\n",
       "    </tr>\n",
       "    <tr>\n",
       "      <th>32</th>\n",
       "      <td>1992</td>\n",
       "      <td>30.1</td>\n",
       "    </tr>\n",
       "    <tr>\n",
       "      <th>33</th>\n",
       "      <td>1993</td>\n",
       "      <td>31.0</td>\n",
       "    </tr>\n",
       "    <tr>\n",
       "      <th>34</th>\n",
       "      <td>1994</td>\n",
       "      <td>32.6</td>\n",
       "    </tr>\n",
       "    <tr>\n",
       "      <th>35</th>\n",
       "      <td>1995</td>\n",
       "      <td>32.2</td>\n",
       "    </tr>\n",
       "    <tr>\n",
       "      <th>36</th>\n",
       "      <td>1996</td>\n",
       "      <td>32.4</td>\n",
       "    </tr>\n",
       "    <tr>\n",
       "      <th>37</th>\n",
       "      <td>1997</td>\n",
       "      <td>32.4</td>\n",
       "    </tr>\n",
       "    <tr>\n",
       "      <th>38</th>\n",
       "      <td>1998</td>\n",
       "      <td>32.8</td>\n",
       "    </tr>\n",
       "    <tr>\n",
       "      <th>39</th>\n",
       "      <td>1999</td>\n",
       "      <td>33.0</td>\n",
       "    </tr>\n",
       "    <tr>\n",
       "      <th>40</th>\n",
       "      <td>2000</td>\n",
       "      <td>33.2</td>\n",
       "    </tr>\n",
       "    <tr>\n",
       "      <th>41</th>\n",
       "      <td>2001</td>\n",
       "      <td>33.5</td>\n",
       "    </tr>\n",
       "    <tr>\n",
       "      <th>42</th>\n",
       "      <td>2002</td>\n",
       "      <td>34.0</td>\n",
       "    </tr>\n",
       "    <tr>\n",
       "      <th>43</th>\n",
       "      <td>2003</td>\n",
       "      <td>34.6</td>\n",
       "    </tr>\n",
       "    <tr>\n",
       "      <th>44</th>\n",
       "      <td>2004</td>\n",
       "      <td>35.8</td>\n",
       "    </tr>\n",
       "    <tr>\n",
       "      <th>45</th>\n",
       "      <td>2005</td>\n",
       "      <td>36.9</td>\n",
       "    </tr>\n",
       "    <tr>\n",
       "      <th>46</th>\n",
       "      <td>2006</td>\n",
       "      <td>38.5</td>\n",
       "    </tr>\n",
       "    <tr>\n",
       "      <th>47</th>\n",
       "      <td>2007</td>\n",
       "      <td>39.7</td>\n",
       "    </tr>\n",
       "    <tr>\n",
       "      <th>48</th>\n",
       "      <td>2008</td>\n",
       "      <td>40.6</td>\n",
       "    </tr>\n",
       "    <tr>\n",
       "      <th>49</th>\n",
       "      <td>2009</td>\n",
       "      <td>41.0</td>\n",
       "    </tr>\n",
       "    <tr>\n",
       "      <th>50</th>\n",
       "      <td>2010</td>\n",
       "      <td>40.8</td>\n",
       "    </tr>\n",
       "    <tr>\n",
       "      <th>51</th>\n",
       "      <td>2011</td>\n",
       "      <td>40.7</td>\n",
       "    </tr>\n",
       "    <tr>\n",
       "      <th>52</th>\n",
       "      <td>2012</td>\n",
       "      <td>40.7</td>\n",
       "    </tr>\n",
       "    <tr>\n",
       "      <th>53</th>\n",
       "      <td>2013</td>\n",
       "      <td>40.6</td>\n",
       "    </tr>\n",
       "    <tr>\n",
       "      <th>54</th>\n",
       "      <td>2014</td>\n",
       "      <td>40.2</td>\n",
       "    </tr>\n",
       "  </tbody>\n",
       "</table>\n",
       "</div>"
      ],
      "text/plain": [
       "    BirthYear  BirthsOutsideOfMarriagePercentage\n",
       "0        1960                                5.3\n",
       "1        1961                                5.6\n",
       "2        1962                                5.9\n",
       "3        1963                                6.3\n",
       "4        1964                                6.9\n",
       "5        1965                                7.7\n",
       "6        1966                                8.4\n",
       "7        1967                                9.0\n",
       "8        1968                                9.7\n",
       "9        1969                               10.0\n",
       "10       1970                               10.7\n",
       "11       1971                               11.3\n",
       "12       1972                               12.4\n",
       "13       1973                               13.0\n",
       "14       1974                               13.2\n",
       "15       1975                               14.3\n",
       "16       1976                               14.8\n",
       "17       1977                               15.5\n",
       "18       1978                               16.3\n",
       "19       1979                               17.1\n",
       "20       1980                               18.4\n",
       "21       1981                               18.9\n",
       "22       1982                               19.4\n",
       "23       1983                               20.3\n",
       "24       1984                               21.0\n",
       "25       1985                               22.0\n",
       "26       1986                               23.4\n",
       "27       1987                               24.5\n",
       "28       1988                               25.7\n",
       "29       1989                               27.1\n",
       "30       1990                               28.0\n",
       "31       1991                               29.5\n",
       "32       1992                               30.1\n",
       "33       1993                               31.0\n",
       "34       1994                               32.6\n",
       "35       1995                               32.2\n",
       "36       1996                               32.4\n",
       "37       1997                               32.4\n",
       "38       1998                               32.8\n",
       "39       1999                               33.0\n",
       "40       2000                               33.2\n",
       "41       2001                               33.5\n",
       "42       2002                               34.0\n",
       "43       2003                               34.6\n",
       "44       2004                               35.8\n",
       "45       2005                               36.9\n",
       "46       2006                               38.5\n",
       "47       2007                               39.7\n",
       "48       2008                               40.6\n",
       "49       2009                               41.0\n",
       "50       2010                               40.8\n",
       "51       2011                               40.7\n",
       "52       2012                               40.7\n",
       "53       2013                               40.6\n",
       "54       2014                               40.2"
      ]
     },
     "execution_count": 35,
     "metadata": {},
     "output_type": "execute_result"
    }
   ],
   "source": [
    "%sql outside_birth_df << SELECT Entity, Year, BirthsOutsideOfMarriagePercentage FROM outside_birth_raw_df GROUP BY Entity, Year, BirthsOutsideOfMarriagePercentage\n",
    "%sql outside_birth_df << SELECT * FROM outside_birth_df WHERE Entity IN ('United States')\n",
    "%sql outside_birth_df << SELECT Year, BirthsOutsideOfMarriagePercentage FROM outside_birth_df ORDER BY Year ASC\n",
    "outside_birth_df = outside_birth_df.rename(columns={'Year': 'BirthYear'})\n",
    "outside_birth_df"
   ]
  },
  {
   "cell_type": "markdown",
   "id": "b465c0ea",
   "metadata": {},
   "source": [
    "## Data Cleaning: cohabitation_df\n",
    "\n",
    "We downloaded data on U.S. cohabitation rates as an Excel file (xls). Then, we converted it into a csv file. We created a pandas dataframe from the livingarrangements.csv file. Then, We renamed all the columns to focus on the column we was interested in which we renamed as the\" \"Percent_num\" - the percentage of U.S. adults who live with their partners (cohabitation rate). Then, we created an SQL file from the existing pandas dataframe, further filtering out the data by selecting only the Year and cohabitation rates (Percent_num) column where there is data. To further filter out the data, using SQL, we selected only data from the first 32 rows of from the column of interest, where we got the data for cohabitation rates from the years 1990-2021. Since the file was converted from a xls file to a csv file, some letters were altered, causing one of the Years to be written down as \"2014s\". Therefore, using the pandas dataframe, we replaced the incorrect value of '2014s' to '2014' with help from https://www.askpython.com/python-modules/pandas/update-the-value-of-a-row-dataframe . As a result, we got the final pandas dataframe for cohabitation rates in the U.S. from years 1990-2021 saved as 'cohabitation'."
   ]
  },
  {
   "cell_type": "code",
   "execution_count": 36,
   "id": "d64ebb6e",
   "metadata": {},
   "outputs": [
    {
     "name": "stdout",
     "output_type": "stream",
     "text": [
      "Returning data to local variable cohabitation_df\n",
      "Returning data to local variable cohabitation_df\n"
     ]
    },
    {
     "data": {
      "text/html": [
       "<div>\n",
       "<style scoped>\n",
       "    .dataframe tbody tr th:only-of-type {\n",
       "        vertical-align: middle;\n",
       "    }\n",
       "\n",
       "    .dataframe tbody tr th {\n",
       "        vertical-align: top;\n",
       "    }\n",
       "\n",
       "    .dataframe thead th {\n",
       "        text-align: right;\n",
       "    }\n",
       "</style>\n",
       "<table border=\"1\" class=\"dataframe\">\n",
       "  <thead>\n",
       "    <tr style=\"text-align: right;\">\n",
       "      <th></th>\n",
       "      <th>cohabitationYear</th>\n",
       "      <th>CohabitationPercentage</th>\n",
       "    </tr>\n",
       "  </thead>\n",
       "  <tbody>\n",
       "    <tr>\n",
       "      <th>31</th>\n",
       "      <td>1990</td>\n",
       "      <td>3.1</td>\n",
       "    </tr>\n",
       "    <tr>\n",
       "      <th>30</th>\n",
       "      <td>1991</td>\n",
       "      <td>3.2</td>\n",
       "    </tr>\n",
       "    <tr>\n",
       "      <th>29</th>\n",
       "      <td>1992</td>\n",
       "      <td>3.5</td>\n",
       "    </tr>\n",
       "    <tr>\n",
       "      <th>28</th>\n",
       "      <td>1993</td>\n",
       "      <td>3.7</td>\n",
       "    </tr>\n",
       "    <tr>\n",
       "      <th>27</th>\n",
       "      <td>1994</td>\n",
       "      <td>3.9</td>\n",
       "    </tr>\n",
       "    <tr>\n",
       "      <th>26</th>\n",
       "      <td>1995</td>\n",
       "      <td>3.7</td>\n",
       "    </tr>\n",
       "    <tr>\n",
       "      <th>25</th>\n",
       "      <td>1996</td>\n",
       "      <td>3.0</td>\n",
       "    </tr>\n",
       "    <tr>\n",
       "      <th>24</th>\n",
       "      <td>1997</td>\n",
       "      <td>3.3</td>\n",
       "    </tr>\n",
       "    <tr>\n",
       "      <th>23</th>\n",
       "      <td>1998</td>\n",
       "      <td>3.3</td>\n",
       "    </tr>\n",
       "    <tr>\n",
       "      <th>22</th>\n",
       "      <td>1999</td>\n",
       "      <td>3.5</td>\n",
       "    </tr>\n",
       "    <tr>\n",
       "      <th>21</th>\n",
       "      <td>2000</td>\n",
       "      <td>3.9</td>\n",
       "    </tr>\n",
       "    <tr>\n",
       "      <th>20</th>\n",
       "      <td>2001</td>\n",
       "      <td>4.1</td>\n",
       "    </tr>\n",
       "    <tr>\n",
       "      <th>19</th>\n",
       "      <td>2002</td>\n",
       "      <td>4.2</td>\n",
       "    </tr>\n",
       "    <tr>\n",
       "      <th>18</th>\n",
       "      <td>2003</td>\n",
       "      <td>4.6</td>\n",
       "    </tr>\n",
       "    <tr>\n",
       "      <th>17</th>\n",
       "      <td>2004</td>\n",
       "      <td>4.6</td>\n",
       "    </tr>\n",
       "    <tr>\n",
       "      <th>16</th>\n",
       "      <td>2005</td>\n",
       "      <td>4.7</td>\n",
       "    </tr>\n",
       "    <tr>\n",
       "      <th>15</th>\n",
       "      <td>2006</td>\n",
       "      <td>4.8</td>\n",
       "    </tr>\n",
       "    <tr>\n",
       "      <th>14</th>\n",
       "      <td>2007</td>\n",
       "      <td>6.3</td>\n",
       "    </tr>\n",
       "    <tr>\n",
       "      <th>13</th>\n",
       "      <td>2008</td>\n",
       "      <td>6.5</td>\n",
       "    </tr>\n",
       "    <tr>\n",
       "      <th>12</th>\n",
       "      <td>2009</td>\n",
       "      <td>6.3</td>\n",
       "    </tr>\n",
       "    <tr>\n",
       "      <th>11</th>\n",
       "      <td>2010</td>\n",
       "      <td>7.1</td>\n",
       "    </tr>\n",
       "    <tr>\n",
       "      <th>10</th>\n",
       "      <td>2011</td>\n",
       "      <td>7.1</td>\n",
       "    </tr>\n",
       "    <tr>\n",
       "      <th>9</th>\n",
       "      <td>2012</td>\n",
       "      <td>7.3</td>\n",
       "    </tr>\n",
       "    <tr>\n",
       "      <th>8</th>\n",
       "      <td>2013</td>\n",
       "      <td>7.5</td>\n",
       "    </tr>\n",
       "    <tr>\n",
       "      <th>7</th>\n",
       "      <td>2014</td>\n",
       "      <td>7.3</td>\n",
       "    </tr>\n",
       "    <tr>\n",
       "      <th>6</th>\n",
       "      <td>2015</td>\n",
       "      <td>7.5</td>\n",
       "    </tr>\n",
       "    <tr>\n",
       "      <th>5</th>\n",
       "      <td>2016</td>\n",
       "      <td>7.4</td>\n",
       "    </tr>\n",
       "    <tr>\n",
       "      <th>4</th>\n",
       "      <td>2017</td>\n",
       "      <td>7.1</td>\n",
       "    </tr>\n",
       "    <tr>\n",
       "      <th>3</th>\n",
       "      <td>2018</td>\n",
       "      <td>7.7</td>\n",
       "    </tr>\n",
       "    <tr>\n",
       "      <th>2</th>\n",
       "      <td>2019</td>\n",
       "      <td>7.4</td>\n",
       "    </tr>\n",
       "    <tr>\n",
       "      <th>1</th>\n",
       "      <td>2020</td>\n",
       "      <td>7.3</td>\n",
       "    </tr>\n",
       "    <tr>\n",
       "      <th>0</th>\n",
       "      <td>2021</td>\n",
       "      <td>8.0</td>\n",
       "    </tr>\n",
       "  </tbody>\n",
       "</table>\n",
       "</div>"
      ],
      "text/plain": [
       "    cohabitationYear CohabitationPercentage\n",
       "31              1990                    3.1\n",
       "30              1991                    3.2\n",
       "29              1992                    3.5\n",
       "28              1993                    3.7\n",
       "27              1994                    3.9\n",
       "26              1995                    3.7\n",
       "25              1996                    3.0\n",
       "24              1997                    3.3\n",
       "23              1998                    3.3\n",
       "22              1999                    3.5\n",
       "21              2000                    3.9\n",
       "20              2001                    4.1\n",
       "19              2002                    4.2\n",
       "18              2003                    4.6\n",
       "17              2004                    4.6\n",
       "16              2005                    4.7\n",
       "15              2006                    4.8\n",
       "14              2007                    6.3\n",
       "13              2008                    6.5\n",
       "12              2009                    6.3\n",
       "11              2010                    7.1\n",
       "10              2011                    7.1\n",
       "9               2012                    7.3\n",
       "8               2013                    7.5\n",
       "7               2014                    7.3\n",
       "6               2015                    7.5\n",
       "5               2016                    7.4\n",
       "4               2017                    7.1\n",
       "3               2018                    7.7\n",
       "2               2019                    7.4\n",
       "1               2020                    7.3\n",
       "0               2021                    8.0"
      ]
     },
     "execution_count": 36,
     "metadata": {},
     "output_type": "execute_result"
    }
   ],
   "source": [
    "cohabitation_raw_df = pd.read_csv('livingarrangements.csv')\n",
    "\n",
    "cohabitation_raw_df.columns=['Year',\"1\",'2','3','4','5','6','7','8','9','CohabitationPercentage','11','12','13','14','15','16','7','8','9','10','11','12','13','14','15','16','7','8','9','10','11','12','13','14']\n",
    "\n",
    "\n",
    "%sql cohabitation_df << SELECT Year, CohabitationPercentage FROM cohabitation_raw_df WHERE CohabitationPercentage IS NOT NULL\n",
    "\n",
    "%sql cohabitation_df << SELECT Year, CohabitationPercentage FROM cohabitation_df LIMIT 32 OFFSET 1;\n",
    "\n",
    "cohabitation_df.at[7,'Year']= 2014\n",
    "\n",
    "cohabitation_df = cohabitation_df.rename(columns = {'Year': 'cohabitationYear'})\n",
    "\n",
    "cohabitation_df.cohabitationYear = cohabitation_df.cohabitationYear.astype(int)\n",
    "cohabitation_df = cohabitation_df.sort_values(by='cohabitationYear', ascending=True)\n",
    "\n",
    "cohabitation_df"
   ]
  },
  {
   "cell_type": "markdown",
   "id": "deb424b4",
   "metadata": {},
   "source": [
    "### Data Cleaning\n",
    "Because the inner join resulted in four different year columns (MarriageYear, AgeYear, CohabitationYear, BirthYear, Year) that all had the same values, we wanted to condense this into just one year column to avoid any confusion or future issues. Because we previously renamed the year columns from us_df to distinguish them, this made it easy to drop the columns we wanted to. We chose to drop these columns because the MarriageYear was our first column making the data easier to read, and we renamed the MarriageYear column as Year."
   ]
  },
  {
   "cell_type": "code",
   "execution_count": 37,
   "id": "03ccd74d",
   "metadata": {
    "scrolled": true
   },
   "outputs": [
    {
     "name": "stdout",
     "output_type": "stream",
     "text": [
      "Returning data to local variable us_df\n",
      "Returning data to local variable us_df\n",
      "Returning data to local variable us_df\n"
     ]
    },
    {
     "data": {
      "text/html": [
       "<div>\n",
       "<style scoped>\n",
       "    .dataframe tbody tr th:only-of-type {\n",
       "        vertical-align: middle;\n",
       "    }\n",
       "\n",
       "    .dataframe tbody tr th {\n",
       "        vertical-align: top;\n",
       "    }\n",
       "\n",
       "    .dataframe thead th {\n",
       "        text-align: right;\n",
       "    }\n",
       "</style>\n",
       "<table border=\"1\" class=\"dataframe\">\n",
       "  <thead>\n",
       "    <tr style=\"text-align: right;\">\n",
       "      <th></th>\n",
       "      <th>Year</th>\n",
       "      <th>CrudeMarriageRate</th>\n",
       "      <th>AverageMarriageAge</th>\n",
       "      <th>TotalNetWorth</th>\n",
       "      <th>BirthsOutsideOfMarriagePercentage</th>\n",
       "      <th>CohabitationPercentage</th>\n",
       "    </tr>\n",
       "  </thead>\n",
       "  <tbody>\n",
       "    <tr>\n",
       "      <th>0</th>\n",
       "      <td>1990</td>\n",
       "      <td>9.8</td>\n",
       "      <td>23.900000</td>\n",
       "      <td>84550037</td>\n",
       "      <td>28.0</td>\n",
       "      <td>3.1</td>\n",
       "    </tr>\n",
       "    <tr>\n",
       "      <th>1</th>\n",
       "      <td>1991</td>\n",
       "      <td>9.4</td>\n",
       "      <td>24.100000</td>\n",
       "      <td>89315232</td>\n",
       "      <td>29.5</td>\n",
       "      <td>3.2</td>\n",
       "    </tr>\n",
       "    <tr>\n",
       "      <th>2</th>\n",
       "      <td>1992</td>\n",
       "      <td>9.3</td>\n",
       "      <td>24.400000</td>\n",
       "      <td>93644532</td>\n",
       "      <td>30.1</td>\n",
       "      <td>3.5</td>\n",
       "    </tr>\n",
       "    <tr>\n",
       "      <th>3</th>\n",
       "      <td>1993</td>\n",
       "      <td>9.0</td>\n",
       "      <td>24.500000</td>\n",
       "      <td>99456291</td>\n",
       "      <td>31.0</td>\n",
       "      <td>3.7</td>\n",
       "    </tr>\n",
       "    <tr>\n",
       "      <th>4</th>\n",
       "      <td>1994</td>\n",
       "      <td>9.1</td>\n",
       "      <td>24.500000</td>\n",
       "      <td>103630172</td>\n",
       "      <td>32.6</td>\n",
       "      <td>3.9</td>\n",
       "    </tr>\n",
       "    <tr>\n",
       "      <th>5</th>\n",
       "      <td>1995</td>\n",
       "      <td>8.9</td>\n",
       "      <td>24.500000</td>\n",
       "      <td>110548363</td>\n",
       "      <td>32.2</td>\n",
       "      <td>3.7</td>\n",
       "    </tr>\n",
       "    <tr>\n",
       "      <th>6</th>\n",
       "      <td>1996</td>\n",
       "      <td>8.8</td>\n",
       "      <td>24.799999</td>\n",
       "      <td>118946458</td>\n",
       "      <td>32.4</td>\n",
       "      <td>3.0</td>\n",
       "    </tr>\n",
       "    <tr>\n",
       "      <th>7</th>\n",
       "      <td>1997</td>\n",
       "      <td>8.9</td>\n",
       "      <td>25.000000</td>\n",
       "      <td>129297278</td>\n",
       "      <td>32.4</td>\n",
       "      <td>3.3</td>\n",
       "    </tr>\n",
       "    <tr>\n",
       "      <th>8</th>\n",
       "      <td>1998</td>\n",
       "      <td>8.4</td>\n",
       "      <td>25.000000</td>\n",
       "      <td>143407083</td>\n",
       "      <td>32.8</td>\n",
       "      <td>3.3</td>\n",
       "    </tr>\n",
       "    <tr>\n",
       "      <th>9</th>\n",
       "      <td>1999</td>\n",
       "      <td>8.6</td>\n",
       "      <td>25.100000</td>\n",
       "      <td>155502039</td>\n",
       "      <td>33.0</td>\n",
       "      <td>3.5</td>\n",
       "    </tr>\n",
       "    <tr>\n",
       "      <th>10</th>\n",
       "      <td>2000</td>\n",
       "      <td>8.3</td>\n",
       "      <td>25.100000</td>\n",
       "      <td>168806078</td>\n",
       "      <td>33.2</td>\n",
       "      <td>3.9</td>\n",
       "    </tr>\n",
       "    <tr>\n",
       "      <th>11</th>\n",
       "      <td>2001</td>\n",
       "      <td>8.2</td>\n",
       "      <td>25.100000</td>\n",
       "      <td>171239312</td>\n",
       "      <td>33.5</td>\n",
       "      <td>4.1</td>\n",
       "    </tr>\n",
       "    <tr>\n",
       "      <th>12</th>\n",
       "      <td>2002</td>\n",
       "      <td>7.8</td>\n",
       "      <td>25.299999</td>\n",
       "      <td>174391336</td>\n",
       "      <td>34.0</td>\n",
       "      <td>4.2</td>\n",
       "    </tr>\n",
       "    <tr>\n",
       "      <th>13</th>\n",
       "      <td>2003</td>\n",
       "      <td>7.7</td>\n",
       "      <td>25.299999</td>\n",
       "      <td>184183159</td>\n",
       "      <td>34.6</td>\n",
       "      <td>4.6</td>\n",
       "    </tr>\n",
       "    <tr>\n",
       "      <th>14</th>\n",
       "      <td>2004</td>\n",
       "      <td>7.8</td>\n",
       "      <td>25.299999</td>\n",
       "      <td>209604049</td>\n",
       "      <td>35.8</td>\n",
       "      <td>4.6</td>\n",
       "    </tr>\n",
       "    <tr>\n",
       "      <th>15</th>\n",
       "      <td>2005</td>\n",
       "      <td>7.6</td>\n",
       "      <td>25.299999</td>\n",
       "      <td>231403406</td>\n",
       "      <td>36.9</td>\n",
       "      <td>4.7</td>\n",
       "    </tr>\n",
       "    <tr>\n",
       "      <th>16</th>\n",
       "      <td>2006</td>\n",
       "      <td>7.5</td>\n",
       "      <td>25.500000</td>\n",
       "      <td>250661000</td>\n",
       "      <td>38.5</td>\n",
       "      <td>4.8</td>\n",
       "    </tr>\n",
       "    <tr>\n",
       "      <th>17</th>\n",
       "      <td>2007</td>\n",
       "      <td>7.3</td>\n",
       "      <td>25.600000</td>\n",
       "      <td>263224001</td>\n",
       "      <td>39.7</td>\n",
       "      <td>6.3</td>\n",
       "    </tr>\n",
       "    <tr>\n",
       "      <th>18</th>\n",
       "      <td>2008</td>\n",
       "      <td>7.1</td>\n",
       "      <td>25.900000</td>\n",
       "      <td>245040207</td>\n",
       "      <td>40.6</td>\n",
       "      <td>6.5</td>\n",
       "    </tr>\n",
       "    <tr>\n",
       "      <th>19</th>\n",
       "      <td>2009</td>\n",
       "      <td>6.8</td>\n",
       "      <td>25.900000</td>\n",
       "      <td>229402906</td>\n",
       "      <td>41.0</td>\n",
       "      <td>6.3</td>\n",
       "    </tr>\n",
       "    <tr>\n",
       "      <th>20</th>\n",
       "      <td>2010</td>\n",
       "      <td>6.8</td>\n",
       "      <td>26.100000</td>\n",
       "      <td>242044848</td>\n",
       "      <td>40.8</td>\n",
       "      <td>7.1</td>\n",
       "    </tr>\n",
       "    <tr>\n",
       "      <th>21</th>\n",
       "      <td>2011</td>\n",
       "      <td>6.8</td>\n",
       "      <td>26.400000</td>\n",
       "      <td>252772592</td>\n",
       "      <td>40.7</td>\n",
       "      <td>7.1</td>\n",
       "    </tr>\n",
       "    <tr>\n",
       "      <th>22</th>\n",
       "      <td>2012</td>\n",
       "      <td>6.8</td>\n",
       "      <td>26.600000</td>\n",
       "      <td>265125538</td>\n",
       "      <td>40.7</td>\n",
       "      <td>7.3</td>\n",
       "    </tr>\n",
       "    <tr>\n",
       "      <th>23</th>\n",
       "      <td>2013</td>\n",
       "      <td>6.8</td>\n",
       "      <td>26.600000</td>\n",
       "      <td>291861434</td>\n",
       "      <td>40.6</td>\n",
       "      <td>7.5</td>\n",
       "    </tr>\n",
       "    <tr>\n",
       "      <th>24</th>\n",
       "      <td>2014</td>\n",
       "      <td>6.9</td>\n",
       "      <td>27.000000</td>\n",
       "      <td>318387875</td>\n",
       "      <td>40.2</td>\n",
       "      <td>7.3</td>\n",
       "    </tr>\n",
       "  </tbody>\n",
       "</table>\n",
       "</div>"
      ],
      "text/plain": [
       "    Year  CrudeMarriageRate  AverageMarriageAge  TotalNetWorth  \\\n",
       "0   1990                9.8           23.900000       84550037   \n",
       "1   1991                9.4           24.100000       89315232   \n",
       "2   1992                9.3           24.400000       93644532   \n",
       "3   1993                9.0           24.500000       99456291   \n",
       "4   1994                9.1           24.500000      103630172   \n",
       "5   1995                8.9           24.500000      110548363   \n",
       "6   1996                8.8           24.799999      118946458   \n",
       "7   1997                8.9           25.000000      129297278   \n",
       "8   1998                8.4           25.000000      143407083   \n",
       "9   1999                8.6           25.100000      155502039   \n",
       "10  2000                8.3           25.100000      168806078   \n",
       "11  2001                8.2           25.100000      171239312   \n",
       "12  2002                7.8           25.299999      174391336   \n",
       "13  2003                7.7           25.299999      184183159   \n",
       "14  2004                7.8           25.299999      209604049   \n",
       "15  2005                7.6           25.299999      231403406   \n",
       "16  2006                7.5           25.500000      250661000   \n",
       "17  2007                7.3           25.600000      263224001   \n",
       "18  2008                7.1           25.900000      245040207   \n",
       "19  2009                6.8           25.900000      229402906   \n",
       "20  2010                6.8           26.100000      242044848   \n",
       "21  2011                6.8           26.400000      252772592   \n",
       "22  2012                6.8           26.600000      265125538   \n",
       "23  2013                6.8           26.600000      291861434   \n",
       "24  2014                6.9           27.000000      318387875   \n",
       "\n",
       "    BirthsOutsideOfMarriagePercentage  CohabitationPercentage  \n",
       "0                                28.0                     3.1  \n",
       "1                                29.5                     3.2  \n",
       "2                                30.1                     3.5  \n",
       "3                                31.0                     3.7  \n",
       "4                                32.6                     3.9  \n",
       "5                                32.2                     3.7  \n",
       "6                                32.4                     3.0  \n",
       "7                                32.4                     3.3  \n",
       "8                                32.8                     3.3  \n",
       "9                                33.0                     3.5  \n",
       "10                               33.2                     3.9  \n",
       "11                               33.5                     4.1  \n",
       "12                               34.0                     4.2  \n",
       "13                               34.6                     4.6  \n",
       "14                               35.8                     4.6  \n",
       "15                               36.9                     4.7  \n",
       "16                               38.5                     4.8  \n",
       "17                               39.7                     6.3  \n",
       "18                               40.6                     6.5  \n",
       "19                               41.0                     6.3  \n",
       "20                               40.8                     7.1  \n",
       "21                               40.7                     7.1  \n",
       "22                               40.7                     7.3  \n",
       "23                               40.6                     7.5  \n",
       "24                               40.2                     7.3  "
      ]
     },
     "execution_count": 37,
     "metadata": {},
     "output_type": "execute_result"
    }
   ],
   "source": [
    "%sql us_df << SELECT * FROM us_df INNER JOIN networth_df ON us_df.MarriageYear = networth_df.year\n",
    "us_df.drop('AgeYear', inplace=True, axis=1)\n",
    "us_df.drop('Year', inplace=True, axis=1)\n",
    "us_df = us_df.rename(columns = {'MarriageYear': 'Year'})\n",
    "%sql us_df << SELECT * FROM us_df INNER JOIN outside_birth_df ON us_df.Year = outside_birth_df.BirthYear\n",
    "us_df.drop('BirthYear', inplace=True, axis=1)\n",
    "%sql us_df << SELECT * FROM us_df INNER JOIN cohabitation_df ON us_df.Year = cohabitation_df.cohabitationYear\n",
    "us_df.drop('cohabitationYear', inplace=True, axis=1)\n",
    "us_df['CohabitationPercentage'] = us_df['CohabitationPercentage'].astype(float)\n",
    "us_df"
   ]
  },
  {
   "cell_type": "markdown",
   "id": "db8d8e3d",
   "metadata": {},
   "source": [
    "### Summary Statistics (United States)\n",
    "The mean average marriage age for the U.S. is around 25.3 years, while the median is around the same. Therefore, this could suggest that the U.S. population tend to get married at around 25.3 years. However the standard deviation of the marriage age is almost 1 year, which displays how much the data could vary for the years 1990-2020. \n",
    "\n",
    "The average crude marriage rate for the U.S. is around 8%, while the median is around the same. This suggests that around 8% of the U.S. population gets married during the years 1990-2014. However, there is almost a 1% standard deviation among the marriage rates in the U.S., showing how the marriage rates could vary around 1% throughout the years in the dataset (1990-2020).\n",
    "\n",
    "The average and median total net worth for the U.S. are around 170,000,000 dollars - 180,000,000 dollars while the standard deviation is up to $69,267,186. This suggests that there is a huge income inequality issue in the U.S., which could cause the data correlation between marriage rates and wealth to be biased. \n",
    "\n",
    "The mean cohabitation rate in the U.S. is around 5 percent while the median is around 4 percent, which is a fairly small percentage. However, the standard deviation is up to around 1.54 percent, suggesting that there is great variations or shifts throughout the years 1990-2014 for cohabitation rates in the U.S. which we could further explore."
   ]
  },
  {
   "cell_type": "code",
   "execution_count": 38,
   "id": "878452d8",
   "metadata": {},
   "outputs": [
    {
     "name": "stdout",
     "output_type": "stream",
     "text": [
      "Summary Stats for AverageMarriageAge:\n",
      " Mean: 25.311999800000002\n",
      " Standard Deviation: 0.7911106400498986\n",
      " Median: 25.299999\n",
      "Summary Stats for CrudeMarriageRate:\n",
      " Mean: 8.016000042080002\n",
      " Standard Deviation: 0.9443219200492355\n",
      " Median: 7.800000191\n",
      "Summary Stats for TotalNetWorth:\n",
      " Mean: 185057809.04\n",
      " Standard Deviation: 69267186.17706585\n",
      " Median: 174391336.0\n",
      "Summary Stats for BirthsOutsideOfMarriagePercentage:\n",
      " Mean: 35.39200000000001\n",
      " Standard Deviation: 4.103649107806368\n",
      " Median: 34.0\n",
      "Summary Stats for CohabitationPercentage:\n",
      " Mean: 4.819999999999999\n",
      " Standard Deviation: 1.5401298646542765\n",
      " Median: 4.2\n"
     ]
    }
   ],
   "source": [
    "calc_summary_stats(us_df['AverageMarriageAge'])\n",
    "calc_summary_stats(us_df['CrudeMarriageRate'])\n",
    "calc_summary_stats(us_df['TotalNetWorth'])\n",
    "calc_summary_stats(us_df['BirthsOutsideOfMarriagePercentage'])\n",
    "calc_summary_stats(us_df['CohabitationPercentage'])"
   ]
  },
  {
   "cell_type": "markdown",
   "id": "c8bb869f",
   "metadata": {},
   "source": [
    "## Graph Description  \n",
    "\n",
    "In order to identify the correlations between the marriage rates and the factors to answer our research questions, we decided to plotting graphs displaying each factor plotted against year. As seen from the graphs below, there is a strong negative correlation between the average age people got married in the US and the marriage rates in the US. However, for the total net worth, there is a variation in the networth and as a result, has no correlation with both the average age and the marriage rates. \n",
    "On the other hand, we can see moderately positive relationships among the average marriage age, total net worth, birth outside of marriage, and cohabitation where they all increase over time. Especially, there is a stronger moderate positive relationships between birth outside of marriage and cohabitation where the trend of increase and decrease in following results seem similar."
   ]
  },
  {
   "cell_type": "code",
   "execution_count": 39,
   "id": "7e985503",
   "metadata": {},
   "outputs": [
    {
     "data": {
      "text/plain": [
       "<AxesSubplot:xlabel='Year', ylabel='CrudeMarriageRate'>"
      ]
     },
     "execution_count": 39,
     "metadata": {},
     "output_type": "execute_result"
    },
    {
     "data": {
      "image/png": "[encoded data removed]",
      "text/plain": [
       "<Figure size 432x288 with 1 Axes>"
      ]
     },
     "metadata": {
      "needs_background": "light"
     },
     "output_type": "display_data"
    }
   ],
   "source": [
    "marriage_us = us_df['CrudeMarriageRate']\n",
    "age_us = us_df['AverageMarriageAge']\n",
    "year_us = us_df['Year']\n",
    "networth_us = us_df['TotalNetWorth']\n",
    "outsidebirth_us = us_df['BirthsOutsideOfMarriagePercentage']\n",
    "cohabitation_us = us_df['CohabitationPercentage']\n",
    "\n",
    "seaborn.lineplot(data=us_df, x=year_us, y=marriage_us)"
   ]
  },
  {
   "cell_type": "code",
   "execution_count": 40,
   "id": "07f608c2",
   "metadata": {},
   "outputs": [
    {
     "data": {
      "text/plain": [
       "<AxesSubplot:xlabel='Year', ylabel='AverageMarriageAge'>"
      ]
     },
     "execution_count": 40,
     "metadata": {},
     "output_type": "execute_result"
    },
    {
     "data": {
      "image/png": "[encoded data removed]",
      "text/plain": [
       "<Figure size 432x288 with 1 Axes>"
      ]
     },
     "metadata": {
      "needs_background": "light"
     },
     "output_type": "display_data"
    }
   ],
   "source": [
    "seaborn.lineplot(data=us_df, x=year_us, y=age_us)"
   ]
  },
  {
   "cell_type": "code",
   "execution_count": 41,
   "id": "4d28befb",
   "metadata": {
    "scrolled": true
   },
   "outputs": [
    {
     "data": {
      "text/plain": [
       "<AxesSubplot:xlabel='Year', ylabel='TotalNetWorth'>"
      ]
     },
     "execution_count": 41,
     "metadata": {},
     "output_type": "execute_result"
    },
    {
     "data": {
      "image/png": "[encoded data removed]",
      "text/plain": [
       "<Figure size 432x288 with 1 Axes>"
      ]
     },
     "metadata": {
      "needs_background": "light"
     },
     "output_type": "display_data"
    }
   ],
   "source": [
    "seaborn.lineplot(data=us_df, x=year_us, y=networth_us)"
   ]
  },
  {
   "cell_type": "code",
   "execution_count": 42,
   "id": "9132a5c8",
   "metadata": {},
   "outputs": [
    {
     "data": {
      "text/plain": [
       "<AxesSubplot:xlabel='Year', ylabel='BirthsOutsideOfMarriagePercentage'>"
      ]
     },
     "execution_count": 42,
     "metadata": {},
     "output_type": "execute_result"
    },
    {
     "data": {
      "image/png": "[encoded data removed]",
      "text/plain": [
       "<Figure size 432x288 with 1 Axes>"
      ]
     },
     "metadata": {
      "needs_background": "light"
     },
     "output_type": "display_data"
    }
   ],
   "source": [
    "seaborn.lineplot(data=us_df, x=year_us, y=outsidebirth_us)"
   ]
  },
  {
   "cell_type": "code",
   "execution_count": 43,
   "id": "05403509",
   "metadata": {
    "scrolled": true
   },
   "outputs": [
    {
     "data": {
      "text/plain": [
       "<AxesSubplot:xlabel='Year', ylabel='CohabitationPercentage'>"
      ]
     },
     "execution_count": 43,
     "metadata": {},
     "output_type": "execute_result"
    },
    {
     "data": {
      "image/png": "[encoded data removed]",
      "text/plain": [
       "<Figure size 432x288 with 1 Axes>"
      ]
     },
     "metadata": {
      "needs_background": "light"
     },
     "output_type": "display_data"
    }
   ],
   "source": [
    "seaborn.lineplot(data=us_df, x=year_us, y=cohabitation_us)"
   ]
  },
  {
   "cell_type": "markdown",
   "id": "4f0ea8b2",
   "metadata": {},
   "source": [
    "## Correlation Matrix \n",
    "\n"
   ]
  },
  {
   "cell_type": "markdown",
   "id": "e35370a3",
   "metadata": {},
   "source": [
    "In order to further understand the correlation between marriage rate and the other factors we are analyzing, we decided to use a correlation matrix. We then chose to display the correlation matrix using a heatmap or color-encoded matrix so it is easier to visualize."
   ]
  },
  {
   "cell_type": "code",
   "execution_count": 44,
   "id": "2963811b",
   "metadata": {},
   "outputs": [
    {
     "data": {
      "image/png": "[encoded data removed]",
      "text/plain": [
       "<Figure size 432x288 with 2 Axes>"
      ]
     },
     "metadata": {
      "needs_background": "light"
     },
     "output_type": "display_data"
    }
   ],
   "source": [
    "X = us_df[['CrudeMarriageRate', 'AverageMarriageAge', 'TotalNetWorth', 'BirthsOutsideOfMarriagePercentage', 'CohabitationPercentage']]\n",
    "corr = X.corr()\n",
    "seaborn.heatmap(corr, annot=True)\n",
    "pyplot.show()"
   ]
  },
  {
   "cell_type": "markdown",
   "id": "b88a9a9f",
   "metadata": {},
   "source": [
    "From the correlation matrix, we can see that there are really strong correlations between marriage rates and the factors that were used as well as strong correlations between the variables itself. \n",
    "\n",
    "### Hypothesis 3 Results\n",
    "We predicted that wealth would be the factor that shows the strongest correlation with marriage rates in the United States. We can see that wealth and marriage rates have a correlation of -0.95, which is a strong negative correlation. However, wealth isn't the factor that shows the strongest correlation as births outside of marriage percentage and marriage rates show an even stronger correlation (-0.97). This was rather unexpected because we believed that wealth was a huge contribution or consideration into marriage but rather the births outside of marriage shows a stronger correlation. \n",
    "\n",
    "### Hypothesis 7 Results\n",
    "We predicted that there could be a correlation between the factors. We believe that there could be a strong correlation between cohabitation and birth outside of marriage and a strong correlation betwen age and wealth. We found that age and wealth has a strong correlation of 0.94. This makes sense logically because people who are single could be more wealthy due to no distractions such as starting a family or wedding plannings or being wealthier could be raising their standards of a *perfect* partner so they marry later in life when they want to settle down. In terms of cohabitation and birth outside of marriage, there is also a strong correlation of 0.94. This is expected because living together as unmarried partners could also mean getting pregnant outside of marriage. "
   ]
  },
  {
   "cell_type": "markdown",
   "id": "bb237d89",
   "metadata": {},
   "source": [
    "## Train/Test Split \n"
   ]
  },
  {
   "cell_type": "code",
   "execution_count": 45,
   "id": "b6fe16aa",
   "metadata": {},
   "outputs": [],
   "source": [
    "us_train, us_test = train_test_split(us_df, test_size = 0.1, random_state = 2950) "
   ]
  },
  {
   "cell_type": "code",
   "execution_count": 46,
   "id": "e664b33f",
   "metadata": {},
   "outputs": [
    {
     "name": "stdout",
     "output_type": "stream",
     "text": [
      "The coefficient is [-3.15401846e-01 -1.51859380e-09 -1.72884946e-01  8.15359342e-02]\n",
      "The intercept is 22.026492904214944\n"
     ]
    }
   ],
   "source": [
    "list_strings = ['AverageMarriageAge', 'TotalNetWorth', 'BirthsOutsideOfMarriagePercentage', 'CohabitationPercentage']\n",
    "train = us_train\n",
    "test = us_test\n",
    "predict = 'CrudeMarriageRate'\n",
    "\n",
    "x = train[list_strings]\n",
    "y = train[predict]\n",
    "\n",
    "\n",
    "model = LinearRegression().fit(x, y)\n",
    "\n",
    "predict_train = model.predict(train[list_strings])\n",
    "predict_test = model.predict(test[list_strings])\n",
    "\n",
    "print(f\"The coefficient is {model.coef_}\")\n",
    "print(f\"The intercept is {model.intercept_}\")"
   ]
  },
  {
   "cell_type": "markdown",
   "id": "34b958fb",
   "metadata": {},
   "source": []
  },
  {
   "cell_type": "code",
   "execution_count": 47,
   "id": "b859ff0a",
   "metadata": {
    "scrolled": true
   },
   "outputs": [
    {
     "data": {
      "text/html": [
       "<div>\n",
       "<style scoped>\n",
       "    .dataframe tbody tr th:only-of-type {\n",
       "        vertical-align: middle;\n",
       "    }\n",
       "\n",
       "    .dataframe tbody tr th {\n",
       "        vertical-align: top;\n",
       "    }\n",
       "\n",
       "    .dataframe thead th {\n",
       "        text-align: right;\n",
       "    }\n",
       "</style>\n",
       "<table border=\"1\" class=\"dataframe\">\n",
       "  <thead>\n",
       "    <tr style=\"text-align: right;\">\n",
       "      <th></th>\n",
       "      <th>AverageMarriageAge</th>\n",
       "      <th>TotalNetWorth</th>\n",
       "      <th>BirthsOutsideOfMarriagePercentage</th>\n",
       "      <th>CohabitationPercentage</th>\n",
       "    </tr>\n",
       "  </thead>\n",
       "  <tbody>\n",
       "    <tr>\n",
       "      <th>AverageMarriageAge</th>\n",
       "      <td>1.000000</td>\n",
       "      <td>0.944833</td>\n",
       "      <td>0.931268</td>\n",
       "      <td>0.928895</td>\n",
       "    </tr>\n",
       "    <tr>\n",
       "      <th>TotalNetWorth</th>\n",
       "      <td>0.944833</td>\n",
       "      <td>1.000000</td>\n",
       "      <td>0.948161</td>\n",
       "      <td>0.908046</td>\n",
       "    </tr>\n",
       "    <tr>\n",
       "      <th>BirthsOutsideOfMarriagePercentage</th>\n",
       "      <td>0.931268</td>\n",
       "      <td>0.948161</td>\n",
       "      <td>1.000000</td>\n",
       "      <td>0.938628</td>\n",
       "    </tr>\n",
       "    <tr>\n",
       "      <th>CohabitationPercentage</th>\n",
       "      <td>0.928895</td>\n",
       "      <td>0.908046</td>\n",
       "      <td>0.938628</td>\n",
       "      <td>1.000000</td>\n",
       "    </tr>\n",
       "  </tbody>\n",
       "</table>\n",
       "</div>"
      ],
      "text/plain": [
       "                                   AverageMarriageAge  TotalNetWorth  \\\n",
       "AverageMarriageAge                           1.000000       0.944833   \n",
       "TotalNetWorth                                0.944833       1.000000   \n",
       "BirthsOutsideOfMarriagePercentage            0.931268       0.948161   \n",
       "CohabitationPercentage                       0.928895       0.908046   \n",
       "\n",
       "                                   BirthsOutsideOfMarriagePercentage  \\\n",
       "AverageMarriageAge                                          0.931268   \n",
       "TotalNetWorth                                               0.948161   \n",
       "BirthsOutsideOfMarriagePercentage                           1.000000   \n",
       "CohabitationPercentage                                      0.938628   \n",
       "\n",
       "                                   CohabitationPercentage  \n",
       "AverageMarriageAge                               0.928895  \n",
       "TotalNetWorth                                    0.908046  \n",
       "BirthsOutsideOfMarriagePercentage                0.938628  \n",
       "CohabitationPercentage                           1.000000  "
      ]
     },
     "execution_count": 47,
     "metadata": {},
     "output_type": "execute_result"
    }
   ],
   "source": [
    "us_corr = us_train[['AverageMarriageAge', 'TotalNetWorth', 'BirthsOutsideOfMarriagePercentage', 'CohabitationPercentage']]\n",
    "us_corr.corr()"
   ]
  },
  {
   "cell_type": "markdown",
   "id": "705f9394",
   "metadata": {},
   "source": [
    "### Dropping a Dummy Variable \n",
    "\n",
    "Multicollinearity is when there are high correlations between predictor/independent variables with one or more independent variables in a multiple regression equation. It can create bias and noise in our predictions and dataset, undermining the significance of the predictor/independent variable. As seen above, there is a high correlation between Total Net Worth and the other three predictor variables (0.94 with average marriage rate, 0.95 with births outside marriage percentage and 0.91 with cohabitation percentage). Therefore, to avoid multicollinearity, we decided to drop the dummy variable. "
   ]
  },
  {
   "cell_type": "code",
   "execution_count": 48,
   "id": "a6905a50",
   "metadata": {},
   "outputs": [
    {
     "name": "stdout",
     "output_type": "stream",
     "text": [
      "The coefficient is [-0.38147595 -0.18728805  0.08690366]\n",
      "The intercept is 23.902841911404593\n"
     ]
    }
   ],
   "source": [
    "list_strings = ['AverageMarriageAge', 'BirthsOutsideOfMarriagePercentage'  , 'CohabitationPercentage']\n",
    "train = us_train\n",
    "test = us_test\n",
    "predict = 'CrudeMarriageRate'\n",
    "\n",
    "x = train[list_strings]\n",
    "y = train[predict]\n",
    "\n",
    "\n",
    "model = LinearRegression().fit(x, y)\n",
    "\n",
    "predict_train = model.predict(train[list_strings])\n",
    "predict_test = model.predict(test[list_strings])\n",
    "\n",
    "print(f\"The coefficient is {model.coef_}\")\n",
    "print(f\"The intercept is {model.intercept_}\")"
   ]
  },
  {
   "cell_type": "markdown",
   "id": "5719be1f",
   "metadata": {},
   "source": []
  },
  {
   "cell_type": "code",
   "execution_count": 49,
   "id": "ec432706",
   "metadata": {},
   "outputs": [
    {
     "data": {
      "text/plain": [
       "<AxesSubplot:xlabel='AverageMarriageAge', ylabel='CrudeMarriageRate'>"
      ]
     },
     "execution_count": 49,
     "metadata": {},
     "output_type": "execute_result"
    },
    {
     "data": {
      "image/png": "[encoded data removed]",
      "text/plain": [
       "<Figure size 432x288 with 1 Axes>"
      ]
     },
     "metadata": {
      "needs_background": "light"
     },
     "output_type": "display_data"
    }
   ],
   "source": [
    "seaborn.regplot(x=us_df['AverageMarriageAge'], y=us_df['CrudeMarriageRate'] )"
   ]
  },
  {
   "cell_type": "code",
   "execution_count": 50,
   "id": "20f12f90",
   "metadata": {},
   "outputs": [],
   "source": [
    "#Trying to fit into exponential model cuz looks like it would fit better\n",
    "#p = np.polyfit(x=us_df['AverageMarriageAge'], y=np.log(us_df['CrudeMarriageRate']), deg=1)\n",
    "p = np.polyfit(x=us_df['AverageMarriageAge'], y=us_df['CrudeMarriageRate'], deg=1)"
   ]
  },
  {
   "cell_type": "markdown",
   "id": "e1b4256e",
   "metadata": {},
   "source": [
    "The crude marriage rate in the U.S. decreases as the average marriage age in the United States increases. This hints that there are a lower proportion of older people getting married (at least when age passes 24.0). The confidence interval constantly increases as the average marriage age passes 25.0. This suggests that there is a larger margin of error as the age increases from a certain point, suggesting a larger variation among the crude marriage rates for those older than 25 years old."
   ]
  },
  {
   "cell_type": "code",
   "execution_count": 51,
   "id": "82ceef69",
   "metadata": {
    "scrolled": false
   },
   "outputs": [
    {
     "data": {
      "text/plain": [
       "<AxesSubplot:xlabel='TotalNetWorth', ylabel='CrudeMarriageRate'>"
      ]
     },
     "execution_count": 51,
     "metadata": {},
     "output_type": "execute_result"
    },
    {
     "data": {
      "image/png": "[encoded data removed]",
      "text/plain": [
       "<Figure size 432x288 with 1 Axes>"
      ]
     },
     "metadata": {
      "needs_background": "light"
     },
     "output_type": "display_data"
    }
   ],
   "source": [
    "seaborn.regplot(x=us_df['TotalNetWorth'], y=us_df['CrudeMarriageRate'] )"
   ]
  },
  {
   "cell_type": "markdown",
   "id": "c57ee194",
   "metadata": {},
   "source": [
    "The regression line shows the crude marriage rate decreasing as the average total networth increases in the United States, suggesting that a greater proportion of relatively richer people get married. Similar to the regression line of Average Marriage Age VS Crude Marriage Rate, the confidence interval increases when x reaches a certain level. In this case, the confidence interval constantly increases after the total net worth (in millions dollar) reaches around 1.5. This suggests that there is a larger margin of error for crude marriage rates after their net worth passes around $1.5mm."
   ]
  },
  {
   "cell_type": "code",
   "execution_count": 52,
   "id": "d4233a3c",
   "metadata": {},
   "outputs": [
    {
     "data": {
      "text/plain": [
       "<AxesSubplot:xlabel='BirthsOutsideOfMarriagePercentage', ylabel='CrudeMarriageRate'>"
      ]
     },
     "execution_count": 52,
     "metadata": {},
     "output_type": "execute_result"
    },
    {
     "data": {
      "image/png": "[encoded data removed]",
      "text/plain": [
       "<Figure size 432x288 with 1 Axes>"
      ]
     },
     "metadata": {
      "needs_background": "light"
     },
     "output_type": "display_data"
    }
   ],
   "source": [
    "seaborn.regplot(x=us_df['BirthsOutsideOfMarriagePercentage'], y=us_df['CrudeMarriageRate'] )"
   ]
  },
  {
   "cell_type": "markdown",
   "id": "a823dec8",
   "metadata": {},
   "source": [
    "The regression line displays a trend where as the birth outside of marriage percentage increases, the crude marriage rate decreases in the United States. The results suggest how there is a lower proportion of those who have children outside of the marriage getting married compared to those who do not (at least for when the birth outside of marriage percentage surpasses 28 to around 40). Unlike the two regression lines above, this one displays a smaller confidence interval as the birth outside of marriage percentage increases. This shows that there is a lower margin of error as the birth outside of marriage percentage increases (less variation in crude marriage rate)."
   ]
  },
  {
   "cell_type": "code",
   "execution_count": 53,
   "id": "2678a5b3",
   "metadata": {},
   "outputs": [
    {
     "data": {
      "text/plain": [
       "<AxesSubplot:xlabel='CohabitationPercentage', ylabel='CrudeMarriageRate'>"
      ]
     },
     "execution_count": 53,
     "metadata": {},
     "output_type": "execute_result"
    },
    {
     "data": {
      "image/png": "[encoded data removed]",
      "text/plain": [
       "<Figure size 432x288 with 1 Axes>"
      ]
     },
     "metadata": {
      "needs_background": "light"
     },
     "output_type": "display_data"
    }
   ],
   "source": [
    "seaborn.regplot(x=us_df['CohabitationPercentage'], y=us_df['CrudeMarriageRate'] )"
   ]
  },
  {
   "cell_type": "markdown",
   "id": "e7d1df73",
   "metadata": {},
   "source": [
    "As the cohabitation percentage increases, the regression line displays the crude marriage rate decreasing. This exhibits how there is a greater proportion people who get married with a greater cohabitation rate, at least for the cohabitation percentage range between 3% to around 7. There is no clear trend in the size of the confidence interval, so the margin of error is arguably the same throughout the fluctuations in cohabitation percentages. "
   ]
  },
  {
   "cell_type": "markdown",
   "id": "e83fe5ea",
   "metadata": {},
   "source": [
    "### Conducting t-test: Crude Marriage Rate VS Average Marriage Age"
   ]
  },
  {
   "cell_type": "code",
   "execution_count": 54,
   "id": "90b0922d",
   "metadata": {},
   "outputs": [],
   "source": [
    "import statsmodels.api as sm"
   ]
  },
  {
   "cell_type": "code",
   "execution_count": 55,
   "id": "81db2609",
   "metadata": {},
   "outputs": [
    {
     "name": "stdout",
     "output_type": "stream",
     "text": [
      "                            OLS Regression Results                            \n",
      "==============================================================================\n",
      "Dep. Variable:      CrudeMarriageRate   R-squared:                       0.891\n",
      "Model:                            OLS   Adj. R-squared:                  0.886\n",
      "Method:                 Least Squares   F-statistic:                     187.1\n",
      "Date:                Fri, 09 Dec 2022   Prob (F-statistic):           1.55e-12\n",
      "Time:                        23:00:00   Log-Likelihood:                -6.3887\n",
      "No. Observations:                  25   AIC:                             16.78\n",
      "Df Residuals:                      23   BIC:                             19.22\n",
      "Df Model:                           1                                         \n",
      "Covariance Type:            nonrobust                                         \n",
      "==============================================================================\n",
      "                 coef    std err          t      P>|t|      [0.025      0.975]\n",
      "------------------------------------------------------------------------------\n",
      "const         36.5286      2.085     17.517      0.000      32.215      40.842\n",
      "x1            -1.1264      0.082    -13.679      0.000      -1.297      -0.956\n",
      "==============================================================================\n",
      "Omnibus:                        0.986   Durbin-Watson:                   0.625\n",
      "Prob(Omnibus):                  0.611   Jarque-Bera (JB):                0.629\n",
      "Skew:                           0.383   Prob(JB):                        0.730\n",
      "Kurtosis:                       2.867   Cond. No.                         812.\n",
      "==============================================================================\n",
      "\n",
      "Notes:\n",
      "[1] Standard Errors assume that the covariance matrix of the errors is correctly specified.\n"
     ]
    }
   ],
   "source": [
    "avgage = us_df['AverageMarriageAge']\n",
    "avgage = np.array(avgage)\n",
    "avgage = avgage.reshape(-1,1)\n",
    "marrate = us_df['CrudeMarriageRate']\n",
    "\n",
    "avgage = sm.add_constant(avgage)\n",
    "model = sm.OLS(marrate, avgage)\n",
    "results1 = model.fit()\n",
    "print(results1.summary())"
   ]
  },
  {
   "cell_type": "markdown",
   "id": "80ac3b09",
   "metadata": {},
   "source": [
    "The r^2 value is approximately 0.891 for crude marriage rate VS average marriage age, signifying that around 89.1% of the variation in the crude marriage rate is explained by the regression model."
   ]
  },
  {
   "cell_type": "markdown",
   "id": "a11b2871",
   "metadata": {},
   "source": [
    "### Conducting t-test: Crude Marriage Rate VS Births Outside Of Marriage Percentage"
   ]
  },
  {
   "cell_type": "code",
   "execution_count": 56,
   "id": "ec779861",
   "metadata": {},
   "outputs": [
    {
     "name": "stdout",
     "output_type": "stream",
     "text": [
      "                            OLS Regression Results                            \n",
      "==============================================================================\n",
      "Dep. Variable:      CrudeMarriageRate   R-squared:                       0.947\n",
      "Model:                            OLS   Adj. R-squared:                  0.945\n",
      "Method:                 Least Squares   F-statistic:                     412.6\n",
      "Date:                Fri, 09 Dec 2022   Prob (F-statistic):           3.45e-16\n",
      "Time:                        23:00:00   Log-Likelihood:                 2.7240\n",
      "No. Observations:                  25   AIC:                            -1.448\n",
      "Df Residuals:                      23   BIC:                            0.9897\n",
      "Df Model:                           1                                         \n",
      "Covariance Type:            nonrobust                                         \n",
      "==============================================================================\n",
      "                 coef    std err          t      P>|t|      [0.025      0.975]\n",
      "------------------------------------------------------------------------------\n",
      "const         15.9424      0.393     40.583      0.000      15.130      16.755\n",
      "x1            -0.2240      0.011    -20.312      0.000      -0.247      -0.201\n",
      "==============================================================================\n",
      "Omnibus:                        3.318   Durbin-Watson:                   0.814\n",
      "Prob(Omnibus):                  0.190   Jarque-Bera (JB):                1.770\n",
      "Skew:                          -0.575   Prob(JB):                        0.413\n",
      "Kurtosis:                       3.614   Cond. No.                         310.\n",
      "==============================================================================\n",
      "\n",
      "Notes:\n",
      "[1] Standard Errors assume that the covariance matrix of the errors is correctly specified.\n"
     ]
    }
   ],
   "source": [
    "birth = us_df['BirthsOutsideOfMarriagePercentage']\n",
    "birth = np.array(birth)\n",
    "birth = birth.reshape(-1,1)\n",
    "\n",
    "birth = sm.add_constant(birth)\n",
    "model = sm.OLS(marrate, birth)\n",
    "results2 = model.fit()\n",
    "print(results2.summary())"
   ]
  },
  {
   "cell_type": "markdown",
   "id": "11f08efe",
   "metadata": {},
   "source": [
    "The r^2 value is approximately 0.947 for crude marriage rate VS births outside of marriage percentage, signifying that around 94.7% of the variation in the crude marriage rate is explained by the regression model."
   ]
  },
  {
   "cell_type": "markdown",
   "id": "7443b635",
   "metadata": {},
   "source": [
    "### Conducting t-test: Crude Marriage Rate VS Cohabitation Percentage"
   ]
  },
  {
   "cell_type": "code",
   "execution_count": 57,
   "id": "e0fe5833",
   "metadata": {},
   "outputs": [],
   "source": [
    "cohab = us_df['CohabitationPercentage']\n",
    "cohab = np.array(cohab)\n",
    "cohab = cohab.reshape(-1,1)"
   ]
  },
  {
   "cell_type": "code",
   "execution_count": 58,
   "id": "b7df3747",
   "metadata": {},
   "outputs": [
    {
     "name": "stdout",
     "output_type": "stream",
     "text": [
      "                            OLS Regression Results                            \n",
      "==============================================================================\n",
      "Dep. Variable:      CrudeMarriageRate   R-squared:                       0.838\n",
      "Model:                            OLS   Adj. R-squared:                  0.831\n",
      "Method:                 Least Squares   F-statistic:                     119.1\n",
      "Date:                Fri, 09 Dec 2022   Prob (F-statistic):           1.43e-10\n",
      "Time:                        23:00:00   Log-Likelihood:                -11.275\n",
      "No. Observations:                  25   AIC:                             26.55\n",
      "Df Residuals:                      23   BIC:                             28.99\n",
      "Df Model:                           1                                         \n",
      "Covariance Type:            nonrobust                                         \n",
      "==============================================================================\n",
      "                 coef    std err          t      P>|t|      [0.025      0.975]\n",
      "------------------------------------------------------------------------------\n",
      "const         10.7217      0.260     41.200      0.000      10.183      11.260\n",
      "x1            -0.5613      0.051    -10.915      0.000      -0.668      -0.455\n",
      "==============================================================================\n",
      "Omnibus:                        1.601   Durbin-Watson:                   0.541\n",
      "Prob(Omnibus):                  0.449   Jarque-Bera (JB):                1.133\n",
      "Skew:                           0.254   Prob(JB):                        0.567\n",
      "Kurtosis:                       2.089   Cond. No.                         17.2\n",
      "==============================================================================\n",
      "\n",
      "Notes:\n",
      "[1] Standard Errors assume that the covariance matrix of the errors is correctly specified.\n"
     ]
    }
   ],
   "source": [
    "model = LinearRegression().fit(cohab, marrate)\n",
    "cohab = sm.add_constant(cohab)\n",
    "model = sm.OLS(marrate, cohab)\n",
    "results3 = model.fit()\n",
    "print(results3.summary())"
   ]
  },
  {
   "cell_type": "markdown",
   "id": "11543cfb",
   "metadata": {},
   "source": [
    "The r^2 value is approximately 0.838 for crude marriage rate VS cohabitation percentage, signifying that around 83.8% of the variation in the crude marriage rate is explained by the regression model."
   ]
  },
  {
   "cell_type": "markdown",
   "id": "70645fcc",
   "metadata": {},
   "source": [
    "### Results from t-tests"
   ]
  },
  {
   "cell_type": "markdown",
   "id": "4eb0a0c5",
   "metadata": {},
   "source": [
    "The p-value is 0.00 for all the dependent variables which is less than our significance level of 0.05. Therefore, there is a significant linear relationship between average marriage age and the crude marriage rate, births outside of marriage percentage and crude marriage rate and cohabitation percentage and the crude marriage rate. "
   ]
  },
  {
   "cell_type": "markdown",
   "id": "efd02fd1",
   "metadata": {},
   "source": [
    "## Exponential Smoothing"
   ]
  },
  {
   "cell_type": "markdown",
   "id": "196e280e",
   "metadata": {},
   "source": [
    "To further forecast our data, we are utilizing Simple Exponential Smoothing method where forecast for time t+1 is a weighted average of the new observation (time t) and the previous forecast (for time t). We decided to show two forecasts using two levels of alpha, the smoothing constant. However, as we are focusing more on accuracy than smoothing the data points, we would prioritize higher alpha (0.6) than the lower one (0.2)."
   ]
  },
  {
   "cell_type": "markdown",
   "id": "b30900d7",
   "metadata": {},
   "source": [
    "### Crude Marriage Rate"
   ]
  },
  {
   "cell_type": "code",
   "execution_count": 59,
   "id": "0f75a31e",
   "metadata": {},
   "outputs": [
    {
     "data": {
      "text/plain": [
       "<matplotlib.legend.Legend at 0x7f8fc7d37a60>"
      ]
     },
     "execution_count": 59,
     "metadata": {},
     "output_type": "execute_result"
    },
    {
     "data": {
      "image/png": "[encoded data removed]",
      "text/plain": [
       "<Figure size 864x576 with 1 Axes>"
      ]
     },
     "metadata": {
      "needs_background": "light"
     },
     "output_type": "display_data"
    }
   ],
   "source": [
    "from statsmodels.tsa.api import ExponentialSmoothing, SimpleExpSmoothing, Holt\n",
    "import matplotlib.pyplot as plt\n",
    "\n",
    "crude = us_df[['CrudeMarriageRate']]\n",
    "crude1 = crude.values.reshape(-1).tolist()\n",
    "\n",
    "data = crude1\n",
    "index = pd.date_range(start = \"1990\", end=\"2015\", freq = \"A\")\n",
    "ndata = pd.Series(data,index)\n",
    "\n",
    "fit1 = SimpleExpSmoothing(ndata, initialization_method=\"heuristic\").fit(\n",
    "    smoothing_level=0.2, optimized=False\n",
    ")\n",
    "fcast1 = fit1.forecast(3).rename(r\"$\\alpha=0.2$\")\n",
    "fit2 = SimpleExpSmoothing(ndata, initialization_method=\"heuristic\").fit(\n",
    "    smoothing_level=0.6, optimized=False\n",
    ")\n",
    "fcast2 = fit2.forecast(3).rename(r\"$\\alpha=0.6$\")\n",
    "\n",
    "plt.figure(figsize=(12, 8))\n",
    "plt.plot(ndata, marker=\"o\", color=\"black\")\n",
    "plt.plot(fit1.fittedvalues, marker=\"o\", color=\"blue\")\n",
    "(line1,) = plt.plot(fcast1, marker=\"o\", color=\"blue\")\n",
    "plt.plot(fit2.fittedvalues, marker=\"o\", color=\"red\")\n",
    "(line2,) = plt.plot(fcast2, marker=\"o\", color=\"red\")\n",
    "plt.legend([line1,line2], [fcast1.name, fcast2.name])"
   ]
  },
  {
   "cell_type": "markdown",
   "id": "b687f622",
   "metadata": {},
   "source": [
    "Looking at the graph above, focusing on smoothing constant of 0.6, we can expect the crude marriage rate in United States to slighlty decline ranging from 6.8 to 6.9 in 2015 as it has been for past 3 years. Comparing to the actual outcome that we have gathered from our original data, the crude rate was recorded to be 6.9 in 2015, which is very similar to our forecast using the Simple Exponential Smoothing (alpha = 0.6)."
   ]
  },
  {
   "cell_type": "markdown",
   "id": "f1f640b7",
   "metadata": {},
   "source": [
    "### Average Marriage Age "
   ]
  },
  {
   "cell_type": "code",
   "execution_count": 60,
   "id": "59492873",
   "metadata": {
    "scrolled": false
   },
   "outputs": [
    {
     "name": "stdout",
     "output_type": "stream",
     "text": [
      "DatetimeIndex(['1990-12-31', '1991-12-31', '1992-12-31', '1993-12-31',\n",
      "               '1994-12-31', '1995-12-31', '1996-12-31', '1997-12-31',\n",
      "               '1998-12-31', '1999-12-31', '2000-12-31', '2001-12-31',\n",
      "               '2002-12-31', '2003-12-31', '2004-12-31', '2005-12-31',\n",
      "               '2006-12-31', '2007-12-31', '2008-12-31', '2009-12-31',\n",
      "               '2010-12-31', '2011-12-31', '2012-12-31', '2013-12-31',\n",
      "               '2014-12-31'],\n",
      "              dtype='datetime64[ns]', freq='A-DEC')\n"
     ]
    },
    {
     "data": {
      "text/plain": [
       "<matplotlib.legend.Legend at 0x7f8fc84f0b80>"
      ]
     },
     "execution_count": 60,
     "metadata": {},
     "output_type": "execute_result"
    },
    {
     "data": {
      "image/png": "[encoded data removed]",
      "text/plain": [
       "<Figure size 864x576 with 1 Axes>"
      ]
     },
     "metadata": {
      "needs_background": "light"
     },
     "output_type": "display_data"
    }
   ],
   "source": [
    "age = us_df[['AverageMarriageAge']]\n",
    "age1 = age.values.reshape(-1).tolist()\n",
    "\n",
    "data = age1\n",
    "index = pd.date_range(start = \"1990\", end=\"2015\", freq = \"A\")\n",
    "ndata = pd.Series(data,index)\n",
    "print(index)\n",
    "\n",
    "fit1 = SimpleExpSmoothing(ndata, initialization_method=\"heuristic\").fit(\n",
    "    smoothing_level=0.2, optimized=False\n",
    ")\n",
    "fcast1 = fit1.forecast(3).rename(r\"$\\alpha=0.2$\")\n",
    "fit2 = SimpleExpSmoothing(ndata, initialization_method=\"heuristic\").fit(\n",
    "    smoothing_level=0.6, optimized=False\n",
    ")\n",
    "fcast2 = fit2.forecast(3).rename(r\"$\\alpha=0.6$\")\n",
    "\n",
    "plt.figure(figsize=(12, 8))\n",
    "plt.plot(ndata, marker=\"o\", color=\"black\")\n",
    "plt.plot(fit1.fittedvalues, marker=\"o\", color=\"blue\")\n",
    "(line1,) = plt.plot(fcast1, marker=\"o\", color=\"blue\")\n",
    "plt.plot(fit2.fittedvalues, marker=\"o\", color=\"red\")\n",
    "(line2,) = plt.plot(fcast2, marker=\"o\", color=\"red\")\n",
    "plt.legend([line1,line2], [fcast1.name, fcast2.name])"
   ]
  },
  {
   "cell_type": "markdown",
   "id": "41fd5d01",
   "metadata": {},
   "source": [
    "Looking at the graph above, focusing on smoothing constant of 0.6, we can expect the avereage marriage age in United States to moderately increase to near 26.5. On the other hand, the most recent 2014 data reached 27, which was a ubrupt increase. Comparing to the actual outcome that we have gathered from our original data, the average marriage rate was recorded to be 27.1 in 2015, which is significantly higher than our forecast using the Simple Exponential Smoothing (alpha = 0.6). Thus, our forecast using the Simple Exponential Smoothing seems a bit lower than what it should be regarding the trend we witness where we suggest another trend model to better forecast the data."
   ]
  },
  {
   "cell_type": "markdown",
   "id": "71e317d8",
   "metadata": {},
   "source": [
    "### Total Net Worth Percentage"
   ]
  },
  {
   "cell_type": "code",
   "execution_count": 61,
   "id": "8fc027fd",
   "metadata": {
    "scrolled": false
   },
   "outputs": [
    {
     "name": "stdout",
     "output_type": "stream",
     "text": [
      "DatetimeIndex(['1990-12-31', '1991-12-31', '1992-12-31', '1993-12-31',\n",
      "               '1994-12-31', '1995-12-31', '1996-12-31', '1997-12-31',\n",
      "               '1998-12-31', '1999-12-31', '2000-12-31', '2001-12-31',\n",
      "               '2002-12-31', '2003-12-31', '2004-12-31', '2005-12-31',\n",
      "               '2006-12-31', '2007-12-31', '2008-12-31', '2009-12-31',\n",
      "               '2010-12-31', '2011-12-31', '2012-12-31', '2013-12-31',\n",
      "               '2014-12-31'],\n",
      "              dtype='datetime64[ns]', freq='A-DEC')\n"
     ]
    },
    {
     "data": {
      "text/plain": [
       "<matplotlib.legend.Legend at 0x7f8fc87df250>"
      ]
     },
     "execution_count": 61,
     "metadata": {},
     "output_type": "execute_result"
    },
    {
     "data": {
      "image/png": "[encoded data removed]",
      "text/plain": [
       "<Figure size 864x576 with 1 Axes>"
      ]
     },
     "metadata": {
      "needs_background": "light"
     },
     "output_type": "display_data"
    }
   ],
   "source": [
    "networth = us_df[['TotalNetWorth']]\n",
    "networth1 = networth.values.reshape(-1).tolist()\n",
    "\n",
    "data = networth1\n",
    "index = pd.date_range(start = \"1990\", end=\"2015\", freq = \"A\")\n",
    "ndata = pd.Series(data,index)\n",
    "print(index)\n",
    "\n",
    "fit1 = SimpleExpSmoothing(ndata, initialization_method=\"heuristic\").fit(\n",
    "    smoothing_level=0.2, optimized=False\n",
    ")\n",
    "fcast1 = fit1.forecast(3).rename(r\"$\\alpha=0.2$\")\n",
    "fit2 = SimpleExpSmoothing(ndata, initialization_method=\"heuristic\").fit(\n",
    "    smoothing_level=0.6, optimized=False\n",
    ")\n",
    "fcast2 = fit2.forecast(3).rename(r\"$\\alpha=0.6$\")\n",
    "\n",
    "plt.figure(figsize=(12, 8))\n",
    "plt.plot(ndata, marker=\"o\", color=\"black\")\n",
    "plt.plot(fit1.fittedvalues, marker=\"o\", color=\"blue\")\n",
    "(line1,) = plt.plot(fcast1, marker=\"o\", color=\"blue\")\n",
    "plt.plot(fit2.fittedvalues, marker=\"o\", color=\"red\")\n",
    "(line2,) = plt.plot(fcast2, marker=\"o\", color=\"red\")\n",
    "plt.legend([line1,line2], [fcast1.name, fcast2.name])"
   ]
  },
  {
   "cell_type": "markdown",
   "id": "faaf3ebe",
   "metadata": {},
   "source": [
    "Looking at the graph above, focusing on smoothing constant of 0.6, we can expect the total net worth percentage in United States to significantly increase to near 2.75 billion. On the other hand, the most recent 2014 data reached above 3.18 billion, which was an ubrupt increase and much higher than our forecast. As our forecast for 2015 is lower than the actual data for 2014 and 2015, the Simple Exponential Smoothing method might not be the perfect forecasting model to use for total net worth percentage where we suggest using other trend model for future uses. "
   ]
  },
  {
   "cell_type": "markdown",
   "id": "5cfc3113",
   "metadata": {},
   "source": [
    "### Births Outside of Marriage Percentage"
   ]
  },
  {
   "cell_type": "code",
   "execution_count": 62,
   "id": "da7d749c",
   "metadata": {},
   "outputs": [
    {
     "name": "stdout",
     "output_type": "stream",
     "text": [
      "DatetimeIndex(['1990-12-31', '1991-12-31', '1992-12-31', '1993-12-31',\n",
      "               '1994-12-31', '1995-12-31', '1996-12-31', '1997-12-31',\n",
      "               '1998-12-31', '1999-12-31', '2000-12-31', '2001-12-31',\n",
      "               '2002-12-31', '2003-12-31', '2004-12-31', '2005-12-31',\n",
      "               '2006-12-31', '2007-12-31', '2008-12-31', '2009-12-31',\n",
      "               '2010-12-31', '2011-12-31', '2012-12-31', '2013-12-31',\n",
      "               '2014-12-31'],\n",
      "              dtype='datetime64[ns]', freq='A-DEC')\n"
     ]
    },
    {
     "data": {
      "text/plain": [
       "<matplotlib.legend.Legend at 0x7f8fc8eef850>"
      ]
     },
     "execution_count": 62,
     "metadata": {},
     "output_type": "execute_result"
    },
    {
     "data": {
      "image/png": "[encoded data removed]",
      "text/plain": [
       "<Figure size 864x576 with 1 Axes>"
      ]
     },
     "metadata": {
      "needs_background": "light"
     },
     "output_type": "display_data"
    }
   ],
   "source": [
    "birth = us_df[['BirthsOutsideOfMarriagePercentage']]\n",
    "birth1 = birth.values.reshape(-1).tolist()\n",
    "\n",
    "data = birth1\n",
    "index = pd.date_range(start = \"1990\", end=\"2015\", freq = \"A\")\n",
    "ndata = pd.Series(data,index)\n",
    "print(index)\n",
    "\n",
    "fit1 = SimpleExpSmoothing(ndata, initialization_method=\"heuristic\").fit(\n",
    "    smoothing_level=0.2, optimized=False\n",
    ")\n",
    "fcast1 = fit1.forecast(3).rename(r\"$\\alpha=0.2$\")\n",
    "fit2 = SimpleExpSmoothing(ndata, initialization_method=\"heuristic\").fit(\n",
    "    smoothing_level=0.6, optimized=False\n",
    ")\n",
    "fcast2 = fit2.forecast(3).rename(r\"$\\alpha=0.6$\")\n",
    "\n",
    "plt.figure(figsize=(12, 8))\n",
    "plt.plot(ndata, marker=\"o\", color=\"black\")\n",
    "plt.plot(fit1.fittedvalues, marker=\"o\", color=\"blue\")\n",
    "(line1,) = plt.plot(fcast1, marker=\"o\", color=\"blue\")\n",
    "plt.plot(fit2.fittedvalues, marker=\"o\", color=\"red\")\n",
    "(line2,) = plt.plot(fcast2, marker=\"o\", color=\"red\")\n",
    "plt.legend([line1,line2], [fcast1.name, fcast2.name])"
   ]
  },
  {
   "cell_type": "markdown",
   "id": "7a211b7b",
   "metadata": {},
   "source": [
    "Looking at the graph above, focusing on smoothing constant of 0.6, we can expect the births outside of marriage percentage in United States to slightly decrease to near 40.6. Our model using smoothing constant of 0.6 seems to reasonably track and smooth the data, taking the increasing trend into account. Thus, we believe our Simple Exponential Smoothing model above should accurately forecast births outside of marriage percentage in 2015 to around 40.6."
   ]
  },
  {
   "cell_type": "markdown",
   "id": "9af7c763",
   "metadata": {},
   "source": [
    "### Cohabitation Percentage"
   ]
  },
  {
   "cell_type": "code",
   "execution_count": 63,
   "id": "4e1b9ffc",
   "metadata": {},
   "outputs": [
    {
     "name": "stdout",
     "output_type": "stream",
     "text": [
      "DatetimeIndex(['1990-12-31', '1991-12-31', '1992-12-31', '1993-12-31',\n",
      "               '1994-12-31', '1995-12-31', '1996-12-31', '1997-12-31',\n",
      "               '1998-12-31', '1999-12-31', '2000-12-31', '2001-12-31',\n",
      "               '2002-12-31', '2003-12-31', '2004-12-31', '2005-12-31',\n",
      "               '2006-12-31', '2007-12-31', '2008-12-31', '2009-12-31',\n",
      "               '2010-12-31', '2011-12-31', '2012-12-31', '2013-12-31',\n",
      "               '2014-12-31'],\n",
      "              dtype='datetime64[ns]', freq='A-DEC')\n"
     ]
    },
    {
     "data": {
      "text/plain": [
       "<matplotlib.legend.Legend at 0x7f8fa96027f0>"
      ]
     },
     "execution_count": 63,
     "metadata": {},
     "output_type": "execute_result"
    },
    {
     "data": {
      "image/png": "[encoded data removed]",
      "text/plain": [
       "<Figure size 864x576 with 1 Axes>"
      ]
     },
     "metadata": {
      "needs_background": "light"
     },
     "output_type": "display_data"
    }
   ],
   "source": [
    "cohab = us_df[['CohabitationPercentage']]\n",
    "cohab1 = cohab.values.reshape(-1).tolist()\n",
    "\n",
    "data = cohab1\n",
    "index = pd.date_range(start = \"1990\", end=\"2015\", freq = \"A\")\n",
    "ndata = pd.Series(data,index)\n",
    "print(index)\n",
    "\n",
    "fit1 = SimpleExpSmoothing(ndata, initialization_method=\"heuristic\").fit(\n",
    "    smoothing_level=0.2, optimized=False\n",
    ")\n",
    "fcast1 = fit1.forecast(3).rename(r\"$\\alpha=0.2$\")\n",
    "fit2 = SimpleExpSmoothing(ndata, initialization_method=\"heuristic\").fit(\n",
    "    smoothing_level=0.6, optimized=False\n",
    ")\n",
    "fcast2 = fit2.forecast(3).rename(r\"$\\alpha=0.6$\")\n",
    "\n",
    "plt.figure(figsize=(12, 8))\n",
    "plt.plot(ndata, marker=\"o\", color=\"black\")\n",
    "plt.plot(fit1.fittedvalues, marker=\"o\", color=\"blue\")\n",
    "(line1,) = plt.plot(fcast1, marker=\"o\", color=\"blue\")\n",
    "plt.plot(fit2.fittedvalues, marker=\"o\", color=\"red\")\n",
    "(line2,) = plt.plot(fcast2, marker=\"o\", color=\"red\")\n",
    "plt.legend([line1,line2], [fcast1.name, fcast2.name])"
   ]
  },
  {
   "cell_type": "markdown",
   "id": "1b40f0fd",
   "metadata": {},
   "source": [
    "Looking at the graph above, focusing on smoothing constant of 0.6, we can expect the cohabitation percentage in United States to moderately increase to near 7.3 and 7.4. Our model using smoothing constant of 0.6 seems to reasonably track and smooth the data, taking the increasing trend into account. Thus, we believe our Simple Exponential Smoothing model above should accurately forecast cohabitation percentage in 2015 to around 7.3~7.4."
   ]
  },
  {
   "cell_type": "markdown",
   "id": "1dba6eb7",
   "metadata": {},
   "source": [
    "## Conclusion \n",
    "\n",
    "Our project was to explore how age and wealth affect marriage rates in UK, Italy, Germany, Austria, Switzerland, Japan, Mexico, Canada, United States, and Australia. These countries were picked to compare on aspects of population and proximity to see whether there could be a correlation or a similar trend amongst them. We also explored how cohabitation and birth outside of marriage affect the marriage rates in the United States. \n",
    "\n",
    "We had a few hypotheses including: \n",
    "- H1: Countries within greater proximities will exhibit higher correlations between average marriage age and marriage rates.\n",
    "- H2: Countries with similar population sizes will exhibit higher correlations between average marriage and marriage rates, although not as high compared to countries within greater proximities. \n",
    "- H3: We predict that wealth would be the factor that shows the strongest correlation with marriage rates in the United States. \n",
    "- H4: We predict that each country would display the same/similar relationship between average marriage age and marriage rates. \n",
    "- H5: However, we predict that there won't be a significant correlation or similarity based on population size.\n",
    "- H6: We believe that there wouldn't be a correlation between population size and marriage.\n",
    "- H7: We also believe that there could be a correlation between the factors. We believe that there could be a strong correlation between cohabitation and birth outside of marriage and a strong correlation betwen age and wealth.\n",
    "\n",
    "We cleaned our data, found summary statistics, and plotted the marriage rates and average marriage age of all the countries mentioned to see the overall trend, where we specifically described the trends above. Overall, we could see a decreasing trend in crude marriage globally throughout the years while the global average marriage age has increased over the years. This supported our hypothesis 4, predicting that each country would display the same/similar relationship between average marriage age and marriage rates.  \n",
    "\n",
    "In terms of H1: Countries within greater proximities will exhibit higher correlations between average marriage age and marriage rates, this was supported in our results, where we found that countries within greater proximities like UK, Italy and Germany exhibited higher correlations between average marriage age and crude marriage rates. \n",
    "\n",
    "For H2: countries with similar population sizes will exhibit higher correlations between average marriage and marriage rates, although not as high compared to countries within greater proximities, H2 was also supported which was interesting to see that in the comparison between Germany, Italy, and UK, Germany had a significantly lower correlation in relative to the other two (Germany: -0.75, UK: -0.97, Italy: -0.98) which may suggest that population size could have a large effect on correlation between the two variables. Similarly, for Japan and Mexico (which was mainly used to compare the population size) shows that there are high correlations but not as high compared to countries within greater proximities. In addition, H2 was rather not evident in the comparison between Austria and Switzerland, where they are compared for both proximity and population size, where the difference between the correlation of the 2 variables (age and marriage) are not as similar as we expected. \n",
    "\n",
    "In terms of H3: we predict that wealth would be the factor that shows the strongest correlation with marriage rates in the United States, through our correlation matrix, we could see that wealth wasn’t the factor that shows the strongest correlation with marriage rates in the US (-0.95) but rather births outside of marriage percentage (-0.97). \n",
    "\n",
    "For H5 and H6, it was challenging to conclude any relevant data that could support/reject our hypothesis so if we had more time, I think we should have explored deeper into this aspect. \n",
    "\n",
    "Finally, for H7, H7 was supported in terms of how there are correlations between the factors and there was a strong correlation between cohabitation and birth outside of marriage of 0.94 but there was a stronger correlation between age and wealth. \n",
    "\n",
    "Running the t-tests on linear regression using OSL summary, the summary displays high r^2 values for relationships between the average marriage age and the crude marriage rate, births outside of marriage percentage and crude marriage rate and cohabitation percentage and the crude marriage rate. This shows how the regression lines is a good fit for the relationship between these variables. In addition, the OLS generated p-values that are all around 0.000, allowing us to conclude that there is a significant linear relationship between the variables at the significance level of 5%; we are able to reject the null hypotheses that there are no significant linear relationships between the variables. \n",
    "\n",
    "In conclusion, we were able to find data that supported most of our hypotheses and realized very interesting insights about the correlation between marriage rates and other factors including age, wealth, births outside of marriage, and cohabitation. "
   ]
  }
 ],
 "metadata": {
  "kernelspec": {
   "display_name": "Python 3 (ipykernel)",
   "language": "python",
   "name": "python3"
  },
  "language_info": {
   "codemirror_mode": {
    "name": "ipython",
    "version": 3
   },
   "file_extension": ".py",
   "mimetype": "text/x-python",
   "name": "python",
   "nbconvert_exporter": "python",
   "pygments_lexer": "ipython3",
   "version": "3.9.12"
  }
 },
 "nbformat": 4,
 "nbformat_minor": 5
}
